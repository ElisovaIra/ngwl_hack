{
 "cells": [
  {
   "cell_type": "code",
   "execution_count": 19,
   "metadata": {
    "ExecuteTime": {
     "end_time": "2020-10-17T09:41:59.696066Z",
     "start_time": "2020-10-17T09:41:59.693997Z"
    }
   },
   "outputs": [],
   "source": [
    "import pandas as pd\n",
    "import numpy as np\n",
    "import datetime"
   ]
  },
  {
   "cell_type": "markdown",
   "metadata": {},
   "source": [
    "# Train"
   ]
  },
  {
   "cell_type": "code",
   "execution_count": 4,
   "metadata": {
    "ExecuteTime": {
     "end_time": "2020-10-17T09:02:08.585812Z",
     "start_time": "2020-10-17T09:02:08.333564Z"
    }
   },
   "outputs": [],
   "source": [
    "train = pd.read_csv('train/train.csv')"
   ]
  },
  {
   "cell_type": "code",
   "execution_count": 5,
   "metadata": {
    "ExecuteTime": {
     "end_time": "2020-10-17T09:02:13.913876Z",
     "start_time": "2020-10-17T09:02:13.906470Z"
    }
   },
   "outputs": [
    {
     "data": {
      "text/plain": [
       "(1159576, 3)"
      ]
     },
     "execution_count": 5,
     "metadata": {},
     "output_type": "execute_result"
    }
   ],
   "source": [
    "train.shape"
   ]
  },
  {
   "cell_type": "code",
   "execution_count": 6,
   "metadata": {
    "ExecuteTime": {
     "end_time": "2020-10-17T09:02:16.705778Z",
     "start_time": "2020-10-17T09:02:16.691147Z"
    }
   },
   "outputs": [
    {
     "data": {
      "text/html": [
       "<div>\n",
       "<style scoped>\n",
       "    .dataframe tbody tr th:only-of-type {\n",
       "        vertical-align: middle;\n",
       "    }\n",
       "\n",
       "    .dataframe tbody tr th {\n",
       "        vertical-align: top;\n",
       "    }\n",
       "\n",
       "    .dataframe thead th {\n",
       "        text-align: right;\n",
       "    }\n",
       "</style>\n",
       "<table border=\"1\" class=\"dataframe\">\n",
       "  <thead>\n",
       "    <tr style=\"text-align: right;\">\n",
       "      <th></th>\n",
       "      <th>phone_id</th>\n",
       "      <th>order_completed_at</th>\n",
       "      <th>target</th>\n",
       "    </tr>\n",
       "  </thead>\n",
       "  <tbody>\n",
       "    <tr>\n",
       "      <th>0</th>\n",
       "      <td>19843</td>\n",
       "      <td>2020-01</td>\n",
       "      <td>1.0</td>\n",
       "    </tr>\n",
       "    <tr>\n",
       "      <th>1</th>\n",
       "      <td>19843</td>\n",
       "      <td>2020-02</td>\n",
       "      <td>0.0</td>\n",
       "    </tr>\n",
       "    <tr>\n",
       "      <th>2</th>\n",
       "      <td>19843</td>\n",
       "      <td>2020-03</td>\n",
       "      <td>0.0</td>\n",
       "    </tr>\n",
       "    <tr>\n",
       "      <th>3</th>\n",
       "      <td>19843</td>\n",
       "      <td>2020-04</td>\n",
       "      <td>0.0</td>\n",
       "    </tr>\n",
       "    <tr>\n",
       "      <th>4</th>\n",
       "      <td>19843</td>\n",
       "      <td>2020-05</td>\n",
       "      <td>0.0</td>\n",
       "    </tr>\n",
       "    <tr>\n",
       "      <th>...</th>\n",
       "      <td>...</td>\n",
       "      <td>...</td>\n",
       "      <td>...</td>\n",
       "    </tr>\n",
       "    <tr>\n",
       "      <th>1159571</th>\n",
       "      <td>23853</td>\n",
       "      <td>2020-03</td>\n",
       "      <td>0.0</td>\n",
       "    </tr>\n",
       "    <tr>\n",
       "      <th>1159572</th>\n",
       "      <td>23853</td>\n",
       "      <td>2020-04</td>\n",
       "      <td>0.0</td>\n",
       "    </tr>\n",
       "    <tr>\n",
       "      <th>1159573</th>\n",
       "      <td>23853</td>\n",
       "      <td>2020-05</td>\n",
       "      <td>0.0</td>\n",
       "    </tr>\n",
       "    <tr>\n",
       "      <th>1159574</th>\n",
       "      <td>23853</td>\n",
       "      <td>2020-06</td>\n",
       "      <td>1.0</td>\n",
       "    </tr>\n",
       "    <tr>\n",
       "      <th>1159575</th>\n",
       "      <td>23853</td>\n",
       "      <td>2020-07</td>\n",
       "      <td>1.0</td>\n",
       "    </tr>\n",
       "  </tbody>\n",
       "</table>\n",
       "<p>1159576 rows × 3 columns</p>\n",
       "</div>"
      ],
      "text/plain": [
       "         phone_id order_completed_at  target\n",
       "0           19843            2020-01     1.0\n",
       "1           19843            2020-02     0.0\n",
       "2           19843            2020-03     0.0\n",
       "3           19843            2020-04     0.0\n",
       "4           19843            2020-05     0.0\n",
       "...           ...                ...     ...\n",
       "1159571     23853            2020-03     0.0\n",
       "1159572     23853            2020-04     0.0\n",
       "1159573     23853            2020-05     0.0\n",
       "1159574     23853            2020-06     1.0\n",
       "1159575     23853            2020-07     1.0\n",
       "\n",
       "[1159576 rows x 3 columns]"
      ]
     },
     "execution_count": 6,
     "metadata": {},
     "output_type": "execute_result"
    }
   ],
   "source": [
    "train"
   ]
  },
  {
   "cell_type": "code",
   "execution_count": 87,
   "metadata": {
    "ExecuteTime": {
     "end_time": "2020-10-17T11:40:18.480498Z",
     "start_time": "2020-10-17T11:40:18.476921Z"
    }
   },
   "outputs": [
    {
     "data": {
      "text/plain": [
       "'2020-01'"
      ]
     },
     "execution_count": 87,
     "metadata": {},
     "output_type": "execute_result"
    }
   ],
   "source": [
    "train.iloc[0]['order_completed_at']"
   ]
  },
  {
   "cell_type": "markdown",
   "metadata": {},
   "source": [
    "# submission"
   ]
  },
  {
   "cell_type": "code",
   "execution_count": 60,
   "metadata": {
    "ExecuteTime": {
     "end_time": "2020-10-17T10:25:07.428692Z",
     "start_time": "2020-10-17T10:25:07.402670Z"
    }
   },
   "outputs": [
    {
     "data": {
      "text/plain": [
       "(214609, 2)"
      ]
     },
     "execution_count": 60,
     "metadata": {},
     "output_type": "execute_result"
    }
   ],
   "source": [
    "submission = pd.read_csv('sample_submission.csv', sep=';')\n",
    "submission.shape"
   ]
  },
  {
   "cell_type": "code",
   "execution_count": 61,
   "metadata": {
    "ExecuteTime": {
     "end_time": "2020-10-17T10:25:08.013779Z",
     "start_time": "2020-10-17T10:25:08.006405Z"
    }
   },
   "outputs": [
    {
     "data": {
      "text/html": [
       "<div>\n",
       "<style scoped>\n",
       "    .dataframe tbody tr th:only-of-type {\n",
       "        vertical-align: middle;\n",
       "    }\n",
       "\n",
       "    .dataframe tbody tr th {\n",
       "        vertical-align: top;\n",
       "    }\n",
       "\n",
       "    .dataframe thead th {\n",
       "        text-align: right;\n",
       "    }\n",
       "</style>\n",
       "<table border=\"1\" class=\"dataframe\">\n",
       "  <thead>\n",
       "    <tr style=\"text-align: right;\">\n",
       "      <th></th>\n",
       "      <th>Id</th>\n",
       "      <th>Predicted</th>\n",
       "    </tr>\n",
       "  </thead>\n",
       "  <tbody>\n",
       "    <tr>\n",
       "      <th>0</th>\n",
       "      <td>19843</td>\n",
       "      <td>NaN</td>\n",
       "    </tr>\n",
       "    <tr>\n",
       "      <th>1</th>\n",
       "      <td>471287</td>\n",
       "      <td>NaN</td>\n",
       "    </tr>\n",
       "    <tr>\n",
       "      <th>2</th>\n",
       "      <td>342522</td>\n",
       "      <td>NaN</td>\n",
       "    </tr>\n",
       "    <tr>\n",
       "      <th>3</th>\n",
       "      <td>457799</td>\n",
       "      <td>NaN</td>\n",
       "    </tr>\n",
       "    <tr>\n",
       "      <th>4</th>\n",
       "      <td>233778</td>\n",
       "      <td>NaN</td>\n",
       "    </tr>\n",
       "    <tr>\n",
       "      <th>...</th>\n",
       "      <td>...</td>\n",
       "      <td>...</td>\n",
       "    </tr>\n",
       "    <tr>\n",
       "      <th>214604</th>\n",
       "      <td>16841</td>\n",
       "      <td>NaN</td>\n",
       "    </tr>\n",
       "    <tr>\n",
       "      <th>214605</th>\n",
       "      <td>69348</td>\n",
       "      <td>NaN</td>\n",
       "    </tr>\n",
       "    <tr>\n",
       "      <th>214606</th>\n",
       "      <td>594974</td>\n",
       "      <td>NaN</td>\n",
       "    </tr>\n",
       "    <tr>\n",
       "      <th>214607</th>\n",
       "      <td>320024</td>\n",
       "      <td>NaN</td>\n",
       "    </tr>\n",
       "    <tr>\n",
       "      <th>214608</th>\n",
       "      <td>23853</td>\n",
       "      <td>NaN</td>\n",
       "    </tr>\n",
       "  </tbody>\n",
       "</table>\n",
       "<p>214609 rows × 2 columns</p>\n",
       "</div>"
      ],
      "text/plain": [
       "            Id  Predicted\n",
       "0        19843        NaN\n",
       "1       471287        NaN\n",
       "2       342522        NaN\n",
       "3       457799        NaN\n",
       "4       233778        NaN\n",
       "...        ...        ...\n",
       "214604   16841        NaN\n",
       "214605   69348        NaN\n",
       "214606  594974        NaN\n",
       "214607  320024        NaN\n",
       "214608   23853        NaN\n",
       "\n",
       "[214609 rows x 2 columns]"
      ]
     },
     "execution_count": 61,
     "metadata": {},
     "output_type": "execute_result"
    }
   ],
   "source": [
    "submission"
   ]
  },
  {
   "cell_type": "code",
   "execution_count": 62,
   "metadata": {
    "ExecuteTime": {
     "end_time": "2020-10-17T10:25:34.077712Z",
     "start_time": "2020-10-17T10:25:34.062308Z"
    }
   },
   "outputs": [
    {
     "data": {
      "text/plain": [
       "214609"
      ]
     },
     "execution_count": 62,
     "metadata": {},
     "output_type": "execute_result"
    }
   ],
   "source": [
    "submission['Id'].nunique()"
   ]
  },
  {
   "cell_type": "code",
   "execution_count": null,
   "metadata": {},
   "outputs": [],
   "source": [
    "train.merge(submission)"
   ]
  },
  {
   "cell_type": "markdown",
   "metadata": {},
   "source": [
    "# Target"
   ]
  },
  {
   "cell_type": "code",
   "execution_count": 10,
   "metadata": {
    "ExecuteTime": {
     "end_time": "2020-10-17T09:09:15.186971Z",
     "start_time": "2020-10-17T09:09:14.958854Z"
    }
   },
   "outputs": [
    {
     "data": {
      "text/html": [
       "<style  type=\"text/css\" >\n",
       "    #T_6de539a0_1058_11eb_babf_48df37a91c60row0_col0 {\n",
       "            background-color:  #ffff00;\n",
       "            color:  #000000;\n",
       "        }    #T_6de539a0_1058_11eb_babf_48df37a91c60row0_col1 {\n",
       "            background-color:  #ffff00;\n",
       "            color:  #000000;\n",
       "        }    #T_6de539a0_1058_11eb_babf_48df37a91c60row0_col2 {\n",
       "            background-color:  #ffff00;\n",
       "            color:  #000000;\n",
       "        }    #T_6de539a0_1058_11eb_babf_48df37a91c60row0_col3 {\n",
       "            background-color:  #ff00ff;\n",
       "            color:  #f1f1f1;\n",
       "        }    #T_6de539a0_1058_11eb_babf_48df37a91c60row0_col4 {\n",
       "            background-color:  #ff00ff;\n",
       "            color:  #f1f1f1;\n",
       "        }    #T_6de539a0_1058_11eb_babf_48df37a91c60row0_col5 {\n",
       "            background-color:  #ffff00;\n",
       "            color:  #000000;\n",
       "        }    #T_6de539a0_1058_11eb_babf_48df37a91c60row0_col6 {\n",
       "            background-color:  #ffff00;\n",
       "            color:  #000000;\n",
       "        }    #T_6de539a0_1058_11eb_babf_48df37a91c60row1_col0 {\n",
       "            background-color:  #ff00ff;\n",
       "            color:  #f1f1f1;\n",
       "        }    #T_6de539a0_1058_11eb_babf_48df37a91c60row1_col1 {\n",
       "            background-color:  #ff00ff;\n",
       "            color:  #f1f1f1;\n",
       "        }    #T_6de539a0_1058_11eb_babf_48df37a91c60row1_col2 {\n",
       "            background-color:  #ff00ff;\n",
       "            color:  #f1f1f1;\n",
       "        }    #T_6de539a0_1058_11eb_babf_48df37a91c60row1_col3 {\n",
       "            background-color:  #ffff00;\n",
       "            color:  #000000;\n",
       "        }    #T_6de539a0_1058_11eb_babf_48df37a91c60row1_col4 {\n",
       "            background-color:  #ffff00;\n",
       "            color:  #000000;\n",
       "        }    #T_6de539a0_1058_11eb_babf_48df37a91c60row1_col5 {\n",
       "            background-color:  #ff00ff;\n",
       "            color:  #f1f1f1;\n",
       "        }    #T_6de539a0_1058_11eb_babf_48df37a91c60row1_col6 {\n",
       "            background-color:  #ff00ff;\n",
       "            color:  #f1f1f1;\n",
       "        }</style><table id=\"T_6de539a0_1058_11eb_babf_48df37a91c60\" ><thead>    <tr>        <th class=\"index_name level0\" >order_completed_at</th>        <th class=\"col_heading level0 col0\" >2020-01</th>        <th class=\"col_heading level0 col1\" >2020-02</th>        <th class=\"col_heading level0 col2\" >2020-03</th>        <th class=\"col_heading level0 col3\" >2020-04</th>        <th class=\"col_heading level0 col4\" >2020-05</th>        <th class=\"col_heading level0 col5\" >2020-06</th>        <th class=\"col_heading level0 col6\" >2020-07</th>    </tr>    <tr>        <th class=\"index_name level0\" >target</th>        <th class=\"blank\" ></th>        <th class=\"blank\" ></th>        <th class=\"blank\" ></th>        <th class=\"blank\" ></th>        <th class=\"blank\" ></th>        <th class=\"blank\" ></th>        <th class=\"blank\" ></th>    </tr></thead><tbody>\n",
       "                <tr>\n",
       "                        <th id=\"T_6de539a0_1058_11eb_babf_48df37a91c60level0_row0\" class=\"row_heading level0 row0\" >0.0</th>\n",
       "                        <td id=\"T_6de539a0_1058_11eb_babf_48df37a91c60row0_col0\" class=\"data row0 col0\" >0.031947</td>\n",
       "                        <td id=\"T_6de539a0_1058_11eb_babf_48df37a91c60row0_col1\" class=\"data row0 col1\" >0.0363452</td>\n",
       "                        <td id=\"T_6de539a0_1058_11eb_babf_48df37a91c60row0_col2\" class=\"data row0 col2\" >0.0507729</td>\n",
       "                        <td id=\"T_6de539a0_1058_11eb_babf_48df37a91c60row0_col3\" class=\"data row0 col3\" >0.0543354</td>\n",
       "                        <td id=\"T_6de539a0_1058_11eb_babf_48df37a91c60row0_col4\" class=\"data row0 col4\" >0.0850707</td>\n",
       "                        <td id=\"T_6de539a0_1058_11eb_babf_48df37a91c60row0_col5\" class=\"data row0 col5\" >0.11021</td>\n",
       "                        <td id=\"T_6de539a0_1058_11eb_babf_48df37a91c60row0_col6\" class=\"data row0 col6\" >0.130916</td>\n",
       "            </tr>\n",
       "            <tr>\n",
       "                        <th id=\"T_6de539a0_1058_11eb_babf_48df37a91c60level0_row1\" class=\"row_heading level0 row1\" >1.0</th>\n",
       "                        <td id=\"T_6de539a0_1058_11eb_babf_48df37a91c60row1_col0\" class=\"data row1 col0\" >0.0194959</td>\n",
       "                        <td id=\"T_6de539a0_1058_11eb_babf_48df37a91c60row1_col1\" class=\"data row1 col1\" >0.0291831</td>\n",
       "                        <td id=\"T_6de539a0_1058_11eb_babf_48df37a91c60row1_col2\" class=\"data row1 col2\" >0.041322</td>\n",
       "                        <td id=\"T_6de539a0_1058_11eb_babf_48df37a91c60row1_col3\" class=\"data row1 col3\" >0.0835124</td>\n",
       "                        <td id=\"T_6de539a0_1058_11eb_babf_48df37a91c60row1_col4\" class=\"data row1 col4\" >0.10342</td>\n",
       "                        <td id=\"T_6de539a0_1058_11eb_babf_48df37a91c60row1_col5\" class=\"data row1 col5\" >0.109081</td>\n",
       "                        <td id=\"T_6de539a0_1058_11eb_babf_48df37a91c60row1_col6\" class=\"data row1 col6\" >0.114388</td>\n",
       "            </tr>\n",
       "    </tbody></table>"
      ],
      "text/plain": [
       "<pandas.io.formats.style.Styler at 0x7fd26e18b7f0>"
      ]
     },
     "execution_count": 10,
     "metadata": {},
     "output_type": "execute_result"
    }
   ],
   "source": [
    "pd.crosstab(train['target'], train['order_completed_at'], normalize=True).style.background_gradient(cmap='spring')"
   ]
  },
  {
   "cell_type": "code",
   "execution_count": 11,
   "metadata": {
    "ExecuteTime": {
     "end_time": "2020-10-17T09:10:14.202018Z",
     "start_time": "2020-10-17T09:10:14.086728Z"
    }
   },
   "outputs": [
    {
     "data": {
      "text/html": [
       "<style  type=\"text/css\" >\n",
       "    #T_911235fe_1058_11eb_babf_48df37a91c60row0_col0 {\n",
       "            background-color:  #ffff00;\n",
       "            color:  #000000;\n",
       "        }    #T_911235fe_1058_11eb_babf_48df37a91c60row0_col1 {\n",
       "            background-color:  #ffff00;\n",
       "            color:  #000000;\n",
       "        }    #T_911235fe_1058_11eb_babf_48df37a91c60row0_col2 {\n",
       "            background-color:  #ffff00;\n",
       "            color:  #000000;\n",
       "        }    #T_911235fe_1058_11eb_babf_48df37a91c60row0_col3 {\n",
       "            background-color:  #ff00ff;\n",
       "            color:  #f1f1f1;\n",
       "        }    #T_911235fe_1058_11eb_babf_48df37a91c60row0_col4 {\n",
       "            background-color:  #ff00ff;\n",
       "            color:  #f1f1f1;\n",
       "        }    #T_911235fe_1058_11eb_babf_48df37a91c60row0_col5 {\n",
       "            background-color:  #ffff00;\n",
       "            color:  #000000;\n",
       "        }    #T_911235fe_1058_11eb_babf_48df37a91c60row0_col6 {\n",
       "            background-color:  #ffff00;\n",
       "            color:  #000000;\n",
       "        }    #T_911235fe_1058_11eb_babf_48df37a91c60row1_col0 {\n",
       "            background-color:  #ff00ff;\n",
       "            color:  #f1f1f1;\n",
       "        }    #T_911235fe_1058_11eb_babf_48df37a91c60row1_col1 {\n",
       "            background-color:  #ff00ff;\n",
       "            color:  #f1f1f1;\n",
       "        }    #T_911235fe_1058_11eb_babf_48df37a91c60row1_col2 {\n",
       "            background-color:  #ff00ff;\n",
       "            color:  #f1f1f1;\n",
       "        }    #T_911235fe_1058_11eb_babf_48df37a91c60row1_col3 {\n",
       "            background-color:  #ffff00;\n",
       "            color:  #000000;\n",
       "        }    #T_911235fe_1058_11eb_babf_48df37a91c60row1_col4 {\n",
       "            background-color:  #ffff00;\n",
       "            color:  #000000;\n",
       "        }    #T_911235fe_1058_11eb_babf_48df37a91c60row1_col5 {\n",
       "            background-color:  #ff00ff;\n",
       "            color:  #f1f1f1;\n",
       "        }    #T_911235fe_1058_11eb_babf_48df37a91c60row1_col6 {\n",
       "            background-color:  #ff00ff;\n",
       "            color:  #f1f1f1;\n",
       "        }</style><table id=\"T_911235fe_1058_11eb_babf_48df37a91c60\" ><thead>    <tr>        <th class=\"index_name level0\" >order_completed_at</th>        <th class=\"col_heading level0 col0\" >2020-01</th>        <th class=\"col_heading level0 col1\" >2020-02</th>        <th class=\"col_heading level0 col2\" >2020-03</th>        <th class=\"col_heading level0 col3\" >2020-04</th>        <th class=\"col_heading level0 col4\" >2020-05</th>        <th class=\"col_heading level0 col5\" >2020-06</th>        <th class=\"col_heading level0 col6\" >2020-07</th>    </tr>    <tr>        <th class=\"index_name level0\" >target</th>        <th class=\"blank\" ></th>        <th class=\"blank\" ></th>        <th class=\"blank\" ></th>        <th class=\"blank\" ></th>        <th class=\"blank\" ></th>        <th class=\"blank\" ></th>        <th class=\"blank\" ></th>    </tr></thead><tbody>\n",
       "                <tr>\n",
       "                        <th id=\"T_911235fe_1058_11eb_babf_48df37a91c60level0_row0\" class=\"row_heading level0 row0\" >0.0</th>\n",
       "                        <td id=\"T_911235fe_1058_11eb_babf_48df37a91c60row0_col0\" class=\"data row0 col0\" >37045</td>\n",
       "                        <td id=\"T_911235fe_1058_11eb_babf_48df37a91c60row0_col1\" class=\"data row0 col1\" >42145</td>\n",
       "                        <td id=\"T_911235fe_1058_11eb_babf_48df37a91c60row0_col2\" class=\"data row0 col2\" >58875</td>\n",
       "                        <td id=\"T_911235fe_1058_11eb_babf_48df37a91c60row0_col3\" class=\"data row0 col3\" >63006</td>\n",
       "                        <td id=\"T_911235fe_1058_11eb_babf_48df37a91c60row0_col4\" class=\"data row0 col4\" >98646</td>\n",
       "                        <td id=\"T_911235fe_1058_11eb_babf_48df37a91c60row0_col5\" class=\"data row0 col5\" >127797</td>\n",
       "                        <td id=\"T_911235fe_1058_11eb_babf_48df37a91c60row0_col6\" class=\"data row0 col6\" >151807</td>\n",
       "            </tr>\n",
       "            <tr>\n",
       "                        <th id=\"T_911235fe_1058_11eb_babf_48df37a91c60level0_row1\" class=\"row_heading level0 row1\" >1.0</th>\n",
       "                        <td id=\"T_911235fe_1058_11eb_babf_48df37a91c60row1_col0\" class=\"data row1 col0\" >22607</td>\n",
       "                        <td id=\"T_911235fe_1058_11eb_babf_48df37a91c60row1_col1\" class=\"data row1 col1\" >33840</td>\n",
       "                        <td id=\"T_911235fe_1058_11eb_babf_48df37a91c60row1_col2\" class=\"data row1 col2\" >47916</td>\n",
       "                        <td id=\"T_911235fe_1058_11eb_babf_48df37a91c60row1_col3\" class=\"data row1 col3\" >96839</td>\n",
       "                        <td id=\"T_911235fe_1058_11eb_babf_48df37a91c60row1_col4\" class=\"data row1 col4\" >119923</td>\n",
       "                        <td id=\"T_911235fe_1058_11eb_babf_48df37a91c60row1_col5\" class=\"data row1 col5\" >126488</td>\n",
       "                        <td id=\"T_911235fe_1058_11eb_babf_48df37a91c60row1_col6\" class=\"data row1 col6\" >132642</td>\n",
       "            </tr>\n",
       "    </tbody></table>"
      ],
      "text/plain": [
       "<pandas.io.formats.style.Styler at 0x7fd1d287ed30>"
      ]
     },
     "execution_count": 11,
     "metadata": {},
     "output_type": "execute_result"
    }
   ],
   "source": [
    "pd.crosstab(train['target'], train['order_completed_at']).style.background_gradient(cmap='spring')"
   ]
  },
  {
   "cell_type": "markdown",
   "metadata": {},
   "source": [
    "# ship"
   ]
  },
  {
   "cell_type": "code",
   "execution_count": 16,
   "metadata": {
    "ExecuteTime": {
     "end_time": "2020-10-17T09:41:10.236830Z",
     "start_time": "2020-10-17T09:41:04.339716Z"
    }
   },
   "outputs": [],
   "source": [
    "shipments1 = pd.read_csv('shipments/shipments2020-01-01.csv')\n",
    "shipments3 = pd.read_csv('shipments/shipments2020-03-01.csv')\n",
    "shipments4 = pd.read_csv('shipments/shipments2020-04-30.csv')\n",
    "shipments6 = pd.read_csv('shipments/shipments2020-06-29.csv')"
   ]
  },
  {
   "cell_type": "code",
   "execution_count": 26,
   "metadata": {
    "ExecuteTime": {
     "end_time": "2020-10-17T09:43:48.071647Z",
     "start_time": "2020-10-17T09:43:48.052760Z"
    }
   },
   "outputs": [
    {
     "data": {
      "text/html": [
       "<div>\n",
       "<style scoped>\n",
       "    .dataframe tbody tr th:only-of-type {\n",
       "        vertical-align: middle;\n",
       "    }\n",
       "\n",
       "    .dataframe tbody tr th {\n",
       "        vertical-align: top;\n",
       "    }\n",
       "\n",
       "    .dataframe thead th {\n",
       "        text-align: right;\n",
       "    }\n",
       "</style>\n",
       "<table border=\"1\" class=\"dataframe\">\n",
       "  <thead>\n",
       "    <tr style=\"text-align: right;\">\n",
       "      <th></th>\n",
       "      <th>user_id</th>\n",
       "      <th>ship_address_id</th>\n",
       "      <th>shipment_id</th>\n",
       "      <th>order_id</th>\n",
       "      <th>order_created_at</th>\n",
       "      <th>order_completed_at</th>\n",
       "      <th>shipment_starts_at</th>\n",
       "      <th>retailer</th>\n",
       "      <th>s.order_state</th>\n",
       "      <th>shipment_state</th>\n",
       "      <th>...</th>\n",
       "      <th>total_cost</th>\n",
       "      <th>rate</th>\n",
       "      <th>dw_kind</th>\n",
       "      <th>promo_total</th>\n",
       "      <th>total_weight</th>\n",
       "      <th>platform</th>\n",
       "      <th>os</th>\n",
       "      <th>shipped_at</th>\n",
       "      <th>datetime</th>\n",
       "      <th>date</th>\n",
       "    </tr>\n",
       "  </thead>\n",
       "  <tbody>\n",
       "    <tr>\n",
       "      <th>0</th>\n",
       "      <td>11019</td>\n",
       "      <td>171906</td>\n",
       "      <td>322307</td>\n",
       "      <td>2156687</td>\n",
       "      <td>2017-08-03 21:25:23</td>\n",
       "      <td>2020-02-18 14:07:00</td>\n",
       "      <td>2020-02-20 07:00:00</td>\n",
       "      <td>METRO</td>\n",
       "      <td>complete</td>\n",
       "      <td>shipped</td>\n",
       "      <td>...</td>\n",
       "      <td>168.0</td>\n",
       "      <td>0</td>\n",
       "      <td>courier</td>\n",
       "      <td>0.0</td>\n",
       "      <td>30170</td>\n",
       "      <td>web</td>\n",
       "      <td>windows</td>\n",
       "      <td>2020-02-20 08:08:54</td>\n",
       "      <td>2020-02-20 08:08:54</td>\n",
       "      <td>2020-02-20</td>\n",
       "    </tr>\n",
       "    <tr>\n",
       "      <th>1</th>\n",
       "      <td>62278</td>\n",
       "      <td>278832</td>\n",
       "      <td>387023</td>\n",
       "      <td>3021953</td>\n",
       "      <td>2018-03-02 17:22:04</td>\n",
       "      <td>2020-01-03 13:09:26</td>\n",
       "      <td>2020-01-03 17:00:00</td>\n",
       "      <td>METRO</td>\n",
       "      <td>complete</td>\n",
       "      <td>shipped</td>\n",
       "      <td>...</td>\n",
       "      <td>98.0</td>\n",
       "      <td>0</td>\n",
       "      <td>courier</td>\n",
       "      <td>-150.0</td>\n",
       "      <td>11305</td>\n",
       "      <td>web</td>\n",
       "      <td>windows</td>\n",
       "      <td>2020-01-03 18:10:40</td>\n",
       "      <td>2020-01-03 18:10:40</td>\n",
       "      <td>2020-01-03</td>\n",
       "    </tr>\n",
       "    <tr>\n",
       "      <th>2</th>\n",
       "      <td>905126</td>\n",
       "      <td>468407</td>\n",
       "      <td>388943</td>\n",
       "      <td>3018198</td>\n",
       "      <td>2018-02-28 11:32:47</td>\n",
       "      <td>2020-02-12 12:39:28</td>\n",
       "      <td>2020-02-13 11:00:00</td>\n",
       "      <td>METRO</td>\n",
       "      <td>complete</td>\n",
       "      <td>shipped</td>\n",
       "      <td>...</td>\n",
       "      <td>98.0</td>\n",
       "      <td>5</td>\n",
       "      <td>courier</td>\n",
       "      <td>0.0</td>\n",
       "      <td>13589</td>\n",
       "      <td>app</td>\n",
       "      <td>ios</td>\n",
       "      <td>2020-02-13 12:33:53</td>\n",
       "      <td>2020-02-13 12:33:53</td>\n",
       "      <td>2020-02-13</td>\n",
       "    </tr>\n",
       "    <tr>\n",
       "      <th>3</th>\n",
       "      <td>21412</td>\n",
       "      <td>61962</td>\n",
       "      <td>421048</td>\n",
       "      <td>3030227</td>\n",
       "      <td>2018-03-07 20:37:27</td>\n",
       "      <td>2020-01-25 11:58:56</td>\n",
       "      <td>2020-01-25 18:00:00</td>\n",
       "      <td>METRO</td>\n",
       "      <td>complete</td>\n",
       "      <td>shipped</td>\n",
       "      <td>...</td>\n",
       "      <td>158.0</td>\n",
       "      <td>0</td>\n",
       "      <td>courier</td>\n",
       "      <td>0.0</td>\n",
       "      <td>9726</td>\n",
       "      <td>web</td>\n",
       "      <td>mac</td>\n",
       "      <td>2020-01-25 19:55:32</td>\n",
       "      <td>2020-01-25 19:55:32</td>\n",
       "      <td>2020-01-25</td>\n",
       "    </tr>\n",
       "    <tr>\n",
       "      <th>4</th>\n",
       "      <td>42110</td>\n",
       "      <td>378297</td>\n",
       "      <td>442659</td>\n",
       "      <td>2923996</td>\n",
       "      <td>2017-12-24 11:19:04</td>\n",
       "      <td>2020-01-07 14:30:44</td>\n",
       "      <td>2020-01-07 19:00:00</td>\n",
       "      <td>METRO</td>\n",
       "      <td>complete</td>\n",
       "      <td>shipped</td>\n",
       "      <td>...</td>\n",
       "      <td>163.0</td>\n",
       "      <td>0</td>\n",
       "      <td>courier</td>\n",
       "      <td>0.0</td>\n",
       "      <td>30323</td>\n",
       "      <td>web</td>\n",
       "      <td>windows</td>\n",
       "      <td>2020-01-07 19:51:37</td>\n",
       "      <td>2020-01-07 19:51:37</td>\n",
       "      <td>2020-01-07</td>\n",
       "    </tr>\n",
       "  </tbody>\n",
       "</table>\n",
       "<p>5 rows × 22 columns</p>\n",
       "</div>"
      ],
      "text/plain": [
       "   user_id  ship_address_id  shipment_id  order_id     order_created_at  \\\n",
       "0    11019           171906       322307   2156687  2017-08-03 21:25:23   \n",
       "1    62278           278832       387023   3021953  2018-03-02 17:22:04   \n",
       "2   905126           468407       388943   3018198  2018-02-28 11:32:47   \n",
       "3    21412            61962       421048   3030227  2018-03-07 20:37:27   \n",
       "4    42110           378297       442659   2923996  2017-12-24 11:19:04   \n",
       "\n",
       "    order_completed_at   shipment_starts_at retailer s.order_state  \\\n",
       "0  2020-02-18 14:07:00  2020-02-20 07:00:00    METRO      complete   \n",
       "1  2020-01-03 13:09:26  2020-01-03 17:00:00    METRO      complete   \n",
       "2  2020-02-12 12:39:28  2020-02-13 11:00:00    METRO      complete   \n",
       "3  2020-01-25 11:58:56  2020-01-25 18:00:00    METRO      complete   \n",
       "4  2020-01-07 14:30:44  2020-01-07 19:00:00    METRO      complete   \n",
       "\n",
       "  shipment_state  ... total_cost  rate  dw_kind  promo_total total_weight  \\\n",
       "0        shipped  ...      168.0     0  courier          0.0        30170   \n",
       "1        shipped  ...       98.0     0  courier       -150.0        11305   \n",
       "2        shipped  ...       98.0     5  courier          0.0        13589   \n",
       "3        shipped  ...      158.0     0  courier          0.0         9726   \n",
       "4        shipped  ...      163.0     0  courier          0.0        30323   \n",
       "\n",
       "   platform       os           shipped_at            datetime        date  \n",
       "0       web  windows  2020-02-20 08:08:54 2020-02-20 08:08:54  2020-02-20  \n",
       "1       web  windows  2020-01-03 18:10:40 2020-01-03 18:10:40  2020-01-03  \n",
       "2       app      ios  2020-02-13 12:33:53 2020-02-13 12:33:53  2020-02-13  \n",
       "3       web      mac  2020-01-25 19:55:32 2020-01-25 19:55:32  2020-01-25  \n",
       "4       web  windows  2020-01-07 19:51:37 2020-01-07 19:51:37  2020-01-07  \n",
       "\n",
       "[5 rows x 22 columns]"
      ]
     },
     "execution_count": 26,
     "metadata": {},
     "output_type": "execute_result"
    }
   ],
   "source": [
    "shipments1.head()"
   ]
  },
  {
   "cell_type": "code",
   "execution_count": 21,
   "metadata": {
    "ExecuteTime": {
     "end_time": "2020-10-17T09:42:48.650002Z",
     "start_time": "2020-10-17T09:42:48.646216Z"
    }
   },
   "outputs": [
    {
     "data": {
      "text/plain": [
       "Timestamp('2020-02-20 08:08:54')"
      ]
     },
     "execution_count": 21,
     "metadata": {},
     "output_type": "execute_result"
    }
   ],
   "source": [
    "shipments1.iloc[0]['datetime']"
   ]
  },
  {
   "cell_type": "code",
   "execution_count": 25,
   "metadata": {
    "ExecuteTime": {
     "end_time": "2020-10-17T09:43:44.670896Z",
     "start_time": "2020-10-17T09:43:44.178661Z"
    }
   },
   "outputs": [],
   "source": [
    "shipments1['datetime'] = pd.to_datetime(shipments1['shipped_at'])\n",
    "shipments1['date'] = shipments1['datetime'].apply(lambda x: x.date())\n",
    "shipments1['month'] = shipments1['date'].apply(lambda x: x.month)"
   ]
  },
  {
   "cell_type": "code",
   "execution_count": 31,
   "metadata": {
    "ExecuteTime": {
     "end_time": "2020-10-17T09:45:58.906890Z",
     "start_time": "2020-10-17T09:45:58.900753Z"
    }
   },
   "outputs": [
    {
     "data": {
      "text/plain": [
       "2.0    73344\n",
       "1.0    49699\n",
       "3.0     1719\n",
       "Name: month, dtype: int64"
      ]
     },
     "execution_count": 31,
     "metadata": {},
     "output_type": "execute_result"
    }
   ],
   "source": [
    "shipments1['month'].value_counts()"
   ]
  },
  {
   "attachments": {
    "image.png": {
     "image/png": "[encoded data removed]"
    }
   },
   "cell_type": "markdown",
   "metadata": {
    "ExecuteTime": {
     "end_time": "2020-10-17T09:45:48.894020Z",
     "start_time": "2020-10-17T09:45:48.861175Z"
    }
   },
   "source": [
    "# address\n",
    "\n",
    "![image.png](attachment:image.png)"
   ]
  },
  {
   "cell_type": "code",
   "execution_count": 51,
   "metadata": {
    "ExecuteTime": {
     "end_time": "2020-10-17T10:16:17.976293Z",
     "start_time": "2020-10-17T10:16:17.081644Z"
    }
   },
   "outputs": [],
   "source": [
    "address = pd.read_csv('misc/addresses.csv')\n",
    "address = address.drop_duplicates()"
   ]
  },
  {
   "cell_type": "code",
   "execution_count": 50,
   "metadata": {
    "ExecuteTime": {
     "end_time": "2020-10-17T10:14:41.869740Z",
     "start_time": "2020-10-17T10:14:41.861233Z"
    }
   },
   "outputs": [
    {
     "data": {
      "text/html": [
       "<div>\n",
       "<style scoped>\n",
       "    .dataframe tbody tr th:only-of-type {\n",
       "        vertical-align: middle;\n",
       "    }\n",
       "\n",
       "    .dataframe tbody tr th {\n",
       "        vertical-align: top;\n",
       "    }\n",
       "\n",
       "    .dataframe thead th {\n",
       "        text-align: right;\n",
       "    }\n",
       "</style>\n",
       "<table border=\"1\" class=\"dataframe\">\n",
       "  <thead>\n",
       "    <tr style=\"text-align: right;\">\n",
       "      <th></th>\n",
       "      <th>id</th>\n",
       "      <th>phone_id</th>\n",
       "    </tr>\n",
       "  </thead>\n",
       "  <tbody>\n",
       "    <tr>\n",
       "      <th>829990</th>\n",
       "      <td>181263</td>\n",
       "      <td>78188</td>\n",
       "    </tr>\n",
       "    <tr>\n",
       "      <th>829991</th>\n",
       "      <td>181263</td>\n",
       "      <td>78188</td>\n",
       "    </tr>\n",
       "  </tbody>\n",
       "</table>\n",
       "</div>"
      ],
      "text/plain": [
       "            id  phone_id\n",
       "829990  181263     78188\n",
       "829991  181263     78188"
      ]
     },
     "execution_count": 50,
     "metadata": {},
     "output_type": "execute_result"
    }
   ],
   "source": [
    "address[address['id'] == 181263]"
   ]
  },
  {
   "cell_type": "code",
   "execution_count": 52,
   "metadata": {
    "ExecuteTime": {
     "end_time": "2020-10-17T10:18:42.922769Z",
     "start_time": "2020-10-17T10:18:42.917423Z"
    }
   },
   "outputs": [
    {
     "data": {
      "text/html": [
       "<div>\n",
       "<style scoped>\n",
       "    .dataframe tbody tr th:only-of-type {\n",
       "        vertical-align: middle;\n",
       "    }\n",
       "\n",
       "    .dataframe tbody tr th {\n",
       "        vertical-align: top;\n",
       "    }\n",
       "\n",
       "    .dataframe thead th {\n",
       "        text-align: right;\n",
       "    }\n",
       "</style>\n",
       "<table border=\"1\" class=\"dataframe\">\n",
       "  <thead>\n",
       "    <tr style=\"text-align: right;\">\n",
       "      <th></th>\n",
       "      <th>id</th>\n",
       "      <th>phone_id</th>\n",
       "    </tr>\n",
       "  </thead>\n",
       "  <tbody>\n",
       "    <tr>\n",
       "      <th>0</th>\n",
       "      <td>41</td>\n",
       "      <td>1</td>\n",
       "    </tr>\n",
       "    <tr>\n",
       "      <th>1</th>\n",
       "      <td>8531</td>\n",
       "      <td>2</td>\n",
       "    </tr>\n",
       "    <tr>\n",
       "      <th>2</th>\n",
       "      <td>2982657</td>\n",
       "      <td>2</td>\n",
       "    </tr>\n",
       "    <tr>\n",
       "      <th>3</th>\n",
       "      <td>3271801</td>\n",
       "      <td>2</td>\n",
       "    </tr>\n",
       "    <tr>\n",
       "      <th>4</th>\n",
       "      <td>3648206</td>\n",
       "      <td>2</td>\n",
       "    </tr>\n",
       "  </tbody>\n",
       "</table>\n",
       "</div>"
      ],
      "text/plain": [
       "        id  phone_id\n",
       "0       41         1\n",
       "1     8531         2\n",
       "2  2982657         2\n",
       "3  3271801         2\n",
       "4  3648206         2"
      ]
     },
     "execution_count": 52,
     "metadata": {},
     "output_type": "execute_result"
    }
   ],
   "source": [
    "address.head()"
   ]
  },
  {
   "cell_type": "code",
   "execution_count": 53,
   "metadata": {
    "ExecuteTime": {
     "end_time": "2020-10-17T10:18:51.818209Z",
     "start_time": "2020-10-17T10:18:51.815504Z"
    }
   },
   "outputs": [
    {
     "data": {
      "text/plain": [
       "(2724011, 2)"
      ]
     },
     "execution_count": 53,
     "metadata": {},
     "output_type": "execute_result"
    }
   ],
   "source": [
    "address.shape"
   ]
  },
  {
   "cell_type": "code",
   "execution_count": 54,
   "metadata": {
    "ExecuteTime": {
     "end_time": "2020-10-17T10:18:52.914559Z",
     "start_time": "2020-10-17T10:18:52.653541Z"
    }
   },
   "outputs": [
    {
     "data": {
      "text/plain": [
       "(2724011, 719374)"
      ]
     },
     "execution_count": 54,
     "metadata": {},
     "output_type": "execute_result"
    }
   ],
   "source": [
    "address['id'].nunique(), address['phone_id'].nunique()"
   ]
  },
  {
   "cell_type": "code",
   "execution_count": 34,
   "metadata": {
    "ExecuteTime": {
     "end_time": "2020-10-17T10:02:26.445742Z",
     "start_time": "2020-10-17T10:02:26.441834Z"
    }
   },
   "outputs": [
    {
     "name": "stdout",
     "output_type": "stream",
     "text": [
      "<class 'pandas.core.frame.DataFrame'>\n",
      "RangeIndex: 2766724 entries, 0 to 2766723\n",
      "Data columns (total 2 columns):\n",
      "id          int64\n",
      "phone_id    int64\n",
      "dtypes: int64(2)\n",
      "memory usage: 42.2 MB\n"
     ]
    }
   ],
   "source": [
    "address.info()"
   ]
  },
  {
   "cell_type": "markdown",
   "metadata": {},
   "source": [
    "# join"
   ]
  },
  {
   "cell_type": "code",
   "execution_count": 56,
   "metadata": {
    "ExecuteTime": {
     "end_time": "2020-10-17T10:22:00.956984Z",
     "start_time": "2020-10-17T10:22:00.031776Z"
    }
   },
   "outputs": [
    {
     "name": "stdout",
     "output_type": "stream",
     "text": [
      "(1159576, 3)\n"
     ]
    },
    {
     "data": {
      "text/plain": [
       "(8946211, 4)"
      ]
     },
     "execution_count": 56,
     "metadata": {},
     "output_type": "execute_result"
    }
   ],
   "source": [
    "print(train.shape)\n",
    "\n",
    "train.merge(address,\n",
    "           left_on='phone_id',\n",
    "           right_on='phone_id',\n",
    "           how='inner').shape"
   ]
  },
  {
   "cell_type": "code",
   "execution_count": null,
   "metadata": {},
   "outputs": [],
   "source": [
    "submission.merge()"
   ]
  },
  {
   "cell_type": "code",
   "execution_count": null,
   "metadata": {},
   "outputs": [],
   "source": []
  },
  {
   "cell_type": "code",
   "execution_count": null,
   "metadata": {},
   "outputs": [],
   "source": []
  },
  {
   "cell_type": "code",
   "execution_count": 38,
   "metadata": {
    "ExecuteTime": {
     "end_time": "2020-10-17T10:04:18.341996Z",
     "start_time": "2020-10-17T10:04:17.670117Z"
    }
   },
   "outputs": [
    {
     "data": {
      "text/plain": [
       "(143448, 25)"
      ]
     },
     "execution_count": 38,
     "metadata": {},
     "output_type": "execute_result"
    }
   ],
   "source": [
    "shipments1.merge(address,\n",
    "                left_on='ship_address_id',\n",
    "                right_on='id',\n",
    "                how='inner').shape"
   ]
  },
  {
   "cell_type": "code",
   "execution_count": 39,
   "metadata": {
    "ExecuteTime": {
     "end_time": "2020-10-17T10:04:25.818137Z",
     "start_time": "2020-10-17T10:04:25.814950Z"
    }
   },
   "outputs": [
    {
     "data": {
      "text/plain": [
       "(141546, 23)"
      ]
     },
     "execution_count": 39,
     "metadata": {},
     "output_type": "execute_result"
    }
   ],
   "source": [
    "shipments1.shape"
   ]
  },
  {
   "cell_type": "markdown",
   "metadata": {},
   "source": [
    "# Check"
   ]
  },
  {
   "cell_type": "code",
   "execution_count": 9,
   "metadata": {
    "ExecuteTime": {
     "end_time": "2020-10-17T09:09:14.957092Z",
     "start_time": "2020-10-17T09:08:07.212431Z"
    }
   },
   "outputs": [],
   "source": [
    "from glob import glob\n",
    "files = glob('line_items*/*')\n",
    "\n",
    "items = []\n",
    "for f in files:\n",
    "    items.append(pd.read_csv(f))"
   ]
  },
  {
   "cell_type": "code",
   "execution_count": 12,
   "metadata": {
    "ExecuteTime": {
     "end_time": "2020-10-17T09:12:36.204609Z",
     "start_time": "2020-10-17T09:12:36.201820Z"
    }
   },
   "outputs": [
    {
     "data": {
      "text/plain": [
       "77"
      ]
     },
     "execution_count": 12,
     "metadata": {},
     "output_type": "execute_result"
    }
   ],
   "source": [
    "len(items)"
   ]
  },
  {
   "cell_type": "code",
   "execution_count": 13,
   "metadata": {
    "ExecuteTime": {
     "end_time": "2020-10-17T09:12:43.653344Z",
     "start_time": "2020-10-17T09:12:43.643187Z"
    }
   },
   "outputs": [
    {
     "data": {
      "text/html": [
       "<div>\n",
       "<style scoped>\n",
       "    .dataframe tbody tr th:only-of-type {\n",
       "        vertical-align: middle;\n",
       "    }\n",
       "\n",
       "    .dataframe tbody tr th {\n",
       "        vertical-align: top;\n",
       "    }\n",
       "\n",
       "    .dataframe thead th {\n",
       "        text-align: right;\n",
       "    }\n",
       "</style>\n",
       "<table border=\"1\" class=\"dataframe\">\n",
       "  <thead>\n",
       "    <tr style=\"text-align: right;\">\n",
       "      <th></th>\n",
       "      <th>shipment_id</th>\n",
       "      <th>master_category_id</th>\n",
       "      <th>created_at</th>\n",
       "      <th>price</th>\n",
       "      <th>discount</th>\n",
       "      <th>item_id</th>\n",
       "      <th>quantity</th>\n",
       "      <th>product_id</th>\n",
       "      <th>brand_name</th>\n",
       "      <th>pricer</th>\n",
       "      <th>replaced</th>\n",
       "      <th>cancelled</th>\n",
       "    </tr>\n",
       "  </thead>\n",
       "  <tbody>\n",
       "    <tr>\n",
       "      <th>0</th>\n",
       "      <td>595710</td>\n",
       "      <td>246.0</td>\n",
       "      <td>2018-09-19 18:25:41</td>\n",
       "      <td>2060.000000</td>\n",
       "      <td>0.0</td>\n",
       "      <td>6893159</td>\n",
       "      <td>1</td>\n",
       "      <td>8296</td>\n",
       "      <td>Ariel</td>\n",
       "      <td>Pricer::PerItem</td>\n",
       "      <td>0</td>\n",
       "      <td>0</td>\n",
       "    </tr>\n",
       "    <tr>\n",
       "      <th>1</th>\n",
       "      <td>595710</td>\n",
       "      <td>77.0</td>\n",
       "      <td>2018-09-19 18:26:09</td>\n",
       "      <td>34.290001</td>\n",
       "      <td>0.0</td>\n",
       "      <td>6893172</td>\n",
       "      <td>10</td>\n",
       "      <td>2575</td>\n",
       "      <td>Aro</td>\n",
       "      <td>Pricer::PerItem</td>\n",
       "      <td>0</td>\n",
       "      <td>0</td>\n",
       "    </tr>\n",
       "    <tr>\n",
       "      <th>2</th>\n",
       "      <td>595710</td>\n",
       "      <td>255.0</td>\n",
       "      <td>2018-09-19 19:48:44</td>\n",
       "      <td>1199.000000</td>\n",
       "      <td>0.0</td>\n",
       "      <td>6894846</td>\n",
       "      <td>1</td>\n",
       "      <td>8082</td>\n",
       "      <td>Bagi</td>\n",
       "      <td>Pricer::PerItem</td>\n",
       "      <td>0</td>\n",
       "      <td>0</td>\n",
       "    </tr>\n",
       "    <tr>\n",
       "      <th>3</th>\n",
       "      <td>655241</td>\n",
       "      <td>37.0</td>\n",
       "      <td>2018-10-28 08:37:25</td>\n",
       "      <td>162.000000</td>\n",
       "      <td>0.0</td>\n",
       "      <td>7747094</td>\n",
       "      <td>1</td>\n",
       "      <td>39627</td>\n",
       "      <td>Unagrande</td>\n",
       "      <td>Pricer::PerItem</td>\n",
       "      <td>0</td>\n",
       "      <td>0</td>\n",
       "    </tr>\n",
       "    <tr>\n",
       "      <th>4</th>\n",
       "      <td>655241</td>\n",
       "      <td>21.0</td>\n",
       "      <td>2018-10-28 08:37:47</td>\n",
       "      <td>44.590000</td>\n",
       "      <td>0.0</td>\n",
       "      <td>7747105</td>\n",
       "      <td>2</td>\n",
       "      <td>91973</td>\n",
       "      <td>Landliebe</td>\n",
       "      <td>Pricer::PerItem</td>\n",
       "      <td>0</td>\n",
       "      <td>0</td>\n",
       "    </tr>\n",
       "  </tbody>\n",
       "</table>\n",
       "</div>"
      ],
      "text/plain": [
       "   shipment_id  master_category_id           created_at        price  \\\n",
       "0       595710               246.0  2018-09-19 18:25:41  2060.000000   \n",
       "1       595710                77.0  2018-09-19 18:26:09    34.290001   \n",
       "2       595710               255.0  2018-09-19 19:48:44  1199.000000   \n",
       "3       655241                37.0  2018-10-28 08:37:25   162.000000   \n",
       "4       655241                21.0  2018-10-28 08:37:47    44.590000   \n",
       "\n",
       "   discount  item_id  quantity  product_id brand_name           pricer  \\\n",
       "0       0.0  6893159         1        8296      Ariel  Pricer::PerItem   \n",
       "1       0.0  6893172        10        2575        Aro  Pricer::PerItem   \n",
       "2       0.0  6894846         1        8082       Bagi  Pricer::PerItem   \n",
       "3       0.0  7747094         1       39627  Unagrande  Pricer::PerItem   \n",
       "4       0.0  7747105         2       91973  Landliebe  Pricer::PerItem   \n",
       "\n",
       "   replaced  cancelled  \n",
       "0         0          0  \n",
       "1         0          0  \n",
       "2         0          0  \n",
       "3         0          0  \n",
       "4         0          0  "
      ]
     },
     "execution_count": 13,
     "metadata": {},
     "output_type": "execute_result"
    }
   ],
   "source": [
    "items[0].head()"
   ]
  },
  {
   "attachments": {
    "image.png": {
     "image/png": "[encoded data removed]"
    }
   },
   "cell_type": "markdown",
   "metadata": {},
   "source": [
    "# Message\n",
    "\n",
    "![image.png](attachment:image.png)"
   ]
  },
  {
   "cell_type": "code",
   "execution_count": 67,
   "metadata": {
    "ExecuteTime": {
     "end_time": "2020-10-17T11:02:50.072090Z",
     "start_time": "2020-10-17T11:02:46.115029Z"
    }
   },
   "outputs": [
    {
     "data": {
      "text/plain": [
       "((962, 4), (18275907, 3))"
      ]
     },
     "execution_count": 67,
     "metadata": {},
     "output_type": "execute_result"
    }
   ],
   "source": [
    "actions = pd.read_csv('messages/actions.csv')\n",
    "messages = pd.read_csv('messages/messages.csv')\n",
    "\n",
    "actions.shape, messages.shape"
   ]
  },
  {
   "cell_type": "code",
   "execution_count": 68,
   "metadata": {
    "ExecuteTime": {
     "end_time": "2020-10-17T11:02:50.081104Z",
     "start_time": "2020-10-17T11:02:50.073261Z"
    }
   },
   "outputs": [
    {
     "data": {
      "text/html": [
       "<div>\n",
       "<style scoped>\n",
       "    .dataframe tbody tr th:only-of-type {\n",
       "        vertical-align: middle;\n",
       "    }\n",
       "\n",
       "    .dataframe tbody tr th {\n",
       "        vertical-align: top;\n",
       "    }\n",
       "\n",
       "    .dataframe thead th {\n",
       "        text-align: right;\n",
       "    }\n",
       "</style>\n",
       "<table border=\"1\" class=\"dataframe\">\n",
       "  <thead>\n",
       "    <tr style=\"text-align: right;\">\n",
       "      <th></th>\n",
       "      <th>id</th>\n",
       "      <th>subject</th>\n",
       "      <th>body</th>\n",
       "      <th>type</th>\n",
       "    </tr>\n",
       "  </thead>\n",
       "  <tbody>\n",
       "    <tr>\n",
       "      <th>0</th>\n",
       "      <td>239</td>\n",
       "      <td>NaN</td>\n",
       "      <td>NaN</td>\n",
       "      <td>push</td>\n",
       "    </tr>\n",
       "    <tr>\n",
       "      <th>1</th>\n",
       "      <td>77</td>\n",
       "      <td>NaN</td>\n",
       "      <td>NaN</td>\n",
       "      <td>push</td>\n",
       "    </tr>\n",
       "    <tr>\n",
       "      <th>2</th>\n",
       "      <td>213</td>\n",
       "      <td>Бесплатно доставим вам первый заказ👍</td>\n",
       "      <td>Оформляйте скорее, доставим в удобное время!</td>\n",
       "      <td>push</td>\n",
       "    </tr>\n",
       "    <tr>\n",
       "      <th>3</th>\n",
       "      <td>218</td>\n",
       "      <td>👍 Новые скидки METRO в Instamart</td>\n",
       "      <td>Успей заказать продукты по выгодной цене!</td>\n",
       "      <td>push</td>\n",
       "    </tr>\n",
       "    <tr>\n",
       "      <th>4</th>\n",
       "      <td>221</td>\n",
       "      <td>Дарим 500 рублей за приглашенного друга!</td>\n",
       "      <td>Обнови приложение, получи промокод и делись им...</td>\n",
       "      <td>push</td>\n",
       "    </tr>\n",
       "    <tr>\n",
       "      <th>...</th>\n",
       "      <td>...</td>\n",
       "      <td>...</td>\n",
       "      <td>...</td>\n",
       "      <td>...</td>\n",
       "    </tr>\n",
       "    <tr>\n",
       "      <th>957</th>\n",
       "      <td>2942</td>\n",
       "      <td>NaN</td>\n",
       "      <td>Скидка 500р на заказ товаров для офиса по пром...</td>\n",
       "      <td>sms</td>\n",
       "    </tr>\n",
       "    <tr>\n",
       "      <th>958</th>\n",
       "      <td>2925</td>\n",
       "      <td>NaN</td>\n",
       "      <td>NaN</td>\n",
       "      <td>sms</td>\n",
       "    </tr>\n",
       "    <tr>\n",
       "      <th>959</th>\n",
       "      <td>2927</td>\n",
       "      <td>NaN</td>\n",
       "      <td>NaN</td>\n",
       "      <td>sms</td>\n",
       "    </tr>\n",
       "    <tr>\n",
       "      <th>960</th>\n",
       "      <td>2928</td>\n",
       "      <td>NaN</td>\n",
       "      <td>NaN</td>\n",
       "      <td>sms</td>\n",
       "    </tr>\n",
       "    <tr>\n",
       "      <th>961</th>\n",
       "      <td>3105</td>\n",
       "      <td>NaN</td>\n",
       "      <td>У вас {{customer.remaining_bonuses}} бонусов. ...</td>\n",
       "      <td>sms</td>\n",
       "    </tr>\n",
       "  </tbody>\n",
       "</table>\n",
       "<p>962 rows × 4 columns</p>\n",
       "</div>"
      ],
      "text/plain": [
       "       id                                   subject  \\\n",
       "0     239                                       NaN   \n",
       "1      77                                       NaN   \n",
       "2     213      Бесплатно доставим вам первый заказ👍   \n",
       "3     218         👍 Новые скидки METRO в Instamart    \n",
       "4     221  Дарим 500 рублей за приглашенного друга!   \n",
       "..    ...                                       ...   \n",
       "957  2942                                       NaN   \n",
       "958  2925                                       NaN   \n",
       "959  2927                                       NaN   \n",
       "960  2928                                       NaN   \n",
       "961  3105                                       NaN   \n",
       "\n",
       "                                                  body  type  \n",
       "0                                                  NaN  push  \n",
       "1                                                  NaN  push  \n",
       "2         Оформляйте скорее, доставим в удобное время!  push  \n",
       "3            Успей заказать продукты по выгодной цене!  push  \n",
       "4    Обнови приложение, получи промокод и делись им...  push  \n",
       "..                                                 ...   ...  \n",
       "957  Скидка 500р на заказ товаров для офиса по пром...   sms  \n",
       "958                                                NaN   sms  \n",
       "959                                                NaN   sms  \n",
       "960                                                NaN   sms  \n",
       "961  У вас {{customer.remaining_bonuses}} бонусов. ...   sms  \n",
       "\n",
       "[962 rows x 4 columns]"
      ]
     },
     "execution_count": 68,
     "metadata": {},
     "output_type": "execute_result"
    }
   ],
   "source": [
    "actions"
   ]
  },
  {
   "cell_type": "code",
   "execution_count": 73,
   "metadata": {
    "ExecuteTime": {
     "end_time": "2020-10-17T11:06:32.655393Z",
     "start_time": "2020-10-17T11:06:32.651373Z"
    }
   },
   "outputs": [
    {
     "data": {
      "text/plain": [
       "push     577\n",
       "email    270\n",
       "sms      115\n",
       "Name: type, dtype: int64"
      ]
     },
     "execution_count": 73,
     "metadata": {},
     "output_type": "execute_result"
    }
   ],
   "source": [
    "actions['type'].value_counts()"
   ]
  },
  {
   "cell_type": "code",
   "execution_count": 75,
   "metadata": {
    "ExecuteTime": {
     "end_time": "2020-10-17T11:09:05.942187Z",
     "start_time": "2020-10-17T11:08:58.167330Z"
    }
   },
   "outputs": [],
   "source": [
    "messages['datetime'] = messages['sent'].apply(lambda x: \n",
    "                                              datetime.datetime.utcfromtimestamp(x))"
   ]
  },
  {
   "cell_type": "code",
   "execution_count": 88,
   "metadata": {
    "ExecuteTime": {
     "end_time": "2020-10-17T11:41:38.570189Z",
     "start_time": "2020-10-17T11:40:55.068644Z"
    }
   },
   "outputs": [],
   "source": [
    "messages['datetime_str'] = messages['sent'].apply(lambda x: \n",
    "                                              datetime.datetime.utcfromtimestamp(x).strftime('%Y-%m-%dT%H:%M:%SZ'))"
   ]
  },
  {
   "cell_type": "code",
   "execution_count": 90,
   "metadata": {
    "ExecuteTime": {
     "end_time": "2020-10-17T11:41:38.579705Z",
     "start_time": "2020-10-17T11:41:38.576974Z"
    }
   },
   "outputs": [
    {
     "data": {
      "text/plain": [
       "'2020-05'"
      ]
     },
     "execution_count": 90,
     "metadata": {},
     "output_type": "execute_result"
    }
   ],
   "source": [
    "messages.iloc[0]['datetime_str'][:7]"
   ]
  },
  {
   "cell_type": "code",
   "execution_count": 93,
   "metadata": {
    "ExecuteTime": {
     "end_time": "2020-10-17T11:42:38.557809Z",
     "start_time": "2020-10-17T11:42:34.796029Z"
    }
   },
   "outputs": [],
   "source": [
    "messages['month_str'] = messages['datetime_str'].apply(lambda x: x[:7])"
   ]
  },
  {
   "cell_type": "code",
   "execution_count": 77,
   "metadata": {
    "ExecuteTime": {
     "end_time": "2020-10-17T11:10:05.660865Z",
     "start_time": "2020-10-17T11:09:10.162154Z"
    }
   },
   "outputs": [],
   "source": [
    "messages['date'] = messages['datetime'].apply(lambda x: x.date())"
   ]
  },
  {
   "cell_type": "code",
   "execution_count": 80,
   "metadata": {
    "ExecuteTime": {
     "end_time": "2020-10-17T11:15:12.144913Z",
     "start_time": "2020-10-17T11:15:07.384700Z"
    }
   },
   "outputs": [],
   "source": [
    "messages['month'] = messages['date'].apply(lambda x: x.month)"
   ]
  },
  {
   "cell_type": "code",
   "execution_count": 94,
   "metadata": {
    "ExecuteTime": {
     "end_time": "2020-10-17T11:42:38.570250Z",
     "start_time": "2020-10-17T11:42:38.559110Z"
    }
   },
   "outputs": [
    {
     "data": {
      "text/html": [
       "<div>\n",
       "<style scoped>\n",
       "    .dataframe tbody tr th:only-of-type {\n",
       "        vertical-align: middle;\n",
       "    }\n",
       "\n",
       "    .dataframe tbody tr th {\n",
       "        vertical-align: top;\n",
       "    }\n",
       "\n",
       "    .dataframe thead th {\n",
       "        text-align: right;\n",
       "    }\n",
       "</style>\n",
       "<table border=\"1\" class=\"dataframe\">\n",
       "  <thead>\n",
       "    <tr style=\"text-align: right;\">\n",
       "      <th></th>\n",
       "      <th>sent</th>\n",
       "      <th>action_id</th>\n",
       "      <th>user_id</th>\n",
       "      <th>datetime</th>\n",
       "      <th>date</th>\n",
       "      <th>month</th>\n",
       "      <th>id</th>\n",
       "      <th>subject</th>\n",
       "      <th>body</th>\n",
       "      <th>type</th>\n",
       "      <th>datetime_str</th>\n",
       "      <th>month_str</th>\n",
       "    </tr>\n",
       "  </thead>\n",
       "  <tbody>\n",
       "    <tr>\n",
       "      <th>0</th>\n",
       "      <td>1.588847e+09</td>\n",
       "      <td>1512.0</td>\n",
       "      <td>1775692</td>\n",
       "      <td>2020-05-07 10:26:54</td>\n",
       "      <td>2020-05-07</td>\n",
       "      <td>5</td>\n",
       "      <td>1512</td>\n",
       "      <td>Сегодня готовим брауни с M&amp;M's  😋 Приступим?</td>\n",
       "      <td>Видео рецепт и все необходимые ингредиенты уже...</td>\n",
       "      <td>email</td>\n",
       "      <td>2020-05-07T10:26:54Z</td>\n",
       "      <td>2020-05</td>\n",
       "    </tr>\n",
       "    <tr>\n",
       "      <th>1</th>\n",
       "      <td>1.588847e+09</td>\n",
       "      <td>1512.0</td>\n",
       "      <td>1775687</td>\n",
       "      <td>2020-05-07 10:26:44</td>\n",
       "      <td>2020-05-07</td>\n",
       "      <td>5</td>\n",
       "      <td>1512</td>\n",
       "      <td>Сегодня готовим брауни с M&amp;M's  😋 Приступим?</td>\n",
       "      <td>Видео рецепт и все необходимые ингредиенты уже...</td>\n",
       "      <td>email</td>\n",
       "      <td>2020-05-07T10:26:44Z</td>\n",
       "      <td>2020-05</td>\n",
       "    </tr>\n",
       "    <tr>\n",
       "      <th>2</th>\n",
       "      <td>1.588847e+09</td>\n",
       "      <td>1512.0</td>\n",
       "      <td>1775684</td>\n",
       "      <td>2020-05-07 10:26:32</td>\n",
       "      <td>2020-05-07</td>\n",
       "      <td>5</td>\n",
       "      <td>1512</td>\n",
       "      <td>Сегодня готовим брауни с M&amp;M's  😋 Приступим?</td>\n",
       "      <td>Видео рецепт и все необходимые ингредиенты уже...</td>\n",
       "      <td>email</td>\n",
       "      <td>2020-05-07T10:26:32Z</td>\n",
       "      <td>2020-05</td>\n",
       "    </tr>\n",
       "    <tr>\n",
       "      <th>3</th>\n",
       "      <td>1.588847e+09</td>\n",
       "      <td>1512.0</td>\n",
       "      <td>1775678</td>\n",
       "      <td>2020-05-07 10:25:56</td>\n",
       "      <td>2020-05-07</td>\n",
       "      <td>5</td>\n",
       "      <td>1512</td>\n",
       "      <td>Сегодня готовим брауни с M&amp;M's  😋 Приступим?</td>\n",
       "      <td>Видео рецепт и все необходимые ингредиенты уже...</td>\n",
       "      <td>email</td>\n",
       "      <td>2020-05-07T10:25:56Z</td>\n",
       "      <td>2020-05</td>\n",
       "    </tr>\n",
       "    <tr>\n",
       "      <th>4</th>\n",
       "      <td>1.588847e+09</td>\n",
       "      <td>1512.0</td>\n",
       "      <td>1775660</td>\n",
       "      <td>2020-05-07 10:24:20</td>\n",
       "      <td>2020-05-07</td>\n",
       "      <td>5</td>\n",
       "      <td>1512</td>\n",
       "      <td>Сегодня готовим брауни с M&amp;M's  😋 Приступим?</td>\n",
       "      <td>Видео рецепт и все необходимые ингредиенты уже...</td>\n",
       "      <td>email</td>\n",
       "      <td>2020-05-07T10:24:20Z</td>\n",
       "      <td>2020-05</td>\n",
       "    </tr>\n",
       "  </tbody>\n",
       "</table>\n",
       "</div>"
      ],
      "text/plain": [
       "           sent  action_id  user_id            datetime        date  month  \\\n",
       "0  1.588847e+09     1512.0  1775692 2020-05-07 10:26:54  2020-05-07      5   \n",
       "1  1.588847e+09     1512.0  1775687 2020-05-07 10:26:44  2020-05-07      5   \n",
       "2  1.588847e+09     1512.0  1775684 2020-05-07 10:26:32  2020-05-07      5   \n",
       "3  1.588847e+09     1512.0  1775678 2020-05-07 10:25:56  2020-05-07      5   \n",
       "4  1.588847e+09     1512.0  1775660 2020-05-07 10:24:20  2020-05-07      5   \n",
       "\n",
       "     id                                       subject  \\\n",
       "0  1512  Сегодня готовим брауни с M&M's  😋 Приступим?   \n",
       "1  1512  Сегодня готовим брауни с M&M's  😋 Приступим?   \n",
       "2  1512  Сегодня готовим брауни с M&M's  😋 Приступим?   \n",
       "3  1512  Сегодня готовим брауни с M&M's  😋 Приступим?   \n",
       "4  1512  Сегодня готовим брауни с M&M's  😋 Приступим?   \n",
       "\n",
       "                                                body   type  \\\n",
       "0  Видео рецепт и все необходимые ингредиенты уже...  email   \n",
       "1  Видео рецепт и все необходимые ингредиенты уже...  email   \n",
       "2  Видео рецепт и все необходимые ингредиенты уже...  email   \n",
       "3  Видео рецепт и все необходимые ингредиенты уже...  email   \n",
       "4  Видео рецепт и все необходимые ингредиенты уже...  email   \n",
       "\n",
       "           datetime_str month_str  \n",
       "0  2020-05-07T10:26:54Z   2020-05  \n",
       "1  2020-05-07T10:26:44Z   2020-05  \n",
       "2  2020-05-07T10:26:32Z   2020-05  \n",
       "3  2020-05-07T10:25:56Z   2020-05  \n",
       "4  2020-05-07T10:24:20Z   2020-05  "
      ]
     },
     "execution_count": 94,
     "metadata": {},
     "output_type": "execute_result"
    }
   ],
   "source": [
    "messages.head()"
   ]
  },
  {
   "cell_type": "code",
   "execution_count": 82,
   "metadata": {
    "ExecuteTime": {
     "end_time": "2020-10-17T11:15:20.822020Z",
     "start_time": "2020-10-17T11:15:20.594559Z"
    }
   },
   "outputs": [
    {
     "data": {
      "text/plain": [
       "7    5602389\n",
       "8    3950838\n",
       "5    3132141\n",
       "6    2450590\n",
       "4    1634203\n",
       "3     671064\n",
       "2     572474\n",
       "1     262208\n",
       "Name: month, dtype: int64"
      ]
     },
     "execution_count": 82,
     "metadata": {},
     "output_type": "execute_result"
    }
   ],
   "source": [
    "messages['month'].value_counts()"
   ]
  },
  {
   "cell_type": "code",
   "execution_count": 95,
   "metadata": {
    "ExecuteTime": {
     "end_time": "2020-10-17T11:42:52.314172Z",
     "start_time": "2020-10-17T11:42:50.758698Z"
    }
   },
   "outputs": [
    {
     "data": {
      "text/plain": [
       "2020-07    5602389\n",
       "2020-08    3950838\n",
       "2020-05    3132141\n",
       "2020-06    2450590\n",
       "2020-04    1634203\n",
       "2020-03     671064\n",
       "2020-02     572474\n",
       "2020-01     262208\n",
       "Name: month_str, dtype: int64"
      ]
     },
     "execution_count": 95,
     "metadata": {},
     "output_type": "execute_result"
    }
   ],
   "source": [
    "messages['month_str'].value_counts()"
   ]
  },
  {
   "cell_type": "code",
   "execution_count": 83,
   "metadata": {
    "ExecuteTime": {
     "end_time": "2020-10-17T11:17:18.057351Z",
     "start_time": "2020-10-17T11:17:12.656430Z"
    }
   },
   "outputs": [
    {
     "data": {
      "text/plain": [
       "(18275907, 10)"
      ]
     },
     "execution_count": 83,
     "metadata": {},
     "output_type": "execute_result"
    }
   ],
   "source": [
    "messages.merge(actions,\n",
    "              left_on='action_id',\n",
    "              right_on='id',\n",
    "              how='left').shape"
   ]
  },
  {
   "cell_type": "code",
   "execution_count": 84,
   "metadata": {
    "ExecuteTime": {
     "end_time": "2020-10-17T11:17:45.662435Z",
     "start_time": "2020-10-17T11:17:40.508916Z"
    }
   },
   "outputs": [],
   "source": [
    "messages = messages.merge(actions,\n",
    "              left_on='action_id',\n",
    "              right_on='id',\n",
    "              how='left')"
   ]
  },
  {
   "cell_type": "code",
   "execution_count": 86,
   "metadata": {
    "ExecuteTime": {
     "end_time": "2020-10-17T11:20:50.644821Z",
     "start_time": "2020-10-17T11:20:47.955993Z"
    }
   },
   "outputs": [
    {
     "data": {
      "text/html": [
       "<div>\n",
       "<style scoped>\n",
       "    .dataframe tbody tr th:only-of-type {\n",
       "        vertical-align: middle;\n",
       "    }\n",
       "\n",
       "    .dataframe tbody tr th {\n",
       "        vertical-align: top;\n",
       "    }\n",
       "\n",
       "    .dataframe thead th {\n",
       "        text-align: right;\n",
       "    }\n",
       "</style>\n",
       "<table border=\"1\" class=\"dataframe\">\n",
       "  <thead>\n",
       "    <tr style=\"text-align: right;\">\n",
       "      <th>type</th>\n",
       "      <th>email</th>\n",
       "      <th>push</th>\n",
       "      <th>sms</th>\n",
       "    </tr>\n",
       "    <tr>\n",
       "      <th>month</th>\n",
       "      <th></th>\n",
       "      <th></th>\n",
       "      <th></th>\n",
       "    </tr>\n",
       "  </thead>\n",
       "  <tbody>\n",
       "    <tr>\n",
       "      <th>1</th>\n",
       "      <td>27153</td>\n",
       "      <td>235055</td>\n",
       "      <td>0</td>\n",
       "    </tr>\n",
       "    <tr>\n",
       "      <th>2</th>\n",
       "      <td>45369</td>\n",
       "      <td>527105</td>\n",
       "      <td>0</td>\n",
       "    </tr>\n",
       "    <tr>\n",
       "      <th>3</th>\n",
       "      <td>48917</td>\n",
       "      <td>622147</td>\n",
       "      <td>0</td>\n",
       "    </tr>\n",
       "    <tr>\n",
       "      <th>4</th>\n",
       "      <td>350795</td>\n",
       "      <td>1283408</td>\n",
       "      <td>0</td>\n",
       "    </tr>\n",
       "    <tr>\n",
       "      <th>5</th>\n",
       "      <td>222670</td>\n",
       "      <td>2909471</td>\n",
       "      <td>0</td>\n",
       "    </tr>\n",
       "    <tr>\n",
       "      <th>6</th>\n",
       "      <td>247387</td>\n",
       "      <td>2203203</td>\n",
       "      <td>0</td>\n",
       "    </tr>\n",
       "    <tr>\n",
       "      <th>7</th>\n",
       "      <td>455450</td>\n",
       "      <td>5146939</td>\n",
       "      <td>0</td>\n",
       "    </tr>\n",
       "    <tr>\n",
       "      <th>8</th>\n",
       "      <td>743905</td>\n",
       "      <td>2916929</td>\n",
       "      <td>290004</td>\n",
       "    </tr>\n",
       "  </tbody>\n",
       "</table>\n",
       "</div>"
      ],
      "text/plain": [
       "type    email     push     sms\n",
       "month                         \n",
       "1       27153   235055       0\n",
       "2       45369   527105       0\n",
       "3       48917   622147       0\n",
       "4      350795  1283408       0\n",
       "5      222670  2909471       0\n",
       "6      247387  2203203       0\n",
       "7      455450  5146939       0\n",
       "8      743905  2916929  290004"
      ]
     },
     "execution_count": 86,
     "metadata": {},
     "output_type": "execute_result"
    }
   ],
   "source": [
    "pd.crosstab(messages['month'], messages['type'])"
   ]
  },
  {
   "cell_type": "code",
   "execution_count": 96,
   "metadata": {
    "ExecuteTime": {
     "end_time": "2020-10-17T22:54:05.150145Z",
     "start_time": "2020-10-17T22:54:05.131279Z"
    }
   },
   "outputs": [
    {
     "data": {
      "text/html": [
       "<div>\n",
       "<style scoped>\n",
       "    .dataframe tbody tr th:only-of-type {\n",
       "        vertical-align: middle;\n",
       "    }\n",
       "\n",
       "    .dataframe tbody tr th {\n",
       "        vertical-align: top;\n",
       "    }\n",
       "\n",
       "    .dataframe thead th {\n",
       "        text-align: right;\n",
       "    }\n",
       "</style>\n",
       "<table border=\"1\" class=\"dataframe\">\n",
       "  <thead>\n",
       "    <tr style=\"text-align: right;\">\n",
       "      <th></th>\n",
       "      <th>sent</th>\n",
       "      <th>action_id</th>\n",
       "      <th>user_id</th>\n",
       "      <th>datetime</th>\n",
       "      <th>date</th>\n",
       "      <th>month</th>\n",
       "      <th>id</th>\n",
       "      <th>subject</th>\n",
       "      <th>body</th>\n",
       "      <th>type</th>\n",
       "      <th>datetime_str</th>\n",
       "      <th>month_str</th>\n",
       "    </tr>\n",
       "  </thead>\n",
       "  <tbody>\n",
       "    <tr>\n",
       "      <th>0</th>\n",
       "      <td>1.588847e+09</td>\n",
       "      <td>1512.0</td>\n",
       "      <td>1775692</td>\n",
       "      <td>2020-05-07 10:26:54</td>\n",
       "      <td>2020-05-07</td>\n",
       "      <td>5</td>\n",
       "      <td>1512</td>\n",
       "      <td>Сегодня готовим брауни с M&amp;M's  😋 Приступим?</td>\n",
       "      <td>Видео рецепт и все необходимые ингредиенты уже...</td>\n",
       "      <td>email</td>\n",
       "      <td>2020-05-07T10:26:54Z</td>\n",
       "      <td>2020-05</td>\n",
       "    </tr>\n",
       "    <tr>\n",
       "      <th>1</th>\n",
       "      <td>1.588847e+09</td>\n",
       "      <td>1512.0</td>\n",
       "      <td>1775687</td>\n",
       "      <td>2020-05-07 10:26:44</td>\n",
       "      <td>2020-05-07</td>\n",
       "      <td>5</td>\n",
       "      <td>1512</td>\n",
       "      <td>Сегодня готовим брауни с M&amp;M's  😋 Приступим?</td>\n",
       "      <td>Видео рецепт и все необходимые ингредиенты уже...</td>\n",
       "      <td>email</td>\n",
       "      <td>2020-05-07T10:26:44Z</td>\n",
       "      <td>2020-05</td>\n",
       "    </tr>\n",
       "    <tr>\n",
       "      <th>2</th>\n",
       "      <td>1.588847e+09</td>\n",
       "      <td>1512.0</td>\n",
       "      <td>1775684</td>\n",
       "      <td>2020-05-07 10:26:32</td>\n",
       "      <td>2020-05-07</td>\n",
       "      <td>5</td>\n",
       "      <td>1512</td>\n",
       "      <td>Сегодня готовим брауни с M&amp;M's  😋 Приступим?</td>\n",
       "      <td>Видео рецепт и все необходимые ингредиенты уже...</td>\n",
       "      <td>email</td>\n",
       "      <td>2020-05-07T10:26:32Z</td>\n",
       "      <td>2020-05</td>\n",
       "    </tr>\n",
       "    <tr>\n",
       "      <th>3</th>\n",
       "      <td>1.588847e+09</td>\n",
       "      <td>1512.0</td>\n",
       "      <td>1775678</td>\n",
       "      <td>2020-05-07 10:25:56</td>\n",
       "      <td>2020-05-07</td>\n",
       "      <td>5</td>\n",
       "      <td>1512</td>\n",
       "      <td>Сегодня готовим брауни с M&amp;M's  😋 Приступим?</td>\n",
       "      <td>Видео рецепт и все необходимые ингредиенты уже...</td>\n",
       "      <td>email</td>\n",
       "      <td>2020-05-07T10:25:56Z</td>\n",
       "      <td>2020-05</td>\n",
       "    </tr>\n",
       "    <tr>\n",
       "      <th>4</th>\n",
       "      <td>1.588847e+09</td>\n",
       "      <td>1512.0</td>\n",
       "      <td>1775660</td>\n",
       "      <td>2020-05-07 10:24:20</td>\n",
       "      <td>2020-05-07</td>\n",
       "      <td>5</td>\n",
       "      <td>1512</td>\n",
       "      <td>Сегодня готовим брауни с M&amp;M's  😋 Приступим?</td>\n",
       "      <td>Видео рецепт и все необходимые ингредиенты уже...</td>\n",
       "      <td>email</td>\n",
       "      <td>2020-05-07T10:24:20Z</td>\n",
       "      <td>2020-05</td>\n",
       "    </tr>\n",
       "    <tr>\n",
       "      <th>...</th>\n",
       "      <td>...</td>\n",
       "      <td>...</td>\n",
       "      <td>...</td>\n",
       "      <td>...</td>\n",
       "      <td>...</td>\n",
       "      <td>...</td>\n",
       "      <td>...</td>\n",
       "      <td>...</td>\n",
       "      <td>...</td>\n",
       "      <td>...</td>\n",
       "      <td>...</td>\n",
       "      <td>...</td>\n",
       "    </tr>\n",
       "    <tr>\n",
       "      <th>18275902</th>\n",
       "      <td>1.597229e+09</td>\n",
       "      <td>2515.0</td>\n",
       "      <td>2551475</td>\n",
       "      <td>2020-08-12 10:49:41</td>\n",
       "      <td>2020-08-12</td>\n",
       "      <td>8</td>\n",
       "      <td>2515</td>\n",
       "      <td>NaN</td>\n",
       "      <td>Cкидка 7% по промокоду Back7 действует до 14.0...</td>\n",
       "      <td>sms</td>\n",
       "      <td>2020-08-12T10:49:41Z</td>\n",
       "      <td>2020-08</td>\n",
       "    </tr>\n",
       "    <tr>\n",
       "      <th>18275903</th>\n",
       "      <td>1.597229e+09</td>\n",
       "      <td>2515.0</td>\n",
       "      <td>2465134</td>\n",
       "      <td>2020-08-12 10:44:59</td>\n",
       "      <td>2020-08-12</td>\n",
       "      <td>8</td>\n",
       "      <td>2515</td>\n",
       "      <td>NaN</td>\n",
       "      <td>Cкидка 7% по промокоду Back7 действует до 14.0...</td>\n",
       "      <td>sms</td>\n",
       "      <td>2020-08-12T10:44:59Z</td>\n",
       "      <td>2020-08</td>\n",
       "    </tr>\n",
       "    <tr>\n",
       "      <th>18275904</th>\n",
       "      <td>1.597228e+09</td>\n",
       "      <td>2515.0</td>\n",
       "      <td>2472800</td>\n",
       "      <td>2020-08-12 10:32:09</td>\n",
       "      <td>2020-08-12</td>\n",
       "      <td>8</td>\n",
       "      <td>2515</td>\n",
       "      <td>NaN</td>\n",
       "      <td>Cкидка 7% по промокоду Back7 действует до 14.0...</td>\n",
       "      <td>sms</td>\n",
       "      <td>2020-08-12T10:32:09Z</td>\n",
       "      <td>2020-08</td>\n",
       "    </tr>\n",
       "    <tr>\n",
       "      <th>18275905</th>\n",
       "      <td>1.597227e+09</td>\n",
       "      <td>2515.0</td>\n",
       "      <td>2551294</td>\n",
       "      <td>2020-08-12 10:17:24</td>\n",
       "      <td>2020-08-12</td>\n",
       "      <td>8</td>\n",
       "      <td>2515</td>\n",
       "      <td>NaN</td>\n",
       "      <td>Cкидка 7% по промокоду Back7 действует до 14.0...</td>\n",
       "      <td>sms</td>\n",
       "      <td>2020-08-12T10:17:24Z</td>\n",
       "      <td>2020-08</td>\n",
       "    </tr>\n",
       "    <tr>\n",
       "      <th>18275906</th>\n",
       "      <td>1.597227e+09</td>\n",
       "      <td>2515.0</td>\n",
       "      <td>2475555</td>\n",
       "      <td>2020-08-12 10:08:24</td>\n",
       "      <td>2020-08-12</td>\n",
       "      <td>8</td>\n",
       "      <td>2515</td>\n",
       "      <td>NaN</td>\n",
       "      <td>Cкидка 7% по промокоду Back7 действует до 14.0...</td>\n",
       "      <td>sms</td>\n",
       "      <td>2020-08-12T10:08:24Z</td>\n",
       "      <td>2020-08</td>\n",
       "    </tr>\n",
       "  </tbody>\n",
       "</table>\n",
       "<p>18275907 rows × 12 columns</p>\n",
       "</div>"
      ],
      "text/plain": [
       "                  sent  action_id  user_id            datetime        date  \\\n",
       "0         1.588847e+09     1512.0  1775692 2020-05-07 10:26:54  2020-05-07   \n",
       "1         1.588847e+09     1512.0  1775687 2020-05-07 10:26:44  2020-05-07   \n",
       "2         1.588847e+09     1512.0  1775684 2020-05-07 10:26:32  2020-05-07   \n",
       "3         1.588847e+09     1512.0  1775678 2020-05-07 10:25:56  2020-05-07   \n",
       "4         1.588847e+09     1512.0  1775660 2020-05-07 10:24:20  2020-05-07   \n",
       "...                ...        ...      ...                 ...         ...   \n",
       "18275902  1.597229e+09     2515.0  2551475 2020-08-12 10:49:41  2020-08-12   \n",
       "18275903  1.597229e+09     2515.0  2465134 2020-08-12 10:44:59  2020-08-12   \n",
       "18275904  1.597228e+09     2515.0  2472800 2020-08-12 10:32:09  2020-08-12   \n",
       "18275905  1.597227e+09     2515.0  2551294 2020-08-12 10:17:24  2020-08-12   \n",
       "18275906  1.597227e+09     2515.0  2475555 2020-08-12 10:08:24  2020-08-12   \n",
       "\n",
       "          month    id                                       subject  \\\n",
       "0             5  1512  Сегодня готовим брауни с M&M's  😋 Приступим?   \n",
       "1             5  1512  Сегодня готовим брауни с M&M's  😋 Приступим?   \n",
       "2             5  1512  Сегодня готовим брауни с M&M's  😋 Приступим?   \n",
       "3             5  1512  Сегодня готовим брауни с M&M's  😋 Приступим?   \n",
       "4             5  1512  Сегодня готовим брауни с M&M's  😋 Приступим?   \n",
       "...         ...   ...                                           ...   \n",
       "18275902      8  2515                                           NaN   \n",
       "18275903      8  2515                                           NaN   \n",
       "18275904      8  2515                                           NaN   \n",
       "18275905      8  2515                                           NaN   \n",
       "18275906      8  2515                                           NaN   \n",
       "\n",
       "                                                       body   type  \\\n",
       "0         Видео рецепт и все необходимые ингредиенты уже...  email   \n",
       "1         Видео рецепт и все необходимые ингредиенты уже...  email   \n",
       "2         Видео рецепт и все необходимые ингредиенты уже...  email   \n",
       "3         Видео рецепт и все необходимые ингредиенты уже...  email   \n",
       "4         Видео рецепт и все необходимые ингредиенты уже...  email   \n",
       "...                                                     ...    ...   \n",
       "18275902  Cкидка 7% по промокоду Back7 действует до 14.0...    sms   \n",
       "18275903  Cкидка 7% по промокоду Back7 действует до 14.0...    sms   \n",
       "18275904  Cкидка 7% по промокоду Back7 действует до 14.0...    sms   \n",
       "18275905  Cкидка 7% по промокоду Back7 действует до 14.0...    sms   \n",
       "18275906  Cкидка 7% по промокоду Back7 действует до 14.0...    sms   \n",
       "\n",
       "                  datetime_str month_str  \n",
       "0         2020-05-07T10:26:54Z   2020-05  \n",
       "1         2020-05-07T10:26:44Z   2020-05  \n",
       "2         2020-05-07T10:26:32Z   2020-05  \n",
       "3         2020-05-07T10:25:56Z   2020-05  \n",
       "4         2020-05-07T10:24:20Z   2020-05  \n",
       "...                        ...       ...  \n",
       "18275902  2020-08-12T10:49:41Z   2020-08  \n",
       "18275903  2020-08-12T10:44:59Z   2020-08  \n",
       "18275904  2020-08-12T10:32:09Z   2020-08  \n",
       "18275905  2020-08-12T10:17:24Z   2020-08  \n",
       "18275906  2020-08-12T10:08:24Z   2020-08  \n",
       "\n",
       "[18275907 rows x 12 columns]"
      ]
     },
     "execution_count": 96,
     "metadata": {},
     "output_type": "execute_result"
    }
   ],
   "source": [
    "messages"
   ]
  },
  {
   "cell_type": "code",
   "execution_count": 97,
   "metadata": {
    "ExecuteTime": {
     "end_time": "2020-10-17T22:55:28.252608Z",
     "start_time": "2020-10-17T22:55:27.359118Z"
    }
   },
   "outputs": [
    {
     "name": "stderr",
     "output_type": "stream",
     "text": [
      "/data/home/ivyeliso/mts_tv_py36/lib/python3.6/site-packages/ipykernel_launcher.py:4: FutureWarning: Sorting because non-concatenation axis is not aligned. A future version\n",
      "of pandas will change to not sort by default.\n",
      "\n",
      "To accept the future behavior, pass 'sort=False'.\n",
      "\n",
      "To retain the current behavior and silence the warning, pass 'sort=True'.\n",
      "\n",
      "  after removing the cwd from sys.path.\n"
     ]
    },
    {
     "data": {
      "text/plain": [
       "(2260686, 23)"
      ]
     },
     "execution_count": 97,
     "metadata": {},
     "output_type": "execute_result"
    }
   ],
   "source": [
    "shipments = pd.concat([shipments1,\n",
    "                        shipments3,\n",
    "                        shipments4,\n",
    "                        shipments6])\n",
    "\n",
    "shipments.shape"
   ]
  },
  {
   "cell_type": "code",
   "execution_count": null,
   "metadata": {},
   "outputs": [],
   "source": [
    "# доделать джоин и сделать кат фичи из subject, body, type"
   ]
  },
  {
   "cell_type": "code",
   "execution_count": 98,
   "metadata": {
    "ExecuteTime": {
     "end_time": "2020-10-17T23:14:08.945401Z",
     "start_time": "2020-10-17T23:11:20.502985Z"
    }
   },
   "outputs": [
    {
     "data": {
      "text/plain": [
       "(91575123, 34)"
      ]
     },
     "execution_count": 98,
     "metadata": {},
     "output_type": "execute_result"
    }
   ],
   "source": [
    "# доделать джоин \n",
    "shipments.merge(messages, \n",
    "               on='user_id',\n",
    "               how='left').shape"
   ]
  },
  {
   "cell_type": "code",
   "execution_count": null,
   "metadata": {},
   "outputs": [],
   "source": []
  },
  {
   "cell_type": "code",
   "execution_count": null,
   "metadata": {},
   "outputs": [],
   "source": []
  }
 ],
 "metadata": {
  "kernelspec": {
   "display_name": "mts_tv_py36",
   "language": "python",
   "name": "mts_tv_py36"
  },
  "language_info": {
   "codemirror_mode": {
    "name": "ipython",
    "version": 3
   },
   "file_extension": ".py",
   "mimetype": "text/x-python",
   "name": "python",
   "nbconvert_exporter": "python",
   "pygments_lexer": "ipython3",
   "version": "3.6.10"
  }
 },
 "nbformat": 4,
 "nbformat_minor": 4
}

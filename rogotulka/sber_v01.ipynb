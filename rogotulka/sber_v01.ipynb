{
 "cells": [
  {
   "cell_type": "code",
   "execution_count": 172,
   "metadata": {},
   "outputs": [],
   "source": [
    "import pandas as pd\n",
    "from glob import glob\n",
    "import pickle"
   ]
  },
  {
   "cell_type": "code",
   "execution_count": 41,
   "metadata": {},
   "outputs": [],
   "source": [
    "import os\n",
    "os.environ[\"CUDA_VISIBLE_DEVICES\"]=\"0\""
   ]
  },
  {
   "cell_type": "code",
   "execution_count": 2,
   "metadata": {},
   "outputs": [],
   "source": [
    "files = glob('line_items*/*')\n",
    "items = []\n",
    "for f in files:\n",
    "    items.append(pd.read_csv(f))"
   ]
  },
  {
   "cell_type": "code",
   "execution_count": 3,
   "metadata": {},
   "outputs": [],
   "source": [
    "files = glob('shipments/*')\n",
    "shipments = []\n",
    "for f in files:\n",
    "    shipments.append(pd.read_csv(f))"
   ]
  },
  {
   "cell_type": "code",
   "execution_count": 4,
   "metadata": {},
   "outputs": [],
   "source": [
    "train_df = pd.read_csv('train/train.csv')\n",
    "\n",
    "message_df = pd.read_csv('messages/messages.csv')\n",
    "actions_df = pd.read_csv('messages/actions.csv')\n",
    "\n",
    "addresses_df = pd.read_csv('misc/addresses.csv')\n",
    "user_profiles_df = pd.read_csv('misc/user_profiles.csv')\n",
    "master_categories_df = pd.read_csv('misc/master_categories.csv')\n",
    "\n",
    "sample_df  = pd.read_csv('sample_submission.csv')\n",
    "\n",
    "merged_shipments_df = pd.concat(shipments)\n",
    "merged_items_df = pd.concat(items)"
   ]
  },
  {
   "cell_type": "code",
   "execution_count": 5,
   "metadata": {},
   "outputs": [
    {
     "data": {
      "text/html": [
       "<div>\n",
       "<style scoped>\n",
       "    .dataframe tbody tr th:only-of-type {\n",
       "        vertical-align: middle;\n",
       "    }\n",
       "\n",
       "    .dataframe tbody tr th {\n",
       "        vertical-align: top;\n",
       "    }\n",
       "\n",
       "    .dataframe thead th {\n",
       "        text-align: right;\n",
       "    }\n",
       "</style>\n",
       "<table border=\"1\" class=\"dataframe\">\n",
       "  <thead>\n",
       "    <tr style=\"text-align: right;\">\n",
       "      <th></th>\n",
       "      <th>phone_id</th>\n",
       "      <th>order_completed_at</th>\n",
       "      <th>target</th>\n",
       "    </tr>\n",
       "  </thead>\n",
       "  <tbody>\n",
       "    <tr>\n",
       "      <th>0</th>\n",
       "      <td>19843</td>\n",
       "      <td>2020-01</td>\n",
       "      <td>1.0</td>\n",
       "    </tr>\n",
       "    <tr>\n",
       "      <th>1</th>\n",
       "      <td>19843</td>\n",
       "      <td>2020-02</td>\n",
       "      <td>0.0</td>\n",
       "    </tr>\n",
       "    <tr>\n",
       "      <th>2</th>\n",
       "      <td>19843</td>\n",
       "      <td>2020-03</td>\n",
       "      <td>0.0</td>\n",
       "    </tr>\n",
       "    <tr>\n",
       "      <th>3</th>\n",
       "      <td>19843</td>\n",
       "      <td>2020-04</td>\n",
       "      <td>0.0</td>\n",
       "    </tr>\n",
       "    <tr>\n",
       "      <th>4</th>\n",
       "      <td>19843</td>\n",
       "      <td>2020-05</td>\n",
       "      <td>0.0</td>\n",
       "    </tr>\n",
       "  </tbody>\n",
       "</table>\n",
       "</div>"
      ],
      "text/plain": [
       "   phone_id order_completed_at  target\n",
       "0     19843            2020-01     1.0\n",
       "1     19843            2020-02     0.0\n",
       "2     19843            2020-03     0.0\n",
       "3     19843            2020-04     0.0\n",
       "4     19843            2020-05     0.0"
      ]
     },
     "execution_count": 5,
     "metadata": {},
     "output_type": "execute_result"
    }
   ],
   "source": [
    "train_df.head()"
   ]
  },
  {
   "cell_type": "code",
   "execution_count": 6,
   "metadata": {},
   "outputs": [
    {
     "data": {
      "text/html": [
       "<div>\n",
       "<style scoped>\n",
       "    .dataframe tbody tr th:only-of-type {\n",
       "        vertical-align: middle;\n",
       "    }\n",
       "\n",
       "    .dataframe tbody tr th {\n",
       "        vertical-align: top;\n",
       "    }\n",
       "\n",
       "    .dataframe thead th {\n",
       "        text-align: right;\n",
       "    }\n",
       "</style>\n",
       "<table border=\"1\" class=\"dataframe\">\n",
       "  <thead>\n",
       "    <tr style=\"text-align: right;\">\n",
       "      <th></th>\n",
       "      <th>phone_id</th>\n",
       "      <th>target</th>\n",
       "    </tr>\n",
       "  </thead>\n",
       "  <tbody>\n",
       "    <tr>\n",
       "      <th>count</th>\n",
       "      <td>1.159576e+06</td>\n",
       "      <td>1.159576e+06</td>\n",
       "    </tr>\n",
       "    <tr>\n",
       "      <th>mean</th>\n",
       "      <td>2.122805e+05</td>\n",
       "      <td>5.004027e-01</td>\n",
       "    </tr>\n",
       "    <tr>\n",
       "      <th>std</th>\n",
       "      <td>1.675498e+05</td>\n",
       "      <td>5.000001e-01</td>\n",
       "    </tr>\n",
       "    <tr>\n",
       "      <th>min</th>\n",
       "      <td>2.000000e+00</td>\n",
       "      <td>0.000000e+00</td>\n",
       "    </tr>\n",
       "    <tr>\n",
       "      <th>25%</th>\n",
       "      <td>7.792750e+04</td>\n",
       "      <td>0.000000e+00</td>\n",
       "    </tr>\n",
       "    <tr>\n",
       "      <th>50%</th>\n",
       "      <td>1.723770e+05</td>\n",
       "      <td>1.000000e+00</td>\n",
       "    </tr>\n",
       "    <tr>\n",
       "      <th>75%</th>\n",
       "      <td>3.100738e+05</td>\n",
       "      <td>1.000000e+00</td>\n",
       "    </tr>\n",
       "    <tr>\n",
       "      <th>max</th>\n",
       "      <td>7.193740e+05</td>\n",
       "      <td>1.000000e+00</td>\n",
       "    </tr>\n",
       "  </tbody>\n",
       "</table>\n",
       "</div>"
      ],
      "text/plain": [
       "           phone_id        target\n",
       "count  1.159576e+06  1.159576e+06\n",
       "mean   2.122805e+05  5.004027e-01\n",
       "std    1.675498e+05  5.000001e-01\n",
       "min    2.000000e+00  0.000000e+00\n",
       "25%    7.792750e+04  0.000000e+00\n",
       "50%    1.723770e+05  1.000000e+00\n",
       "75%    3.100738e+05  1.000000e+00\n",
       "max    7.193740e+05  1.000000e+00"
      ]
     },
     "execution_count": 6,
     "metadata": {},
     "output_type": "execute_result"
    }
   ],
   "source": [
    "train_df.describe()"
   ]
  },
  {
   "cell_type": "code",
   "execution_count": 7,
   "metadata": {},
   "outputs": [],
   "source": [
    "shipments = pd.merge(merged_shipments_df, addresses_df, left_on ='ship_address_id', right_on = 'id')\n",
    "shipments['order_month'] = shipments['order_completed_at'].apply(lambda x: x[:7])\n",
    "train_df['order_month'] = train_df['order_completed_at']\n",
    "train_with_shipments_df = pd.merge(shipments, train_df, on=['phone_id', 'order_month'])"
   ]
  },
  {
   "cell_type": "code",
   "execution_count": 8,
   "metadata": {},
   "outputs": [
    {
     "data": {
      "text/html": [
       "<div>\n",
       "<style scoped>\n",
       "    .dataframe tbody tr th:only-of-type {\n",
       "        vertical-align: middle;\n",
       "    }\n",
       "\n",
       "    .dataframe tbody tr th {\n",
       "        vertical-align: top;\n",
       "    }\n",
       "\n",
       "    .dataframe thead th {\n",
       "        text-align: right;\n",
       "    }\n",
       "</style>\n",
       "<table border=\"1\" class=\"dataframe\">\n",
       "  <thead>\n",
       "    <tr style=\"text-align: right;\">\n",
       "      <th></th>\n",
       "      <th>user_id</th>\n",
       "      <th>ship_address_id</th>\n",
       "      <th>shipment_id</th>\n",
       "      <th>order_id</th>\n",
       "      <th>order_created_at</th>\n",
       "      <th>order_completed_at_x</th>\n",
       "      <th>shipment_starts_at</th>\n",
       "      <th>retailer</th>\n",
       "      <th>s.order_state</th>\n",
       "      <th>shipment_state</th>\n",
       "      <th>...</th>\n",
       "      <th>promo_total</th>\n",
       "      <th>total_weight</th>\n",
       "      <th>platform</th>\n",
       "      <th>os</th>\n",
       "      <th>shipped_at</th>\n",
       "      <th>id</th>\n",
       "      <th>phone_id</th>\n",
       "      <th>order_month</th>\n",
       "      <th>order_completed_at_y</th>\n",
       "      <th>target</th>\n",
       "    </tr>\n",
       "  </thead>\n",
       "  <tbody>\n",
       "    <tr>\n",
       "      <th>0</th>\n",
       "      <td>11019</td>\n",
       "      <td>171906</td>\n",
       "      <td>322307</td>\n",
       "      <td>2156687</td>\n",
       "      <td>2017-08-03 21:25:23</td>\n",
       "      <td>2020-02-18 14:07:00</td>\n",
       "      <td>2020-02-20 07:00:00</td>\n",
       "      <td>METRO</td>\n",
       "      <td>complete</td>\n",
       "      <td>shipped</td>\n",
       "      <td>...</td>\n",
       "      <td>0.0</td>\n",
       "      <td>30170</td>\n",
       "      <td>web</td>\n",
       "      <td>windows</td>\n",
       "      <td>2020-02-20 08:08:54</td>\n",
       "      <td>171906</td>\n",
       "      <td>78177</td>\n",
       "      <td>2020-02</td>\n",
       "      <td>2020-02</td>\n",
       "      <td>0.0</td>\n",
       "    </tr>\n",
       "    <tr>\n",
       "      <th>1</th>\n",
       "      <td>62278</td>\n",
       "      <td>278832</td>\n",
       "      <td>387023</td>\n",
       "      <td>3021953</td>\n",
       "      <td>2018-03-02 17:22:04</td>\n",
       "      <td>2020-01-03 13:09:26</td>\n",
       "      <td>2020-01-03 17:00:00</td>\n",
       "      <td>METRO</td>\n",
       "      <td>complete</td>\n",
       "      <td>shipped</td>\n",
       "      <td>...</td>\n",
       "      <td>-150.0</td>\n",
       "      <td>11305</td>\n",
       "      <td>web</td>\n",
       "      <td>windows</td>\n",
       "      <td>2020-01-03 18:10:40</td>\n",
       "      <td>278832</td>\n",
       "      <td>96681</td>\n",
       "      <td>2020-01</td>\n",
       "      <td>2020-01</td>\n",
       "      <td>0.0</td>\n",
       "    </tr>\n",
       "    <tr>\n",
       "      <th>2</th>\n",
       "      <td>905126</td>\n",
       "      <td>468407</td>\n",
       "      <td>388943</td>\n",
       "      <td>3018198</td>\n",
       "      <td>2018-02-28 11:32:47</td>\n",
       "      <td>2020-02-12 12:39:28</td>\n",
       "      <td>2020-02-13 11:00:00</td>\n",
       "      <td>METRO</td>\n",
       "      <td>complete</td>\n",
       "      <td>shipped</td>\n",
       "      <td>...</td>\n",
       "      <td>0.0</td>\n",
       "      <td>13589</td>\n",
       "      <td>app</td>\n",
       "      <td>ios</td>\n",
       "      <td>2020-02-13 12:33:53</td>\n",
       "      <td>468407</td>\n",
       "      <td>140317</td>\n",
       "      <td>2020-02</td>\n",
       "      <td>2020-02</td>\n",
       "      <td>1.0</td>\n",
       "    </tr>\n",
       "    <tr>\n",
       "      <th>3</th>\n",
       "      <td>905126</td>\n",
       "      <td>3404737</td>\n",
       "      <td>2471773</td>\n",
       "      <td>6278277</td>\n",
       "      <td>2020-02-12 12:39:29</td>\n",
       "      <td>2020-02-27 06:49:37</td>\n",
       "      <td>2020-02-28 05:00:00</td>\n",
       "      <td>METRO</td>\n",
       "      <td>complete</td>\n",
       "      <td>shipped</td>\n",
       "      <td>...</td>\n",
       "      <td>0.0</td>\n",
       "      <td>17580</td>\n",
       "      <td>app</td>\n",
       "      <td>ios</td>\n",
       "      <td>2020-02-28 05:52:24</td>\n",
       "      <td>3404737</td>\n",
       "      <td>140317</td>\n",
       "      <td>2020-02</td>\n",
       "      <td>2020-02</td>\n",
       "      <td>1.0</td>\n",
       "    </tr>\n",
       "    <tr>\n",
       "      <th>4</th>\n",
       "      <td>21412</td>\n",
       "      <td>61962</td>\n",
       "      <td>421048</td>\n",
       "      <td>3030227</td>\n",
       "      <td>2018-03-07 20:37:27</td>\n",
       "      <td>2020-01-25 11:58:56</td>\n",
       "      <td>2020-01-25 18:00:00</td>\n",
       "      <td>METRO</td>\n",
       "      <td>complete</td>\n",
       "      <td>shipped</td>\n",
       "      <td>...</td>\n",
       "      <td>0.0</td>\n",
       "      <td>9726</td>\n",
       "      <td>web</td>\n",
       "      <td>mac</td>\n",
       "      <td>2020-01-25 19:55:32</td>\n",
       "      <td>61962</td>\n",
       "      <td>16</td>\n",
       "      <td>2020-01</td>\n",
       "      <td>2020-01</td>\n",
       "      <td>1.0</td>\n",
       "    </tr>\n",
       "  </tbody>\n",
       "</table>\n",
       "<p>5 rows × 25 columns</p>\n",
       "</div>"
      ],
      "text/plain": [
       "   user_id  ship_address_id  shipment_id  order_id     order_created_at  \\\n",
       "0    11019           171906       322307   2156687  2017-08-03 21:25:23   \n",
       "1    62278           278832       387023   3021953  2018-03-02 17:22:04   \n",
       "2   905126           468407       388943   3018198  2018-02-28 11:32:47   \n",
       "3   905126          3404737      2471773   6278277  2020-02-12 12:39:29   \n",
       "4    21412            61962       421048   3030227  2018-03-07 20:37:27   \n",
       "\n",
       "  order_completed_at_x   shipment_starts_at retailer s.order_state  \\\n",
       "0  2020-02-18 14:07:00  2020-02-20 07:00:00    METRO      complete   \n",
       "1  2020-01-03 13:09:26  2020-01-03 17:00:00    METRO      complete   \n",
       "2  2020-02-12 12:39:28  2020-02-13 11:00:00    METRO      complete   \n",
       "3  2020-02-27 06:49:37  2020-02-28 05:00:00    METRO      complete   \n",
       "4  2020-01-25 11:58:56  2020-01-25 18:00:00    METRO      complete   \n",
       "\n",
       "  shipment_state  ... promo_total  total_weight  platform       os  \\\n",
       "0        shipped  ...         0.0         30170       web  windows   \n",
       "1        shipped  ...      -150.0         11305       web  windows   \n",
       "2        shipped  ...         0.0         13589       app      ios   \n",
       "3        shipped  ...         0.0         17580       app      ios   \n",
       "4        shipped  ...         0.0          9726       web      mac   \n",
       "\n",
       "            shipped_at       id  phone_id order_month order_completed_at_y  \\\n",
       "0  2020-02-20 08:08:54   171906     78177     2020-02              2020-02   \n",
       "1  2020-01-03 18:10:40   278832     96681     2020-01              2020-01   \n",
       "2  2020-02-13 12:33:53   468407    140317     2020-02              2020-02   \n",
       "3  2020-02-28 05:52:24  3404737    140317     2020-02              2020-02   \n",
       "4  2020-01-25 19:55:32    61962        16     2020-01              2020-01   \n",
       "\n",
       "  target  \n",
       "0    0.0  \n",
       "1    0.0  \n",
       "2    1.0  \n",
       "3    1.0  \n",
       "4    1.0  \n",
       "\n",
       "[5 rows x 25 columns]"
      ]
     },
     "execution_count": 8,
     "metadata": {},
     "output_type": "execute_result"
    }
   ],
   "source": [
    "# order_month\n",
    "train_with_shipments_df.head()"
   ]
  },
  {
   "cell_type": "code",
   "execution_count": 88,
   "metadata": {},
   "outputs": [
    {
     "data": {
      "text/plain": [
       "(1552657, 25)"
      ]
     },
     "execution_count": 88,
     "metadata": {},
     "output_type": "execute_result"
    }
   ],
   "source": [
    "train_with_shipments_df.shape"
   ]
  },
  {
   "cell_type": "code",
   "execution_count": 50,
   "metadata": {},
   "outputs": [
    {
     "data": {
      "text/html": [
       "<div>\n",
       "<style scoped>\n",
       "    .dataframe tbody tr th:only-of-type {\n",
       "        vertical-align: middle;\n",
       "    }\n",
       "\n",
       "    .dataframe tbody tr th {\n",
       "        vertical-align: top;\n",
       "    }\n",
       "\n",
       "    .dataframe thead th {\n",
       "        text-align: right;\n",
       "    }\n",
       "</style>\n",
       "<table border=\"1\" class=\"dataframe\">\n",
       "  <thead>\n",
       "    <tr style=\"text-align: right;\">\n",
       "      <th></th>\n",
       "      <th>user_id</th>\n",
       "      <th>ship_address_id</th>\n",
       "      <th>shipment_id</th>\n",
       "      <th>order_id</th>\n",
       "      <th>s.store_id</th>\n",
       "      <th>total_cost</th>\n",
       "      <th>rate</th>\n",
       "      <th>promo_total</th>\n",
       "      <th>total_weight</th>\n",
       "      <th>id</th>\n",
       "      <th>phone_id</th>\n",
       "      <th>target</th>\n",
       "    </tr>\n",
       "  </thead>\n",
       "  <tbody>\n",
       "    <tr>\n",
       "      <th>count</th>\n",
       "      <td>1.552657e+06</td>\n",
       "      <td>1.552657e+06</td>\n",
       "      <td>1.552657e+06</td>\n",
       "      <td>1.552657e+06</td>\n",
       "      <td>1.552657e+06</td>\n",
       "      <td>1.552657e+06</td>\n",
       "      <td>1.552657e+06</td>\n",
       "      <td>1.552657e+06</td>\n",
       "      <td>1.552657e+06</td>\n",
       "      <td>1.552657e+06</td>\n",
       "      <td>1.552657e+06</td>\n",
       "      <td>1.552657e+06</td>\n",
       "    </tr>\n",
       "    <tr>\n",
       "      <th>mean</th>\n",
       "      <td>1.243100e+06</td>\n",
       "      <td>7.093170e+06</td>\n",
       "      <td>5.796713e+06</td>\n",
       "      <td>1.004921e+07</td>\n",
       "      <td>1.306470e+02</td>\n",
       "      <td>1.281351e+02</td>\n",
       "      <td>3.084039e+00</td>\n",
       "      <td>-6.577535e+01</td>\n",
       "      <td>1.731134e+04</td>\n",
       "      <td>7.093170e+06</td>\n",
       "      <td>1.472760e+05</td>\n",
       "      <td>7.549459e-01</td>\n",
       "    </tr>\n",
       "    <tr>\n",
       "      <th>std</th>\n",
       "      <td>6.405497e+05</td>\n",
       "      <td>2.339686e+06</td>\n",
       "      <td>1.870865e+06</td>\n",
       "      <td>2.450648e+06</td>\n",
       "      <td>8.339042e+01</td>\n",
       "      <td>8.101631e+01</td>\n",
       "      <td>2.352854e+00</td>\n",
       "      <td>1.937663e+02</td>\n",
       "      <td>1.487902e+04</td>\n",
       "      <td>2.339686e+06</td>\n",
       "      <td>1.371394e+05</td>\n",
       "      <td>4.301194e-01</td>\n",
       "    </tr>\n",
       "    <tr>\n",
       "      <th>min</th>\n",
       "      <td>1.400000e+03</td>\n",
       "      <td>8.531000e+03</td>\n",
       "      <td>3.223070e+05</td>\n",
       "      <td>3.217000e+03</td>\n",
       "      <td>1.000000e+00</td>\n",
       "      <td>0.000000e+00</td>\n",
       "      <td>0.000000e+00</td>\n",
       "      <td>-2.500000e+04</td>\n",
       "      <td>0.000000e+00</td>\n",
       "      <td>8.531000e+03</td>\n",
       "      <td>2.000000e+00</td>\n",
       "      <td>0.000000e+00</td>\n",
       "    </tr>\n",
       "    <tr>\n",
       "      <th>25%</th>\n",
       "      <td>7.517660e+05</td>\n",
       "      <td>5.401437e+06</td>\n",
       "      <td>4.522671e+06</td>\n",
       "      <td>8.250798e+06</td>\n",
       "      <td>8.300000e+01</td>\n",
       "      <td>9.800000e+01</td>\n",
       "      <td>0.000000e+00</td>\n",
       "      <td>0.000000e+00</td>\n",
       "      <td>8.245000e+03</td>\n",
       "      <td>5.401437e+06</td>\n",
       "      <td>4.498000e+04</td>\n",
       "      <td>1.000000e+00</td>\n",
       "    </tr>\n",
       "    <tr>\n",
       "      <th>50%</th>\n",
       "      <td>1.299916e+06</td>\n",
       "      <td>7.400462e+06</td>\n",
       "      <td>6.073813e+06</td>\n",
       "      <td>1.027812e+07</td>\n",
       "      <td>1.230000e+02</td>\n",
       "      <td>1.580000e+02</td>\n",
       "      <td>5.000000e+00</td>\n",
       "      <td>0.000000e+00</td>\n",
       "      <td>1.362300e+04</td>\n",
       "      <td>7.400462e+06</td>\n",
       "      <td>1.056490e+05</td>\n",
       "      <td>1.000000e+00</td>\n",
       "    </tr>\n",
       "    <tr>\n",
       "      <th>75%</th>\n",
       "      <td>1.743510e+06</td>\n",
       "      <td>9.037081e+06</td>\n",
       "      <td>7.340688e+06</td>\n",
       "      <td>1.212049e+07</td>\n",
       "      <td>1.750000e+02</td>\n",
       "      <td>1.580000e+02</td>\n",
       "      <td>5.000000e+00</td>\n",
       "      <td>0.000000e+00</td>\n",
       "      <td>2.193000e+04</td>\n",
       "      <td>9.037081e+06</td>\n",
       "      <td>2.074500e+05</td>\n",
       "      <td>1.000000e+00</td>\n",
       "    </tr>\n",
       "    <tr>\n",
       "      <th>max</th>\n",
       "      <td>2.567553e+06</td>\n",
       "      <td>1.106808e+07</td>\n",
       "      <td>8.688456e+06</td>\n",
       "      <td>1.432182e+07</td>\n",
       "      <td>4.680000e+02</td>\n",
       "      <td>1.250900e+04</td>\n",
       "      <td>5.000000e+00</td>\n",
       "      <td>0.000000e+00</td>\n",
       "      <td>2.502000e+06</td>\n",
       "      <td>1.106808e+07</td>\n",
       "      <td>7.174770e+05</td>\n",
       "      <td>1.000000e+00</td>\n",
       "    </tr>\n",
       "  </tbody>\n",
       "</table>\n",
       "</div>"
      ],
      "text/plain": [
       "            user_id  ship_address_id   shipment_id      order_id  \\\n",
       "count  1.552657e+06     1.552657e+06  1.552657e+06  1.552657e+06   \n",
       "mean   1.243100e+06     7.093170e+06  5.796713e+06  1.004921e+07   \n",
       "std    6.405497e+05     2.339686e+06  1.870865e+06  2.450648e+06   \n",
       "min    1.400000e+03     8.531000e+03  3.223070e+05  3.217000e+03   \n",
       "25%    7.517660e+05     5.401437e+06  4.522671e+06  8.250798e+06   \n",
       "50%    1.299916e+06     7.400462e+06  6.073813e+06  1.027812e+07   \n",
       "75%    1.743510e+06     9.037081e+06  7.340688e+06  1.212049e+07   \n",
       "max    2.567553e+06     1.106808e+07  8.688456e+06  1.432182e+07   \n",
       "\n",
       "         s.store_id    total_cost          rate   promo_total  total_weight  \\\n",
       "count  1.552657e+06  1.552657e+06  1.552657e+06  1.552657e+06  1.552657e+06   \n",
       "mean   1.306470e+02  1.281351e+02  3.084039e+00 -6.577535e+01  1.731134e+04   \n",
       "std    8.339042e+01  8.101631e+01  2.352854e+00  1.937663e+02  1.487902e+04   \n",
       "min    1.000000e+00  0.000000e+00  0.000000e+00 -2.500000e+04  0.000000e+00   \n",
       "25%    8.300000e+01  9.800000e+01  0.000000e+00  0.000000e+00  8.245000e+03   \n",
       "50%    1.230000e+02  1.580000e+02  5.000000e+00  0.000000e+00  1.362300e+04   \n",
       "75%    1.750000e+02  1.580000e+02  5.000000e+00  0.000000e+00  2.193000e+04   \n",
       "max    4.680000e+02  1.250900e+04  5.000000e+00  0.000000e+00  2.502000e+06   \n",
       "\n",
       "                 id      phone_id        target  \n",
       "count  1.552657e+06  1.552657e+06  1.552657e+06  \n",
       "mean   7.093170e+06  1.472760e+05  7.549459e-01  \n",
       "std    2.339686e+06  1.371394e+05  4.301194e-01  \n",
       "min    8.531000e+03  2.000000e+00  0.000000e+00  \n",
       "25%    5.401437e+06  4.498000e+04  1.000000e+00  \n",
       "50%    7.400462e+06  1.056490e+05  1.000000e+00  \n",
       "75%    9.037081e+06  2.074500e+05  1.000000e+00  \n",
       "max    1.106808e+07  7.174770e+05  1.000000e+00  "
      ]
     },
     "execution_count": 50,
     "metadata": {},
     "output_type": "execute_result"
    }
   ],
   "source": [
    "train_with_shipments_df.describe()"
   ]
  },
  {
   "cell_type": "code",
   "execution_count": 77,
   "metadata": {},
   "outputs": [
    {
     "data": {
      "text/plain": [
       "Index(['user_id', 'ship_address_id', 'shipment_id', 'order_id',\n",
       "       'order_created_at', 'order_completed_at_x', 'shipment_starts_at',\n",
       "       'retailer', 's.order_state', 'shipment_state', 's.city_name',\n",
       "       's.store_id', 'total_cost', 'rate', 'dw_kind', 'promo_total',\n",
       "       'total_weight', 'platform', 'os', 'shipped_at', 'id', 'phone_id',\n",
       "       'order_month', 'order_completed_at_y', 'target'],\n",
       "      dtype='object')"
      ]
     },
     "execution_count": 77,
     "metadata": {},
     "output_type": "execute_result"
    }
   ],
   "source": [
    "train_with_shipments_df.columns"
   ]
  },
  {
   "cell_type": "code",
   "execution_count": 109,
   "metadata": {},
   "outputs": [],
   "source": [
    "grouped_single = train_with_shipments_df.groupby(['phone_id', 'order_month']).agg({'ship_address_id': ['mean', 'count'],\n",
    "                                                                 'shipment_id': ['mean', 'count'], \n",
    "                                           'total_cost': ['mean', 'count']})"
   ]
  },
  {
   "cell_type": "code",
   "execution_count": 110,
   "metadata": {},
   "outputs": [],
   "source": [
    "grouped_single.columns = ['ship_address_id_mean', 'ship_address_id_count', 'shipment_id_mean',\n",
    "                          'shipment_id_count', 'total_cost_mean', 'total_cost_count']"
   ]
  },
  {
   "cell_type": "code",
   "execution_count": 111,
   "metadata": {},
   "outputs": [],
   "source": [
    "grouped_single= grouped_single.reset_index()"
   ]
  },
  {
   "cell_type": "code",
   "execution_count": 112,
   "metadata": {},
   "outputs": [
    {
     "data": {
      "text/html": [
       "<div>\n",
       "<style scoped>\n",
       "    .dataframe tbody tr th:only-of-type {\n",
       "        vertical-align: middle;\n",
       "    }\n",
       "\n",
       "    .dataframe tbody tr th {\n",
       "        vertical-align: top;\n",
       "    }\n",
       "\n",
       "    .dataframe thead th {\n",
       "        text-align: right;\n",
       "    }\n",
       "</style>\n",
       "<table border=\"1\" class=\"dataframe\">\n",
       "  <thead>\n",
       "    <tr style=\"text-align: right;\">\n",
       "      <th></th>\n",
       "      <th>phone_id</th>\n",
       "      <th>order_month</th>\n",
       "      <th>ship_address_id_mean</th>\n",
       "      <th>ship_address_id_count</th>\n",
       "      <th>shipment_id_mean</th>\n",
       "      <th>shipment_id_count</th>\n",
       "      <th>total_cost_mean</th>\n",
       "      <th>total_cost_count</th>\n",
       "    </tr>\n",
       "  </thead>\n",
       "  <tbody>\n",
       "    <tr>\n",
       "      <th>0</th>\n",
       "      <td>2</td>\n",
       "      <td>2020-01</td>\n",
       "      <td>8531.0</td>\n",
       "      <td>1</td>\n",
       "      <td>2120074.0</td>\n",
       "      <td>1</td>\n",
       "      <td>98.0</td>\n",
       "      <td>1</td>\n",
       "    </tr>\n",
       "    <tr>\n",
       "      <th>1</th>\n",
       "      <td>2</td>\n",
       "      <td>2020-02</td>\n",
       "      <td>3127229.0</td>\n",
       "      <td>2</td>\n",
       "      <td>2414377.5</td>\n",
       "      <td>2</td>\n",
       "      <td>183.0</td>\n",
       "      <td>2</td>\n",
       "    </tr>\n",
       "    <tr>\n",
       "      <th>2</th>\n",
       "      <td>2</td>\n",
       "      <td>2020-03</td>\n",
       "      <td>3648206.0</td>\n",
       "      <td>1</td>\n",
       "      <td>2718666.0</td>\n",
       "      <td>1</td>\n",
       "      <td>233.0</td>\n",
       "      <td>1</td>\n",
       "    </tr>\n",
       "    <tr>\n",
       "      <th>3</th>\n",
       "      <td>2</td>\n",
       "      <td>2020-05</td>\n",
       "      <td>3921697.0</td>\n",
       "      <td>1</td>\n",
       "      <td>3600322.0</td>\n",
       "      <td>1</td>\n",
       "      <td>248.0</td>\n",
       "      <td>1</td>\n",
       "    </tr>\n",
       "    <tr>\n",
       "      <th>4</th>\n",
       "      <td>3</td>\n",
       "      <td>2020-03</td>\n",
       "      <td>4021446.0</td>\n",
       "      <td>2</td>\n",
       "      <td>2793912.0</td>\n",
       "      <td>2</td>\n",
       "      <td>0.0</td>\n",
       "      <td>2</td>\n",
       "    </tr>\n",
       "  </tbody>\n",
       "</table>\n",
       "</div>"
      ],
      "text/plain": [
       "   phone_id order_month  ship_address_id_mean  ship_address_id_count  \\\n",
       "0         2     2020-01                8531.0                      1   \n",
       "1         2     2020-02             3127229.0                      2   \n",
       "2         2     2020-03             3648206.0                      1   \n",
       "3         2     2020-05             3921697.0                      1   \n",
       "4         3     2020-03             4021446.0                      2   \n",
       "\n",
       "   shipment_id_mean  shipment_id_count  total_cost_mean  total_cost_count  \n",
       "0         2120074.0                  1             98.0                 1  \n",
       "1         2414377.5                  2            183.0                 2  \n",
       "2         2718666.0                  1            233.0                 1  \n",
       "3         3600322.0                  1            248.0                 1  \n",
       "4         2793912.0                  2              0.0                 2  "
      ]
     },
     "execution_count": 112,
     "metadata": {},
     "output_type": "execute_result"
    }
   ],
   "source": [
    "grouped_single.head()"
   ]
  },
  {
   "cell_type": "code",
   "execution_count": 113,
   "metadata": {},
   "outputs": [
    {
     "data": {
      "text/plain": [
       "(692773, 8)"
      ]
     },
     "execution_count": 113,
     "metadata": {},
     "output_type": "execute_result"
    }
   ],
   "source": [
    "grouped_single.shape"
   ]
  },
  {
   "cell_type": "code",
   "execution_count": 114,
   "metadata": {},
   "outputs": [],
   "source": [
    "id_columns = ['phone_id', 'order_month']"
   ]
  },
  {
   "cell_type": "code",
   "execution_count": 115,
   "metadata": {},
   "outputs": [],
   "source": [
    "grouped_single = pd.merge(grouped_single, train_df[id_columns +  ['target']], on = id_columns, how='left')"
   ]
  },
  {
   "cell_type": "code",
   "execution_count": 117,
   "metadata": {},
   "outputs": [],
   "source": [
    "# grouped_single[grouped_single'target'].head()"
   ]
  },
  {
   "cell_type": "code",
   "execution_count": 118,
   "metadata": {},
   "outputs": [
    {
     "data": {
      "text/plain": [
       "dtype('O')"
      ]
     },
     "execution_count": 118,
     "metadata": {},
     "output_type": "execute_result"
    }
   ],
   "source": [
    "grouped_single['order_month'].dtype"
   ]
  },
  {
   "cell_type": "code",
   "execution_count": 119,
   "metadata": {},
   "outputs": [],
   "source": [
    "grouped_single['order_month'] = pd.to_datetime(grouped_single['order_month'])"
   ]
  },
  {
   "cell_type": "code",
   "execution_count": 120,
   "metadata": {},
   "outputs": [],
   "source": [
    "X_train = grouped_single[grouped_single['order_month'] < pd.to_datetime('2020-07')]\n",
    "X_valid = grouped_single[grouped_single['order_month'] == pd.to_datetime('2020-07')]"
   ]
  },
  {
   "cell_type": "code",
   "execution_count": 121,
   "metadata": {},
   "outputs": [
    {
     "data": {
      "text/plain": [
       "((535492, 9), (157281, 9), (692773, 9))"
      ]
     },
     "execution_count": 121,
     "metadata": {},
     "output_type": "execute_result"
    }
   ],
   "source": [
    "X_train.shape, X_valid.shape, grouped_single.shape"
   ]
  },
  {
   "cell_type": "code",
   "execution_count": 128,
   "metadata": {},
   "outputs": [],
   "source": [
    "y_train = X_train['target']\n",
    "y_valid = X_valid['target']\n",
    "X_train = X_train.drop(id_columns + ['target'], axis=1)\n",
    "X_valid = X_valid.drop(id_columns + ['target'], axis=1)"
   ]
  },
  {
   "cell_type": "code",
   "execution_count": 122,
   "metadata": {},
   "outputs": [],
   "source": [
    "from catboost import CatBoostClassifier\n",
    "from xgboost import XGBClassifier\n",
    "# from lightgbm import LGBMClassifier"
   ]
  },
  {
   "cell_type": "code",
   "execution_count": 124,
   "metadata": {},
   "outputs": [],
   "source": [
    "# model = XGBClassifier(tree_method = 'gpu_hist')\n",
    "# model.fit(X_train, y_train)\n",
    "# preds = model.predict(X_test)\n",
    "# metrics.accuracy_score(y_test, preds)"
   ]
  },
  {
   "cell_type": "code",
   "execution_count": 146,
   "metadata": {},
   "outputs": [],
   "source": [
    "from sklearn.model_selection import KFold, GridSearchCV"
   ]
  },
  {
   "cell_type": "code",
   "execution_count": 166,
   "metadata": {},
   "outputs": [],
   "source": [
    "cv_params = [\n",
    "  {\n",
    "    'n_estimators': [50, 100, 150, 200],\n",
    "    'learning_rate': [0.01, 0.1, 0.2, 0.3],\n",
    "#     'max_depth': range(3, 10),\n",
    "#     'colsample_bytree': [i/10.0 for i in range(1, 3)],\n",
    "#     'gamma': [i/10.0 for i in range(3)]\n",
    "  }\n",
    "]    # parameters to be tries in the grid search\n",
    "\n",
    "kfold = KFold(n_splits=10, random_state=42)\n",
    "scoring = {'F1':'f1'}\n",
    "\n",
    "\n",
    "fix_params = {\n",
    "              'tree_method': 'gpu_hist',\n",
    "              'objective':'binary:logistic'}   #other parameters, fixed for the moment \n",
    "csv = GridSearchCV(XGBClassifier(**fix_params), cv_params, scoring = 'f1', cv = kfold,  verbose=10)"
   ]
  },
  {
   "cell_type": "code",
   "execution_count": 167,
   "metadata": {},
   "outputs": [
    {
     "name": "stdout",
     "output_type": "stream",
     "text": [
      "Fitting 10 folds for each of 16 candidates, totalling 160 fits\n",
      "[CV] learning_rate=0.01, n_estimators=50 .............................\n"
     ]
    },
    {
     "name": "stderr",
     "output_type": "stream",
     "text": [
      "[Parallel(n_jobs=1)]: Using backend SequentialBackend with 1 concurrent workers.\n"
     ]
    },
    {
     "name": "stdout",
     "output_type": "stream",
     "text": [
      "[CV] . learning_rate=0.01, n_estimators=50, score=0.862, total=   1.1s\n",
      "[CV] learning_rate=0.01, n_estimators=50 .............................\n"
     ]
    },
    {
     "name": "stderr",
     "output_type": "stream",
     "text": [
      "[Parallel(n_jobs=1)]: Done   1 out of   1 | elapsed:    1.1s remaining:    0.0s\n"
     ]
    },
    {
     "name": "stdout",
     "output_type": "stream",
     "text": [
      "[CV] . learning_rate=0.01, n_estimators=50, score=0.831, total=   1.0s\n",
      "[CV] learning_rate=0.01, n_estimators=50 .............................\n"
     ]
    },
    {
     "name": "stderr",
     "output_type": "stream",
     "text": [
      "[Parallel(n_jobs=1)]: Done   2 out of   2 | elapsed:    2.1s remaining:    0.0s\n"
     ]
    },
    {
     "name": "stdout",
     "output_type": "stream",
     "text": [
      "[CV] . learning_rate=0.01, n_estimators=50, score=0.831, total=   1.0s\n",
      "[CV] learning_rate=0.01, n_estimators=50 .............................\n"
     ]
    },
    {
     "name": "stderr",
     "output_type": "stream",
     "text": [
      "[Parallel(n_jobs=1)]: Done   3 out of   3 | elapsed:    3.0s remaining:    0.0s\n"
     ]
    },
    {
     "name": "stdout",
     "output_type": "stream",
     "text": [
      "[CV] . learning_rate=0.01, n_estimators=50, score=0.811, total=   1.0s\n",
      "[CV] learning_rate=0.01, n_estimators=50 .............................\n"
     ]
    },
    {
     "name": "stderr",
     "output_type": "stream",
     "text": [
      "[Parallel(n_jobs=1)]: Done   4 out of   4 | elapsed:    4.0s remaining:    0.0s\n"
     ]
    },
    {
     "name": "stdout",
     "output_type": "stream",
     "text": [
      "[CV] . learning_rate=0.01, n_estimators=50, score=0.808, total=   0.6s\n",
      "[CV] learning_rate=0.01, n_estimators=50 .............................\n"
     ]
    },
    {
     "name": "stderr",
     "output_type": "stream",
     "text": [
      "[Parallel(n_jobs=1)]: Done   5 out of   5 | elapsed:    4.6s remaining:    0.0s\n"
     ]
    },
    {
     "name": "stdout",
     "output_type": "stream",
     "text": [
      "[CV] . learning_rate=0.01, n_estimators=50, score=0.781, total=   0.6s\n",
      "[CV] learning_rate=0.01, n_estimators=50 .............................\n"
     ]
    },
    {
     "name": "stderr",
     "output_type": "stream",
     "text": [
      "[Parallel(n_jobs=1)]: Done   6 out of   6 | elapsed:    5.3s remaining:    0.0s\n"
     ]
    },
    {
     "name": "stdout",
     "output_type": "stream",
     "text": [
      "[CV] . learning_rate=0.01, n_estimators=50, score=0.747, total=   0.6s\n",
      "[CV] learning_rate=0.01, n_estimators=50 .............................\n"
     ]
    },
    {
     "name": "stderr",
     "output_type": "stream",
     "text": [
      "[Parallel(n_jobs=1)]: Done   7 out of   7 | elapsed:    5.9s remaining:    0.0s\n"
     ]
    },
    {
     "name": "stdout",
     "output_type": "stream",
     "text": [
      "[CV] . learning_rate=0.01, n_estimators=50, score=0.705, total=   0.7s\n",
      "[CV] learning_rate=0.01, n_estimators=50 .............................\n"
     ]
    },
    {
     "name": "stderr",
     "output_type": "stream",
     "text": [
      "[Parallel(n_jobs=1)]: Done   8 out of   8 | elapsed:    6.6s remaining:    0.0s\n"
     ]
    },
    {
     "name": "stdout",
     "output_type": "stream",
     "text": [
      "[CV] . learning_rate=0.01, n_estimators=50, score=0.674, total=   0.7s\n",
      "[CV] learning_rate=0.01, n_estimators=50 .............................\n"
     ]
    },
    {
     "name": "stderr",
     "output_type": "stream",
     "text": [
      "[Parallel(n_jobs=1)]: Done   9 out of   9 | elapsed:    7.3s remaining:    0.0s\n"
     ]
    },
    {
     "name": "stdout",
     "output_type": "stream",
     "text": [
      "[CV] . learning_rate=0.01, n_estimators=50, score=0.541, total=   1.0s\n",
      "[CV] learning_rate=0.01, n_estimators=100 ............................\n",
      "[CV]  learning_rate=0.01, n_estimators=100, score=0.868, total=   1.6s\n",
      "[CV] learning_rate=0.01, n_estimators=100 ............................\n",
      "[CV]  learning_rate=0.01, n_estimators=100, score=0.833, total=   1.6s\n",
      "[CV] learning_rate=0.01, n_estimators=100 ............................\n",
      "[CV]  learning_rate=0.01, n_estimators=100, score=0.831, total=   1.5s\n",
      "[CV] learning_rate=0.01, n_estimators=100 ............................\n",
      "[CV]  learning_rate=0.01, n_estimators=100, score=0.807, total=   1.2s\n",
      "[CV] learning_rate=0.01, n_estimators=100 ............................\n",
      "[CV]  learning_rate=0.01, n_estimators=100, score=0.810, total=   0.9s\n",
      "[CV] learning_rate=0.01, n_estimators=100 ............................\n",
      "[CV]  learning_rate=0.01, n_estimators=100, score=0.781, total=   0.9s\n",
      "[CV] learning_rate=0.01, n_estimators=100 ............................\n",
      "[CV]  learning_rate=0.01, n_estimators=100, score=0.747, total=   0.9s\n",
      "[CV] learning_rate=0.01, n_estimators=100 ............................\n",
      "[CV]  learning_rate=0.01, n_estimators=100, score=0.705, total=   0.9s\n",
      "[CV] learning_rate=0.01, n_estimators=100 ............................\n",
      "[CV]  learning_rate=0.01, n_estimators=100, score=0.675, total=   0.9s\n",
      "[CV] learning_rate=0.01, n_estimators=100 ............................\n",
      "[CV]  learning_rate=0.01, n_estimators=100, score=0.540, total=   1.4s\n",
      "[CV] learning_rate=0.01, n_estimators=150 ............................\n",
      "[CV]  learning_rate=0.01, n_estimators=150, score=0.868, total=   2.1s\n",
      "[CV] learning_rate=0.01, n_estimators=150 ............................\n",
      "[CV]  learning_rate=0.01, n_estimators=150, score=0.833, total=   2.0s\n",
      "[CV] learning_rate=0.01, n_estimators=150 ............................\n",
      "[CV]  learning_rate=0.01, n_estimators=150, score=0.831, total=   1.1s\n",
      "[CV] learning_rate=0.01, n_estimators=150 ............................\n",
      "[CV]  learning_rate=0.01, n_estimators=150, score=0.808, total=   1.1s\n",
      "[CV] learning_rate=0.01, n_estimators=150 ............................\n",
      "[CV]  learning_rate=0.01, n_estimators=150, score=0.806, total=   1.1s\n",
      "[CV] learning_rate=0.01, n_estimators=150 ............................\n",
      "[CV]  learning_rate=0.01, n_estimators=150, score=0.781, total=   1.9s\n",
      "[CV] learning_rate=0.01, n_estimators=150 ............................\n",
      "[CV]  learning_rate=0.01, n_estimators=150, score=0.747, total=   2.1s\n",
      "[CV] learning_rate=0.01, n_estimators=150 ............................\n",
      "[CV]  learning_rate=0.01, n_estimators=150, score=0.703, total=   2.1s\n",
      "[CV] learning_rate=0.01, n_estimators=150 ............................\n",
      "[CV]  learning_rate=0.01, n_estimators=150, score=0.673, total=   1.1s\n",
      "[CV] learning_rate=0.01, n_estimators=150 ............................\n",
      "[CV]  learning_rate=0.01, n_estimators=150, score=0.541, total=   1.1s\n",
      "[CV] learning_rate=0.01, n_estimators=200 ............................\n",
      "[CV]  learning_rate=0.01, n_estimators=200, score=0.869, total=   1.3s\n",
      "[CV] learning_rate=0.01, n_estimators=200 ............................\n",
      "[CV]  learning_rate=0.01, n_estimators=200, score=0.833, total=   2.5s\n",
      "[CV] learning_rate=0.01, n_estimators=200 ............................\n",
      "[CV]  learning_rate=0.01, n_estimators=200, score=0.833, total=   2.6s\n",
      "[CV] learning_rate=0.01, n_estimators=200 ............................\n",
      "[CV]  learning_rate=0.01, n_estimators=200, score=0.810, total=   2.2s\n",
      "[CV] learning_rate=0.01, n_estimators=200 ............................\n",
      "[CV]  learning_rate=0.01, n_estimators=200, score=0.810, total=   1.4s\n",
      "[CV] learning_rate=0.01, n_estimators=200 ............................\n",
      "[CV]  learning_rate=0.01, n_estimators=200, score=0.782, total=   2.0s\n",
      "[CV] learning_rate=0.01, n_estimators=200 ............................\n",
      "[CV]  learning_rate=0.01, n_estimators=200, score=0.747, total=   2.6s\n",
      "[CV] learning_rate=0.01, n_estimators=200 ............................\n",
      "[CV]  learning_rate=0.01, n_estimators=200, score=0.705, total=   2.7s\n",
      "[CV] learning_rate=0.01, n_estimators=200 ............................\n",
      "[CV]  learning_rate=0.01, n_estimators=200, score=0.676, total=   1.7s\n",
      "[CV] learning_rate=0.01, n_estimators=200 ............................\n",
      "[CV]  learning_rate=0.01, n_estimators=200, score=0.543, total=   1.3s\n",
      "[CV] learning_rate=0.1, n_estimators=50 ..............................\n",
      "[CV] .. learning_rate=0.1, n_estimators=50, score=0.867, total=   0.6s\n",
      "[CV] learning_rate=0.1, n_estimators=50 ..............................\n",
      "[CV] .. learning_rate=0.1, n_estimators=50, score=0.836, total=   0.6s\n",
      "[CV] learning_rate=0.1, n_estimators=50 ..............................\n",
      "[CV] .. learning_rate=0.1, n_estimators=50, score=0.836, total=   1.0s\n",
      "[CV] learning_rate=0.1, n_estimators=50 ..............................\n",
      "[CV] .. learning_rate=0.1, n_estimators=50, score=0.815, total=   1.0s\n",
      "[CV] learning_rate=0.1, n_estimators=50 ..............................\n",
      "[CV] .. learning_rate=0.1, n_estimators=50, score=0.811, total=   1.0s\n",
      "[CV] learning_rate=0.1, n_estimators=50 ..............................\n",
      "[CV] .. learning_rate=0.1, n_estimators=50, score=0.784, total=   1.0s\n",
      "[CV] learning_rate=0.1, n_estimators=50 ..............................\n",
      "[CV] .. learning_rate=0.1, n_estimators=50, score=0.751, total=   1.0s\n",
      "[CV] learning_rate=0.1, n_estimators=50 ..............................\n",
      "[CV] .. learning_rate=0.1, n_estimators=50, score=0.706, total=   1.0s\n",
      "[CV] learning_rate=0.1, n_estimators=50 ..............................\n",
      "[CV] .. learning_rate=0.1, n_estimators=50, score=0.681, total=   1.0s\n",
      "[CV] learning_rate=0.1, n_estimators=50 ..............................\n",
      "[CV] .. learning_rate=0.1, n_estimators=50, score=0.544, total=   0.7s\n",
      "[CV] learning_rate=0.1, n_estimators=100 .............................\n",
      "[CV] . learning_rate=0.1, n_estimators=100, score=0.868, total=   0.8s\n",
      "[CV] learning_rate=0.1, n_estimators=100 .............................\n",
      "[CV] . learning_rate=0.1, n_estimators=100, score=0.838, total=   0.8s\n",
      "[CV] learning_rate=0.1, n_estimators=100 .............................\n",
      "[CV] . learning_rate=0.1, n_estimators=100, score=0.837, total=   0.9s\n",
      "[CV] learning_rate=0.1, n_estimators=100 .............................\n",
      "[CV] . learning_rate=0.1, n_estimators=100, score=0.816, total=   1.5s\n",
      "[CV] learning_rate=0.1, n_estimators=100 .............................\n",
      "[CV] . learning_rate=0.1, n_estimators=100, score=0.810, total=   1.4s\n",
      "[CV] learning_rate=0.1, n_estimators=100 .............................\n",
      "[CV] . learning_rate=0.1, n_estimators=100, score=0.782, total=   1.4s\n",
      "[CV] learning_rate=0.1, n_estimators=100 .............................\n",
      "[CV] . learning_rate=0.1, n_estimators=100, score=0.750, total=   1.5s\n",
      "[CV] learning_rate=0.1, n_estimators=100 .............................\n",
      "[CV] . learning_rate=0.1, n_estimators=100, score=0.706, total=   1.2s\n",
      "[CV] learning_rate=0.1, n_estimators=100 .............................\n",
      "[CV] . learning_rate=0.1, n_estimators=100, score=0.677, total=   0.9s\n",
      "[CV] learning_rate=0.1, n_estimators=100 .............................\n",
      "[CV] . learning_rate=0.1, n_estimators=100, score=0.542, total=   0.8s\n",
      "[CV] learning_rate=0.1, n_estimators=150 .............................\n",
      "[CV] . learning_rate=0.1, n_estimators=150, score=0.867, total=   1.0s\n",
      "[CV] learning_rate=0.1, n_estimators=150 .............................\n",
      "[CV] . learning_rate=0.1, n_estimators=150, score=0.838, total=   2.0s\n",
      "[CV] learning_rate=0.1, n_estimators=150 .............................\n",
      "[CV] . learning_rate=0.1, n_estimators=150, score=0.837, total=   1.9s\n",
      "[CV] learning_rate=0.1, n_estimators=150 .............................\n",
      "[CV] . learning_rate=0.1, n_estimators=150, score=0.816, total=   1.9s\n",
      "[CV] learning_rate=0.1, n_estimators=150 .............................\n",
      "[CV] . learning_rate=0.1, n_estimators=150, score=0.810, total=   1.6s\n",
      "[CV] learning_rate=0.1, n_estimators=150 .............................\n",
      "[CV] . learning_rate=0.1, n_estimators=150, score=0.782, total=   1.1s\n",
      "[CV] learning_rate=0.1, n_estimators=150 .............................\n",
      "[CV] . learning_rate=0.1, n_estimators=150, score=0.749, total=   1.1s\n",
      "[CV] learning_rate=0.1, n_estimators=150 .............................\n"
     ]
    },
    {
     "name": "stdout",
     "output_type": "stream",
     "text": [
      "[CV] . learning_rate=0.1, n_estimators=150, score=0.705, total=   1.1s\n",
      "[CV] learning_rate=0.1, n_estimators=150 .............................\n",
      "[CV] . learning_rate=0.1, n_estimators=150, score=0.674, total=   1.9s\n",
      "[CV] learning_rate=0.1, n_estimators=150 .............................\n",
      "[CV] . learning_rate=0.1, n_estimators=150, score=0.541, total=   2.0s\n",
      "[CV] learning_rate=0.1, n_estimators=200 .............................\n",
      "[CV] . learning_rate=0.1, n_estimators=200, score=0.867, total=   2.5s\n",
      "[CV] learning_rate=0.1, n_estimators=200 .............................\n",
      "[CV] . learning_rate=0.1, n_estimators=200, score=0.838, total=   1.3s\n",
      "[CV] learning_rate=0.1, n_estimators=200 .............................\n",
      "[CV] . learning_rate=0.1, n_estimators=200, score=0.837, total=   1.2s\n",
      "[CV] learning_rate=0.1, n_estimators=200 .............................\n",
      "[CV] . learning_rate=0.1, n_estimators=200, score=0.816, total=   1.2s\n",
      "[CV] learning_rate=0.1, n_estimators=200 .............................\n",
      "[CV] . learning_rate=0.1, n_estimators=200, score=0.810, total=   2.3s\n",
      "[CV] learning_rate=0.1, n_estimators=200 .............................\n",
      "[CV] . learning_rate=0.1, n_estimators=200, score=0.782, total=   2.4s\n",
      "[CV] learning_rate=0.1, n_estimators=200 .............................\n",
      "[CV] . learning_rate=0.1, n_estimators=200, score=0.748, total=   2.1s\n",
      "[CV] learning_rate=0.1, n_estimators=200 .............................\n",
      "[CV] . learning_rate=0.1, n_estimators=200, score=0.704, total=   1.2s\n",
      "[CV] learning_rate=0.1, n_estimators=200 .............................\n",
      "[CV] . learning_rate=0.1, n_estimators=200, score=0.669, total=   1.2s\n",
      "[CV] learning_rate=0.1, n_estimators=200 .............................\n",
      "[CV] . learning_rate=0.1, n_estimators=200, score=0.541, total=   2.3s\n",
      "[CV] learning_rate=0.2, n_estimators=50 ..............................\n",
      "[CV] .. learning_rate=0.2, n_estimators=50, score=0.867, total=   1.0s\n",
      "[CV] learning_rate=0.2, n_estimators=50 ..............................\n",
      "[CV] .. learning_rate=0.2, n_estimators=50, score=0.838, total=   1.0s\n",
      "[CV] learning_rate=0.2, n_estimators=50 ..............................\n",
      "[CV] .. learning_rate=0.2, n_estimators=50, score=0.838, total=   1.0s\n",
      "[CV] learning_rate=0.2, n_estimators=50 ..............................\n",
      "[CV] .. learning_rate=0.2, n_estimators=50, score=0.815, total=   1.0s\n",
      "[CV] learning_rate=0.2, n_estimators=50 ..............................\n",
      "[CV] .. learning_rate=0.2, n_estimators=50, score=0.810, total=   1.0s\n",
      "[CV] learning_rate=0.2, n_estimators=50 ..............................\n",
      "[CV] .. learning_rate=0.2, n_estimators=50, score=0.783, total=   0.6s\n",
      "[CV] learning_rate=0.2, n_estimators=50 ..............................\n",
      "[CV] .. learning_rate=0.2, n_estimators=50, score=0.749, total=   0.6s\n",
      "[CV] learning_rate=0.2, n_estimators=50 ..............................\n",
      "[CV] .. learning_rate=0.2, n_estimators=50, score=0.707, total=   0.7s\n",
      "[CV] learning_rate=0.2, n_estimators=50 ..............................\n",
      "[CV] .. learning_rate=0.2, n_estimators=50, score=0.675, total=   0.6s\n",
      "[CV] learning_rate=0.2, n_estimators=50 ..............................\n",
      "[CV] .. learning_rate=0.2, n_estimators=50, score=0.543, total=   0.6s\n",
      "[CV] learning_rate=0.2, n_estimators=100 .............................\n",
      "[CV] . learning_rate=0.2, n_estimators=100, score=0.867, total=   0.8s\n",
      "[CV] learning_rate=0.2, n_estimators=100 .............................\n",
      "[CV] . learning_rate=0.2, n_estimators=100, score=0.838, total=   1.4s\n",
      "[CV] learning_rate=0.2, n_estimators=100 .............................\n",
      "[CV] . learning_rate=0.2, n_estimators=100, score=0.837, total=   1.4s\n",
      "[CV] learning_rate=0.2, n_estimators=100 .............................\n",
      "[CV] . learning_rate=0.2, n_estimators=100, score=0.816, total=   1.4s\n",
      "[CV] learning_rate=0.2, n_estimators=100 .............................\n",
      "[CV] . learning_rate=0.2, n_estimators=100, score=0.810, total=   1.4s\n",
      "[CV] learning_rate=0.2, n_estimators=100 .............................\n",
      "[CV] . learning_rate=0.2, n_estimators=100, score=0.782, total=   0.9s\n",
      "[CV] learning_rate=0.2, n_estimators=100 .............................\n",
      "[CV] . learning_rate=0.2, n_estimators=100, score=0.749, total=   0.8s\n",
      "[CV] learning_rate=0.2, n_estimators=100 .............................\n",
      "[CV] . learning_rate=0.2, n_estimators=100, score=0.706, total=   0.8s\n",
      "[CV] learning_rate=0.2, n_estimators=100 .............................\n",
      "[CV] . learning_rate=0.2, n_estimators=100, score=0.669, total=   0.9s\n",
      "[CV] learning_rate=0.2, n_estimators=100 .............................\n",
      "[CV] . learning_rate=0.2, n_estimators=100, score=0.542, total=   1.1s\n",
      "[CV] learning_rate=0.2, n_estimators=150 .............................\n",
      "[CV] . learning_rate=0.2, n_estimators=150, score=0.867, total=   1.9s\n",
      "[CV] learning_rate=0.2, n_estimators=150 .............................\n",
      "[CV] . learning_rate=0.2, n_estimators=150, score=0.838, total=   1.9s\n",
      "[CV] learning_rate=0.2, n_estimators=150 .............................\n",
      "[CV] . learning_rate=0.2, n_estimators=150, score=0.837, total=   1.9s\n",
      "[CV] learning_rate=0.2, n_estimators=150 .............................\n",
      "[CV] . learning_rate=0.2, n_estimators=150, score=0.816, total=   1.0s\n",
      "[CV] learning_rate=0.2, n_estimators=150 .............................\n",
      "[CV] . learning_rate=0.2, n_estimators=150, score=0.810, total=   1.0s\n",
      "[CV] learning_rate=0.2, n_estimators=150 .............................\n",
      "[CV] . learning_rate=0.2, n_estimators=150, score=0.782, total=   1.0s\n",
      "[CV] learning_rate=0.2, n_estimators=150 .............................\n",
      "[CV] . learning_rate=0.2, n_estimators=150, score=0.748, total=   1.5s\n",
      "[CV] learning_rate=0.2, n_estimators=150 .............................\n",
      "[CV] . learning_rate=0.2, n_estimators=150, score=0.705, total=   1.9s\n",
      "[CV] learning_rate=0.2, n_estimators=150 .............................\n",
      "[CV] . learning_rate=0.2, n_estimators=150, score=0.659, total=   1.9s\n",
      "[CV] learning_rate=0.2, n_estimators=150 .............................\n",
      "[CV] . learning_rate=0.2, n_estimators=150, score=0.542, total=   1.9s\n",
      "[CV] learning_rate=0.2, n_estimators=200 .............................\n",
      "[CV] . learning_rate=0.2, n_estimators=200, score=0.868, total=   1.2s\n",
      "[CV] learning_rate=0.2, n_estimators=200 .............................\n",
      "[CV] . learning_rate=0.2, n_estimators=200, score=0.838, total=   1.2s\n",
      "[CV] learning_rate=0.2, n_estimators=200 .............................\n",
      "[CV] . learning_rate=0.2, n_estimators=200, score=0.836, total=   1.3s\n",
      "[CV] learning_rate=0.2, n_estimators=200 .............................\n",
      "[CV] . learning_rate=0.2, n_estimators=200, score=0.815, total=   2.3s\n",
      "[CV] learning_rate=0.2, n_estimators=200 .............................\n",
      "[CV] . learning_rate=0.2, n_estimators=200, score=0.809, total=   2.4s\n",
      "[CV] learning_rate=0.2, n_estimators=200 .............................\n",
      "[CV] . learning_rate=0.2, n_estimators=200, score=0.781, total=   2.1s\n",
      "[CV] learning_rate=0.2, n_estimators=200 .............................\n",
      "[CV] . learning_rate=0.2, n_estimators=200, score=0.748, total=   1.2s\n",
      "[CV] learning_rate=0.2, n_estimators=200 .............................\n",
      "[CV] . learning_rate=0.2, n_estimators=200, score=0.704, total=   1.2s\n",
      "[CV] learning_rate=0.2, n_estimators=200 .............................\n",
      "[CV] . learning_rate=0.2, n_estimators=200, score=0.657, total=   1.1s\n",
      "[CV] learning_rate=0.2, n_estimators=200 .............................\n",
      "[CV] . learning_rate=0.2, n_estimators=200, score=0.541, total=   2.4s\n",
      "[CV] learning_rate=0.3, n_estimators=50 ..............................\n",
      "[CV] .. learning_rate=0.3, n_estimators=50, score=0.867, total=   1.0s\n",
      "[CV] learning_rate=0.3, n_estimators=50 ..............................\n",
      "[CV] .. learning_rate=0.3, n_estimators=50, score=0.839, total=   0.9s\n",
      "[CV] learning_rate=0.3, n_estimators=50 ..............................\n",
      "[CV] .. learning_rate=0.3, n_estimators=50, score=0.837, total=   0.9s\n",
      "[CV] learning_rate=0.3, n_estimators=50 ..............................\n",
      "[CV] .. learning_rate=0.3, n_estimators=50, score=0.816, total=   0.9s\n",
      "[CV] learning_rate=0.3, n_estimators=50 ..............................\n",
      "[CV] .. learning_rate=0.3, n_estimators=50, score=0.809, total=   0.6s\n",
      "[CV] learning_rate=0.3, n_estimators=50 ..............................\n"
     ]
    },
    {
     "name": "stdout",
     "output_type": "stream",
     "text": [
      "[CV] .. learning_rate=0.3, n_estimators=50, score=0.782, total=   0.6s\n",
      "[CV] learning_rate=0.3, n_estimators=50 ..............................\n",
      "[CV] .. learning_rate=0.3, n_estimators=50, score=0.749, total=   0.6s\n",
      "[CV] learning_rate=0.3, n_estimators=50 ..............................\n",
      "[CV] .. learning_rate=0.3, n_estimators=50, score=0.705, total=   0.6s\n",
      "[CV] learning_rate=0.3, n_estimators=50 ..............................\n",
      "[CV] .. learning_rate=0.3, n_estimators=50, score=0.670, total=   0.6s\n",
      "[CV] learning_rate=0.3, n_estimators=50 ..............................\n",
      "[CV] .. learning_rate=0.3, n_estimators=50, score=0.543, total=   1.0s\n",
      "[CV] learning_rate=0.3, n_estimators=100 .............................\n",
      "[CV] . learning_rate=0.3, n_estimators=100, score=0.867, total=   1.5s\n",
      "[CV] learning_rate=0.3, n_estimators=100 .............................\n",
      "[CV] . learning_rate=0.3, n_estimators=100, score=0.838, total=   1.4s\n",
      "[CV] learning_rate=0.3, n_estimators=100 .............................\n",
      "[CV] . learning_rate=0.3, n_estimators=100, score=0.836, total=   1.4s\n",
      "[CV] learning_rate=0.3, n_estimators=100 .............................\n",
      "[CV] . learning_rate=0.3, n_estimators=100, score=0.815, total=   1.4s\n",
      "[CV] learning_rate=0.3, n_estimators=100 .............................\n",
      "[CV] . learning_rate=0.3, n_estimators=100, score=0.809, total=   0.8s\n",
      "[CV] learning_rate=0.3, n_estimators=100 .............................\n",
      "[CV] . learning_rate=0.3, n_estimators=100, score=0.781, total=   0.8s\n",
      "[CV] learning_rate=0.3, n_estimators=100 .............................\n",
      "[CV] . learning_rate=0.3, n_estimators=100, score=0.746, total=   0.8s\n",
      "[CV] learning_rate=0.3, n_estimators=100 .............................\n",
      "[CV] . learning_rate=0.3, n_estimators=100, score=0.704, total=   1.1s\n",
      "[CV] learning_rate=0.3, n_estimators=100 .............................\n",
      "[CV] . learning_rate=0.3, n_estimators=100, score=0.662, total=   1.4s\n",
      "[CV] learning_rate=0.3, n_estimators=100 .............................\n",
      "[CV] . learning_rate=0.3, n_estimators=100, score=0.543, total=   1.4s\n",
      "[CV] learning_rate=0.3, n_estimators=150 .............................\n",
      "[CV] . learning_rate=0.3, n_estimators=150, score=0.867, total=   1.8s\n",
      "[CV] learning_rate=0.3, n_estimators=150 .............................\n",
      "[CV] . learning_rate=0.3, n_estimators=150, score=0.838, total=   1.9s\n",
      "[CV] learning_rate=0.3, n_estimators=150 .............................\n",
      "[CV] . learning_rate=0.3, n_estimators=150, score=0.836, total=   1.0s\n",
      "[CV] learning_rate=0.3, n_estimators=150 .............................\n",
      "[CV] . learning_rate=0.3, n_estimators=150, score=0.815, total=   1.0s\n",
      "[CV] learning_rate=0.3, n_estimators=150 .............................\n",
      "[CV] . learning_rate=0.3, n_estimators=150, score=0.809, total=   1.0s\n",
      "[CV] learning_rate=0.3, n_estimators=150 .............................\n",
      "[CV] . learning_rate=0.3, n_estimators=150, score=0.780, total=   1.4s\n",
      "[CV] learning_rate=0.3, n_estimators=150 .............................\n",
      "[CV] . learning_rate=0.3, n_estimators=150, score=0.746, total=   1.8s\n",
      "[CV] learning_rate=0.3, n_estimators=150 .............................\n",
      "[CV] . learning_rate=0.3, n_estimators=150, score=0.703, total=   1.9s\n",
      "[CV] learning_rate=0.3, n_estimators=150 .............................\n",
      "[CV] . learning_rate=0.3, n_estimators=150, score=0.657, total=   1.8s\n",
      "[CV] learning_rate=0.3, n_estimators=150 .............................\n",
      "[CV] . learning_rate=0.3, n_estimators=150, score=0.542, total=   1.0s\n",
      "[CV] learning_rate=0.3, n_estimators=200 .............................\n",
      "[CV] . learning_rate=0.3, n_estimators=200, score=0.868, total=   1.2s\n",
      "[CV] learning_rate=0.3, n_estimators=200 .............................\n",
      "[CV] . learning_rate=0.3, n_estimators=200, score=0.837, total=   1.1s\n",
      "[CV] learning_rate=0.3, n_estimators=200 .............................\n",
      "[CV] . learning_rate=0.3, n_estimators=200, score=0.836, total=   2.4s\n",
      "[CV] learning_rate=0.3, n_estimators=200 .............................\n",
      "[CV] . learning_rate=0.3, n_estimators=200, score=0.815, total=   2.3s\n",
      "[CV] learning_rate=0.3, n_estimators=200 .............................\n",
      "[CV] . learning_rate=0.3, n_estimators=200, score=0.808, total=   2.4s\n",
      "[CV] learning_rate=0.3, n_estimators=200 .............................\n",
      "[CV] . learning_rate=0.3, n_estimators=200, score=0.780, total=   1.1s\n",
      "[CV] learning_rate=0.3, n_estimators=200 .............................\n",
      "[CV] . learning_rate=0.3, n_estimators=200, score=0.745, total=   1.2s\n",
      "[CV] learning_rate=0.3, n_estimators=200 .............................\n",
      "[CV] . learning_rate=0.3, n_estimators=200, score=0.703, total=   1.2s\n",
      "[CV] learning_rate=0.3, n_estimators=200 .............................\n",
      "[CV] . learning_rate=0.3, n_estimators=200, score=0.657, total=   2.3s\n",
      "[CV] learning_rate=0.3, n_estimators=200 .............................\n",
      "[CV] . learning_rate=0.3, n_estimators=200, score=0.537, total=   2.3s\n"
     ]
    },
    {
     "name": "stderr",
     "output_type": "stream",
     "text": [
      "[Parallel(n_jobs=1)]: Done 160 out of 160 | elapsed:  3.5min finished\n"
     ]
    },
    {
     "data": {
      "text/plain": [
       "GridSearchCV(cv=KFold(n_splits=10, random_state=42, shuffle=False),\n",
       "             error_score='raise-deprecating',\n",
       "             estimator=XGBClassifier(base_score=None, booster=None,\n",
       "                                     colsample_bylevel=None,\n",
       "                                     colsample_bynode=None,\n",
       "                                     colsample_bytree=None, gamma=None,\n",
       "                                     gpu_id=None, importance_type='gain',\n",
       "                                     interaction_constraints=None,\n",
       "                                     learning_rate=None, max_delta_step=None,\n",
       "                                     max_depth=None, min_...\n",
       "                                     objective='binary:logistic',\n",
       "                                     random_state=None, reg_alpha=None,\n",
       "                                     reg_lambda=None, scale_pos_weight=None,\n",
       "                                     subsample=None, tree_method='gpu_hist',\n",
       "                                     validate_parameters=None, verbosity=None),\n",
       "             iid='warn', n_jobs=None,\n",
       "             param_grid=[{'learning_rate': [0.01, 0.1, 0.2, 0.3],\n",
       "                          'n_estimators': [50, 100, 150, 200]}],\n",
       "             pre_dispatch='2*n_jobs', refit=True, return_train_score=False,\n",
       "             scoring='f1', verbose=10)"
      ]
     },
     "execution_count": 167,
     "metadata": {},
     "output_type": "execute_result"
    }
   ],
   "source": [
    "csv.fit(X_train, y_train)"
   ]
  },
  {
   "cell_type": "code",
   "execution_count": 170,
   "metadata": {},
   "outputs": [
    {
     "data": {
      "text/plain": [
       "{'learning_rate': 0.1, 'n_estimators': 50}"
      ]
     },
     "execution_count": 170,
     "metadata": {},
     "output_type": "execute_result"
    }
   ],
   "source": [
    "csv.best_params_"
   ]
  },
  {
   "cell_type": "code",
   "execution_count": 171,
   "metadata": {},
   "outputs": [
    {
     "name": "stdout",
     "output_type": "stream",
     "text": [
      "{'learning_rate': 0.1, 'n_estimators': 50}\n"
     ]
    },
    {
     "ename": "NameError",
     "evalue": "name 'pickle' is not defined",
     "output_type": "error",
     "traceback": [
      "\u001b[0;31m---------------------------------------------------------------------------\u001b[0m",
      "\u001b[0;31mNameError\u001b[0m                                 Traceback (most recent call last)",
      "\u001b[0;32m<ipython-input-171-af734865680e>\u001b[0m in \u001b[0;36m<module>\u001b[0;34m\u001b[0m\n\u001b[1;32m      4\u001b[0m \u001b[0mprint\u001b[0m\u001b[0;34m(\u001b[0m\u001b[0mbest_params\u001b[0m\u001b[0;34m)\u001b[0m\u001b[0;34m\u001b[0m\u001b[0;34m\u001b[0m\u001b[0m\n\u001b[1;32m      5\u001b[0m \u001b[0;31m# Save model\u001b[0m\u001b[0;34m\u001b[0m\u001b[0;34m\u001b[0m\u001b[0;34m\u001b[0m\u001b[0m\n\u001b[0;32m----> 6\u001b[0;31m \u001b[0mpickle\u001b[0m\u001b[0;34m.\u001b[0m\u001b[0mdump\u001b[0m\u001b[0;34m(\u001b[0m\u001b[0mcsv\u001b[0m\u001b[0;34m.\u001b[0m\u001b[0mbest_estimator_\u001b[0m\u001b[0;34m,\u001b[0m \u001b[0mopen\u001b[0m\u001b[0;34m(\u001b[0m\u001b[0;34m\"xgb_v1.pickle\"\u001b[0m\u001b[0;34m,\u001b[0m \u001b[0;34m\"wb\"\u001b[0m\u001b[0;34m)\u001b[0m\u001b[0;34m)\u001b[0m\u001b[0;34m\u001b[0m\u001b[0;34m\u001b[0m\u001b[0m\n\u001b[0m",
      "\u001b[0;31mNameError\u001b[0m: name 'pickle' is not defined"
     ]
    }
   ],
   "source": [
    "best_params = csv.best_params_\n",
    "# Best XGB model that was found based on the metric score you specify\n",
    "best_model = csv.best_estimator_\n",
    "print(best_params)\n",
    "# Save model\n",
    "pickle.dump(csv.best_estimator_, open(\"xgb_v1.pickle\", \"wb\"))"
   ]
  },
  {
   "cell_type": "code",
   "execution_count": 142,
   "metadata": {},
   "outputs": [],
   "source": [
    "# def f1_eval(y_pred, dtrain):\n",
    "#     y_true = dtrain.get_label()\n",
    "#     err = 1-f1_score(y_true, np.round(y_pred))\n",
    "#     return 'f1_err', err"
   ]
  },
  {
   "cell_type": "code",
   "execution_count": null,
   "metadata": {},
   "outputs": [],
   "source": [
    "# from sklearn import metrics\n",
    "# model = XGBClassifier(tree_method = 'gpu_hist', max_depth=6, learning_rate=0.1,silent=False, objective='binary:logistic', \\\n",
    "#                       booster='gbtree', n_jobs=8, nthread=None, gamma=0, min_child_weight=1, max_delta_step=0, \\\n",
    "#                       subsample=0.8, colsample_bytree=0.8, colsample_bylevel=1, reg_alpha=0, reg_lambda=1)\n",
    "# model.fit(X_train, y_train, eval_metric=f1_eval)\n",
    "# preds = model.predict(X_valid)\n",
    "\n",
    "# print(metrics.accuracy_score(y_valid, preds))\n",
    "# print(metrics.f1_score(y_valid, preds))"
   ]
  },
  {
   "cell_type": "code",
   "execution_count": null,
   "metadata": {},
   "outputs": [],
   "source": []
  },
  {
   "cell_type": "code",
   "execution_count": null,
   "metadata": {},
   "outputs": [],
   "source": []
  },
  {
   "cell_type": "code",
   "execution_count": 173,
   "metadata": {},
   "outputs": [
    {
     "name": "stdout",
     "output_type": "stream",
     "text": [
      "rnd-pr is unavailable. Please insert correct address manually.\n"
     ]
    },
    {
     "name": "stderr",
     "output_type": "stream",
     "text": [
      "/home/asrozhk2/.local/lib/python3.7/site-packages/dstools/spark/core.py:615: FutureWarning: Passing a negative integer is deprecated in version 1.0 and will not be supported in future version. Instead, use None to not limit the column width.\n",
      "  pd.set_option('display.max_colwidth', -1)\n"
     ]
    }
   ],
   "source": [
    "from dstools.spark import init_spark2, active_namenode\n",
    "\n",
    "clusters = ['rnd-dwh', 'rnd-pr']\n",
    "namenodes = {c: active_namenode(c) for c in clusters}\n",
    "\n",
    "session_name='hello'\n",
    "arrow_enabled = True\n",
    "\n",
    "spark = init_spark2({\n",
    "    'appName': f\"{session_name}\",\n",
    "    'spark.yarn.access.namenodes': namenodes['rnd-dwh'],\n",
    "    'spark.sql.execution.arrow.enabled': arrow_enabled,\n",
    "#     'spark.driver.extraClassPath': conf.get('spark.driver.extraClassPath'),\n",
    "#     'spark.extraListeners': conf.get('spark.extraListeners'),\n",
    "#     'spark.network.timeout': 100000\n",
    "})\n",
    "\n",
    "# sdf = spark.read.orc(f\"{namenodes['rnd-dwh']}:8020/apps/hive/warehouse/dmdigpr_sb.db/ivyeliso_ngwl_train_shipments\")\n"
   ]
  },
  {
   "cell_type": "code",
   "execution_count": 175,
   "metadata": {},
   "outputs": [
    {
     "ename": "RuntimeError",
     "evalue": "'MultiIndex' object has no attribute 'labels'\nNote: toPandas attempted Arrow optimization because 'spark.sql.execution.arrow.enabled' is set to true. Please set it to false to disable this.",
     "output_type": "error",
     "traceback": [
      "\u001b[0;31m---------------------------------------------------------------------------\u001b[0m",
      "\u001b[0;31mAttributeError\u001b[0m                            Traceback (most recent call last)",
      "\u001b[0;32m/usr/hdp/current/spark2-client/python/pyspark/sql/dataframe.py\u001b[0m in \u001b[0;36mtoPandas\u001b[0;34m(self)\u001b[0m\n\u001b[1;32m   1953\u001b[0m                     \u001b[0mtable\u001b[0m \u001b[0;34m=\u001b[0m \u001b[0mpyarrow\u001b[0m\u001b[0;34m.\u001b[0m\u001b[0mconcat_tables\u001b[0m\u001b[0;34m(\u001b[0m\u001b[0mtables\u001b[0m\u001b[0;34m)\u001b[0m\u001b[0;34m\u001b[0m\u001b[0;34m\u001b[0m\u001b[0m\n\u001b[0;32m-> 1954\u001b[0;31m                     \u001b[0mpdf\u001b[0m \u001b[0;34m=\u001b[0m \u001b[0mtable\u001b[0m\u001b[0;34m.\u001b[0m\u001b[0mto_pandas\u001b[0m\u001b[0;34m(\u001b[0m\u001b[0;34m)\u001b[0m\u001b[0;34m\u001b[0m\u001b[0;34m\u001b[0m\u001b[0m\n\u001b[0m\u001b[1;32m   1955\u001b[0m                     \u001b[0mpdf\u001b[0m \u001b[0;34m=\u001b[0m \u001b[0m_check_dataframe_convert_date\u001b[0m\u001b[0;34m(\u001b[0m\u001b[0mpdf\u001b[0m\u001b[0;34m,\u001b[0m \u001b[0mself\u001b[0m\u001b[0;34m.\u001b[0m\u001b[0mschema\u001b[0m\u001b[0;34m)\u001b[0m\u001b[0;34m\u001b[0m\u001b[0;34m\u001b[0m\u001b[0m\n",
      "\u001b[0;32m~/.local/lib/python3.7/site-packages/pyarrow/table.pxi\u001b[0m in \u001b[0;36mpyarrow.lib.Table.to_pandas\u001b[0;34m()\u001b[0m\n",
      "\u001b[0;32m~/.local/lib/python3.7/site-packages/pyarrow/pandas_compat.py\u001b[0m in \u001b[0;36mtable_to_blockmanager\u001b[0;34m(options, table, memory_pool, categories)\u001b[0m\n\u001b[1;32m    620\u001b[0m     \u001b[0;31m# ARROW-1751: flatten a single level column MultiIndex for pandas 0.21.0\u001b[0m\u001b[0;34m\u001b[0m\u001b[0;34m\u001b[0m\u001b[0;34m\u001b[0m\u001b[0m\n\u001b[0;32m--> 621\u001b[0;31m     \u001b[0mcolumns\u001b[0m \u001b[0;34m=\u001b[0m \u001b[0m_flatten_single_level_multiindex\u001b[0m\u001b[0;34m(\u001b[0m\u001b[0mcolumns\u001b[0m\u001b[0;34m)\u001b[0m\u001b[0;34m\u001b[0m\u001b[0;34m\u001b[0m\u001b[0m\n\u001b[0m\u001b[1;32m    622\u001b[0m \u001b[0;34m\u001b[0m\u001b[0m\n",
      "\u001b[0;32m~/.local/lib/python3.7/site-packages/pyarrow/pandas_compat.py\u001b[0m in \u001b[0;36m_flatten_single_level_multiindex\u001b[0;34m(index)\u001b[0m\n\u001b[1;32m    751\u001b[0m         \u001b[0mlevels\u001b[0m\u001b[0;34m,\u001b[0m \u001b[0;34m=\u001b[0m \u001b[0mindex\u001b[0m\u001b[0;34m.\u001b[0m\u001b[0mlevels\u001b[0m\u001b[0;34m\u001b[0m\u001b[0;34m\u001b[0m\u001b[0m\n\u001b[0;32m--> 752\u001b[0;31m         \u001b[0mlabels\u001b[0m\u001b[0;34m,\u001b[0m \u001b[0;34m=\u001b[0m \u001b[0mindex\u001b[0m\u001b[0;34m.\u001b[0m\u001b[0mlabels\u001b[0m\u001b[0;34m\u001b[0m\u001b[0;34m\u001b[0m\u001b[0m\n\u001b[0m\u001b[1;32m    753\u001b[0m \u001b[0;34m\u001b[0m\u001b[0m\n",
      "\u001b[0;31mAttributeError\u001b[0m: 'MultiIndex' object has no attribute 'labels'",
      "\nDuring handling of the above exception, another exception occurred:\n",
      "\u001b[0;31mRuntimeError\u001b[0m                              Traceback (most recent call last)",
      "\u001b[0;32m<ipython-input-175-3fc05e1cb178>\u001b[0m in \u001b[0;36m<module>\u001b[0;34m\u001b[0m\n\u001b[0;32m----> 1\u001b[0;31m \u001b[0mgenerate_features_df\u001b[0m \u001b[0;34m=\u001b[0m \u001b[0mspark\u001b[0m\u001b[0;34m.\u001b[0m\u001b[0mread\u001b[0m\u001b[0;34m.\u001b[0m\u001b[0mparquet\u001b[0m\u001b[0;34m(\u001b[0m\u001b[0;34mf\"{namenodes['rnd-dwh']}:8020/apps/hive/warehouse/dmdigpr_sb.db/ivyeliso_ngwl_train_shipments\"\u001b[0m\u001b[0;34m)\u001b[0m\u001b[0;34m.\u001b[0m\u001b[0mtoPandas\u001b[0m\u001b[0;34m(\u001b[0m\u001b[0;34m)\u001b[0m\u001b[0;34m\u001b[0m\u001b[0;34m\u001b[0m\u001b[0m\n\u001b[0m",
      "\u001b[0;32m/usr/hdp/current/spark2-client/python/pyspark/sql/dataframe.py\u001b[0m in \u001b[0;36mtoPandas\u001b[0;34m(self)\u001b[0m\n\u001b[1;32m   1962\u001b[0m                     \u001b[0;34m\"'spark.sql.execution.arrow.enabled' is set to true. Please set it to false \"\u001b[0m\u001b[0;34m\u001b[0m\u001b[0;34m\u001b[0m\u001b[0m\n\u001b[1;32m   1963\u001b[0m                     \"to disable this.\")\n\u001b[0;32m-> 1964\u001b[0;31m                 \u001b[0;32mraise\u001b[0m \u001b[0mRuntimeError\u001b[0m\u001b[0;34m(\u001b[0m\u001b[0;34m\"%s\\n%s\"\u001b[0m \u001b[0;34m%\u001b[0m \u001b[0;34m(\u001b[0m\u001b[0m_exception_message\u001b[0m\u001b[0;34m(\u001b[0m\u001b[0me\u001b[0m\u001b[0;34m)\u001b[0m\u001b[0;34m,\u001b[0m \u001b[0mmsg\u001b[0m\u001b[0;34m)\u001b[0m\u001b[0;34m)\u001b[0m\u001b[0;34m\u001b[0m\u001b[0;34m\u001b[0m\u001b[0m\n\u001b[0m\u001b[1;32m   1965\u001b[0m         \u001b[0;32melse\u001b[0m\u001b[0;34m:\u001b[0m\u001b[0;34m\u001b[0m\u001b[0;34m\u001b[0m\u001b[0m\n\u001b[1;32m   1966\u001b[0m             \u001b[0mpdf\u001b[0m \u001b[0;34m=\u001b[0m \u001b[0mpd\u001b[0m\u001b[0;34m.\u001b[0m\u001b[0mDataFrame\u001b[0m\u001b[0;34m.\u001b[0m\u001b[0mfrom_records\u001b[0m\u001b[0;34m(\u001b[0m\u001b[0mself\u001b[0m\u001b[0;34m.\u001b[0m\u001b[0mcollect\u001b[0m\u001b[0;34m(\u001b[0m\u001b[0;34m)\u001b[0m\u001b[0;34m,\u001b[0m \u001b[0mcolumns\u001b[0m\u001b[0;34m=\u001b[0m\u001b[0mself\u001b[0m\u001b[0;34m.\u001b[0m\u001b[0mcolumns\u001b[0m\u001b[0;34m)\u001b[0m\u001b[0;34m\u001b[0m\u001b[0;34m\u001b[0m\u001b[0m\n",
      "\u001b[0;31mRuntimeError\u001b[0m: 'MultiIndex' object has no attribute 'labels'\nNote: toPandas attempted Arrow optimization because 'spark.sql.execution.arrow.enabled' is set to true. Please set it to false to disable this."
     ]
    }
   ],
   "source": [
    "generate_features_df = spark.read.parquet(f\"{namenodes['rnd-dwh']}:8020/apps/hive/warehouse/dmdigpr_sb.db/ivyeliso_ngwl_train_shipments\").toPandas()"
   ]
  },
  {
   "cell_type": "code",
   "execution_count": 169,
   "metadata": {},
   "outputs": [
    {
     "data": {
      "text/html": [
       "<div>\n",
       "<style scoped>\n",
       "    .dataframe tbody tr th:only-of-type {\n",
       "        vertical-align: middle;\n",
       "    }\n",
       "\n",
       "    .dataframe tbody tr th {\n",
       "        vertical-align: top;\n",
       "    }\n",
       "\n",
       "    .dataframe thead th {\n",
       "        text-align: right;\n",
       "    }\n",
       "</style>\n",
       "<table border=\"1\" class=\"dataframe\">\n",
       "  <thead>\n",
       "    <tr style=\"text-align: right;\">\n",
       "      <th></th>\n",
       "      <th>Id;Predicted</th>\n",
       "    </tr>\n",
       "  </thead>\n",
       "  <tbody>\n",
       "    <tr>\n",
       "      <th>0</th>\n",
       "      <td>19843;</td>\n",
       "    </tr>\n",
       "    <tr>\n",
       "      <th>1</th>\n",
       "      <td>471287;</td>\n",
       "    </tr>\n",
       "    <tr>\n",
       "      <th>2</th>\n",
       "      <td>342522;</td>\n",
       "    </tr>\n",
       "    <tr>\n",
       "      <th>3</th>\n",
       "      <td>457799;</td>\n",
       "    </tr>\n",
       "    <tr>\n",
       "      <th>4</th>\n",
       "      <td>233778;</td>\n",
       "    </tr>\n",
       "  </tbody>\n",
       "</table>\n",
       "</div>"
      ],
      "text/plain": [
       "  Id;Predicted\n",
       "0  19843;     \n",
       "1  471287;    \n",
       "2  342522;    \n",
       "3  457799;    \n",
       "4  233778;    "
      ]
     },
     "execution_count": 169,
     "metadata": {},
     "output_type": "execute_result"
    }
   ],
   "source": [
    "sample_df.head()"
   ]
  },
  {
   "cell_type": "code",
   "execution_count": null,
   "metadata": {},
   "outputs": [],
   "source": [
    "generate_features_df.head()"
   ]
  },
  {
   "cell_type": "code",
   "execution_count": null,
   "metadata": {},
   "outputs": [],
   "source": []
  }
 ],
 "metadata": {
  "kernelspec": {
   "display_name": "Python 3",
   "language": "python",
   "name": "python3"
  },
  "language_info": {
   "codemirror_mode": {
    "name": "ipython",
    "version": 3
   },
   "file_extension": ".py",
   "mimetype": "text/x-python",
   "name": "python",
   "nbconvert_exporter": "python",
   "pygments_lexer": "ipython3",
   "version": "3.7.3"
  }
 },
 "nbformat": 4,
 "nbformat_minor": 2
}

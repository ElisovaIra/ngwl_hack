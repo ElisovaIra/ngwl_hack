{
 "cells": [
  {
   "cell_type": "markdown",
   "metadata": {},
   "source": [
    "# Uplift model"
   ]
  },
  {
   "cell_type": "code",
   "execution_count": 2,
   "metadata": {
    "ExecuteTime": {
     "end_time": "2020-10-17T23:39:51.479788Z",
     "start_time": "2020-10-17T23:39:51.231055Z"
    }
   },
   "outputs": [],
   "source": [
    "import pandas as pd\n",
    "import numpy as np\n",
    "import datetime"
   ]
  },
  {
   "cell_type": "markdown",
   "metadata": {},
   "source": [
    "# EDA"
   ]
  },
  {
   "cell_type": "code",
   "execution_count": 114,
   "metadata": {
    "ExecuteTime": {
     "end_time": "2020-10-18T08:49:07.295861Z",
     "start_time": "2020-10-18T08:49:07.091305Z"
    }
   },
   "outputs": [],
   "source": [
    "train = pd.read_csv('train/train.csv')"
   ]
  },
  {
   "cell_type": "code",
   "execution_count": 3,
   "metadata": {
    "ExecuteTime": {
     "end_time": "2020-10-17T23:39:55.964376Z",
     "start_time": "2020-10-17T23:39:51.958386Z"
    }
   },
   "outputs": [
    {
     "data": {
      "text/plain": [
       "((962, 4), (18275907, 3))"
      ]
     },
     "execution_count": 3,
     "metadata": {},
     "output_type": "execute_result"
    }
   ],
   "source": [
    "actions = pd.read_csv('messages/actions.csv')\n",
    "messages = pd.read_csv('messages/messages.csv')\n",
    "\n",
    "actions.shape, messages.shape"
   ]
  },
  {
   "cell_type": "code",
   "execution_count": 4,
   "metadata": {
    "ExecuteTime": {
     "end_time": "2020-10-17T23:40:26.404032Z",
     "start_time": "2020-10-17T23:40:18.892287Z"
    }
   },
   "outputs": [],
   "source": [
    "messages['datetime'] = messages['sent'].apply(lambda x: \n",
    "                                              datetime.datetime.utcfromtimestamp(x))"
   ]
  },
  {
   "cell_type": "code",
   "execution_count": 5,
   "metadata": {
    "ExecuteTime": {
     "end_time": "2020-10-17T23:41:08.108102Z",
     "start_time": "2020-10-17T23:40:26.406512Z"
    }
   },
   "outputs": [],
   "source": [
    "messages['datetime_str'] = messages['sent'].apply(lambda x: \n",
    "                                              datetime.datetime.utcfromtimestamp(x).strftime('%Y-%m-%dT%H:%M:%SZ'))"
   ]
  },
  {
   "cell_type": "code",
   "execution_count": 18,
   "metadata": {
    "ExecuteTime": {
     "end_time": "2020-10-17T23:56:20.962977Z",
     "start_time": "2020-10-17T23:56:17.329996Z"
    }
   },
   "outputs": [],
   "source": [
    "messages['order_month'] = messages['datetime_str'].apply(lambda x: x[:7])"
   ]
  },
  {
   "cell_type": "code",
   "execution_count": 7,
   "metadata": {
    "ExecuteTime": {
     "end_time": "2020-10-17T23:42:06.748032Z",
     "start_time": "2020-10-17T23:41:11.545946Z"
    }
   },
   "outputs": [],
   "source": [
    "messages['date'] = messages['datetime'].apply(lambda x: x.date())"
   ]
  },
  {
   "cell_type": "code",
   "execution_count": 8,
   "metadata": {
    "ExecuteTime": {
     "end_time": "2020-10-17T23:42:13.266567Z",
     "start_time": "2020-10-17T23:42:06.749524Z"
    }
   },
   "outputs": [],
   "source": [
    "messages = messages.merge(actions,\n",
    "              left_on='action_id',\n",
    "              right_on='id',\n",
    "              how='left')"
   ]
  },
  {
   "cell_type": "code",
   "execution_count": 112,
   "metadata": {
    "ExecuteTime": {
     "end_time": "2020-10-18T08:44:30.976901Z",
     "start_time": "2020-10-18T08:44:27.986200Z"
    }
   },
   "outputs": [
    {
     "data": {
      "text/html": [
       "<div>\n",
       "<style scoped>\n",
       "    .dataframe tbody tr th:only-of-type {\n",
       "        vertical-align: middle;\n",
       "    }\n",
       "\n",
       "    .dataframe tbody tr th {\n",
       "        vertical-align: top;\n",
       "    }\n",
       "\n",
       "    .dataframe thead th {\n",
       "        text-align: right;\n",
       "    }\n",
       "</style>\n",
       "<table border=\"1\" class=\"dataframe\">\n",
       "  <thead>\n",
       "    <tr style=\"text-align: right;\">\n",
       "      <th>type</th>\n",
       "      <th>email</th>\n",
       "      <th>push</th>\n",
       "      <th>sms</th>\n",
       "    </tr>\n",
       "    <tr>\n",
       "      <th>order_month</th>\n",
       "      <th></th>\n",
       "      <th></th>\n",
       "      <th></th>\n",
       "    </tr>\n",
       "  </thead>\n",
       "  <tbody>\n",
       "    <tr>\n",
       "      <th>2020-01</th>\n",
       "      <td>27153</td>\n",
       "      <td>235055</td>\n",
       "      <td>0</td>\n",
       "    </tr>\n",
       "    <tr>\n",
       "      <th>2020-02</th>\n",
       "      <td>45369</td>\n",
       "      <td>527105</td>\n",
       "      <td>0</td>\n",
       "    </tr>\n",
       "    <tr>\n",
       "      <th>2020-03</th>\n",
       "      <td>48917</td>\n",
       "      <td>622147</td>\n",
       "      <td>0</td>\n",
       "    </tr>\n",
       "    <tr>\n",
       "      <th>2020-04</th>\n",
       "      <td>350795</td>\n",
       "      <td>1283408</td>\n",
       "      <td>0</td>\n",
       "    </tr>\n",
       "    <tr>\n",
       "      <th>2020-05</th>\n",
       "      <td>222670</td>\n",
       "      <td>2909471</td>\n",
       "      <td>0</td>\n",
       "    </tr>\n",
       "    <tr>\n",
       "      <th>2020-06</th>\n",
       "      <td>247387</td>\n",
       "      <td>2203203</td>\n",
       "      <td>0</td>\n",
       "    </tr>\n",
       "    <tr>\n",
       "      <th>2020-07</th>\n",
       "      <td>455450</td>\n",
       "      <td>5146939</td>\n",
       "      <td>0</td>\n",
       "    </tr>\n",
       "    <tr>\n",
       "      <th>2020-08</th>\n",
       "      <td>743905</td>\n",
       "      <td>2916929</td>\n",
       "      <td>290004</td>\n",
       "    </tr>\n",
       "  </tbody>\n",
       "</table>\n",
       "</div>"
      ],
      "text/plain": [
       "type          email     push     sms\n",
       "order_month                         \n",
       "2020-01       27153   235055       0\n",
       "2020-02       45369   527105       0\n",
       "2020-03       48917   622147       0\n",
       "2020-04      350795  1283408       0\n",
       "2020-05      222670  2909471       0\n",
       "2020-06      247387  2203203       0\n",
       "2020-07      455450  5146939       0\n",
       "2020-08      743905  2916929  290004"
      ]
     },
     "execution_count": 112,
     "metadata": {},
     "output_type": "execute_result"
    }
   ],
   "source": [
    "pd.crosstab(messages['order_month'], messages['type'])"
   ]
  },
  {
   "cell_type": "code",
   "execution_count": 17,
   "metadata": {
    "ExecuteTime": {
     "end_time": "2020-10-17T23:50:35.043072Z",
     "start_time": "2020-10-17T23:50:35.031547Z"
    }
   },
   "outputs": [
    {
     "data": {
      "text/html": [
       "<div>\n",
       "<style scoped>\n",
       "    .dataframe tbody tr th:only-of-type {\n",
       "        vertical-align: middle;\n",
       "    }\n",
       "\n",
       "    .dataframe tbody tr th {\n",
       "        vertical-align: top;\n",
       "    }\n",
       "\n",
       "    .dataframe thead th {\n",
       "        text-align: right;\n",
       "    }\n",
       "</style>\n",
       "<table border=\"1\" class=\"dataframe\">\n",
       "  <thead>\n",
       "    <tr style=\"text-align: right;\">\n",
       "      <th></th>\n",
       "      <th>sent</th>\n",
       "      <th>action_id</th>\n",
       "      <th>user_id</th>\n",
       "      <th>datetime</th>\n",
       "      <th>datetime_str</th>\n",
       "      <th>month_str</th>\n",
       "      <th>date</th>\n",
       "      <th>id</th>\n",
       "      <th>subject</th>\n",
       "      <th>body</th>\n",
       "      <th>type</th>\n",
       "    </tr>\n",
       "  </thead>\n",
       "  <tbody>\n",
       "    <tr>\n",
       "      <th>0</th>\n",
       "      <td>1.588847e+09</td>\n",
       "      <td>1512.0</td>\n",
       "      <td>1775692</td>\n",
       "      <td>2020-05-07 10:26:54</td>\n",
       "      <td>2020-05-07T10:26:54Z</td>\n",
       "      <td>2020-05</td>\n",
       "      <td>2020-05-07</td>\n",
       "      <td>1512</td>\n",
       "      <td>Сегодня готовим брауни с M&amp;M's  😋 Приступим?</td>\n",
       "      <td>Видео рецепт и все необходимые ингредиенты уже...</td>\n",
       "      <td>email</td>\n",
       "    </tr>\n",
       "    <tr>\n",
       "      <th>1</th>\n",
       "      <td>1.588847e+09</td>\n",
       "      <td>1512.0</td>\n",
       "      <td>1775687</td>\n",
       "      <td>2020-05-07 10:26:44</td>\n",
       "      <td>2020-05-07T10:26:44Z</td>\n",
       "      <td>2020-05</td>\n",
       "      <td>2020-05-07</td>\n",
       "      <td>1512</td>\n",
       "      <td>Сегодня готовим брауни с M&amp;M's  😋 Приступим?</td>\n",
       "      <td>Видео рецепт и все необходимые ингредиенты уже...</td>\n",
       "      <td>email</td>\n",
       "    </tr>\n",
       "    <tr>\n",
       "      <th>2</th>\n",
       "      <td>1.588847e+09</td>\n",
       "      <td>1512.0</td>\n",
       "      <td>1775684</td>\n",
       "      <td>2020-05-07 10:26:32</td>\n",
       "      <td>2020-05-07T10:26:32Z</td>\n",
       "      <td>2020-05</td>\n",
       "      <td>2020-05-07</td>\n",
       "      <td>1512</td>\n",
       "      <td>Сегодня готовим брауни с M&amp;M's  😋 Приступим?</td>\n",
       "      <td>Видео рецепт и все необходимые ингредиенты уже...</td>\n",
       "      <td>email</td>\n",
       "    </tr>\n",
       "    <tr>\n",
       "      <th>3</th>\n",
       "      <td>1.588847e+09</td>\n",
       "      <td>1512.0</td>\n",
       "      <td>1775678</td>\n",
       "      <td>2020-05-07 10:25:56</td>\n",
       "      <td>2020-05-07T10:25:56Z</td>\n",
       "      <td>2020-05</td>\n",
       "      <td>2020-05-07</td>\n",
       "      <td>1512</td>\n",
       "      <td>Сегодня готовим брауни с M&amp;M's  😋 Приступим?</td>\n",
       "      <td>Видео рецепт и все необходимые ингредиенты уже...</td>\n",
       "      <td>email</td>\n",
       "    </tr>\n",
       "    <tr>\n",
       "      <th>4</th>\n",
       "      <td>1.588847e+09</td>\n",
       "      <td>1512.0</td>\n",
       "      <td>1775660</td>\n",
       "      <td>2020-05-07 10:24:20</td>\n",
       "      <td>2020-05-07T10:24:20Z</td>\n",
       "      <td>2020-05</td>\n",
       "      <td>2020-05-07</td>\n",
       "      <td>1512</td>\n",
       "      <td>Сегодня готовим брауни с M&amp;M's  😋 Приступим?</td>\n",
       "      <td>Видео рецепт и все необходимые ингредиенты уже...</td>\n",
       "      <td>email</td>\n",
       "    </tr>\n",
       "  </tbody>\n",
       "</table>\n",
       "</div>"
      ],
      "text/plain": [
       "           sent  action_id  user_id            datetime          datetime_str  \\\n",
       "0  1.588847e+09     1512.0  1775692 2020-05-07 10:26:54  2020-05-07T10:26:54Z   \n",
       "1  1.588847e+09     1512.0  1775687 2020-05-07 10:26:44  2020-05-07T10:26:44Z   \n",
       "2  1.588847e+09     1512.0  1775684 2020-05-07 10:26:32  2020-05-07T10:26:32Z   \n",
       "3  1.588847e+09     1512.0  1775678 2020-05-07 10:25:56  2020-05-07T10:25:56Z   \n",
       "4  1.588847e+09     1512.0  1775660 2020-05-07 10:24:20  2020-05-07T10:24:20Z   \n",
       "\n",
       "  month_str        date    id                                       subject  \\\n",
       "0   2020-05  2020-05-07  1512  Сегодня готовим брауни с M&M's  😋 Приступим?   \n",
       "1   2020-05  2020-05-07  1512  Сегодня готовим брауни с M&M's  😋 Приступим?   \n",
       "2   2020-05  2020-05-07  1512  Сегодня готовим брауни с M&M's  😋 Приступим?   \n",
       "3   2020-05  2020-05-07  1512  Сегодня готовим брауни с M&M's  😋 Приступим?   \n",
       "4   2020-05  2020-05-07  1512  Сегодня готовим брауни с M&M's  😋 Приступим?   \n",
       "\n",
       "                                                body   type  \n",
       "0  Видео рецепт и все необходимые ингредиенты уже...  email  \n",
       "1  Видео рецепт и все необходимые ингредиенты уже...  email  \n",
       "2  Видео рецепт и все необходимые ингредиенты уже...  email  \n",
       "3  Видео рецепт и все необходимые ингредиенты уже...  email  \n",
       "4  Видео рецепт и все необходимые ингредиенты уже...  email  "
      ]
     },
     "execution_count": 17,
     "metadata": {},
     "output_type": "execute_result"
    }
   ],
   "source": [
    "messages.head()"
   ]
  },
  {
   "cell_type": "code",
   "execution_count": 11,
   "metadata": {
    "ExecuteTime": {
     "end_time": "2020-10-17T23:43:03.463352Z",
     "start_time": "2020-10-17T23:42:57.413856Z"
    }
   },
   "outputs": [],
   "source": [
    "shipments1 = pd.read_csv('shipments/shipments2020-01-01.csv')\n",
    "shipments3 = pd.read_csv('shipments/shipments2020-03-01.csv')\n",
    "shipments4 = pd.read_csv('shipments/shipments2020-04-30.csv')\n",
    "shipments6 = pd.read_csv('shipments/shipments2020-06-29.csv')"
   ]
  },
  {
   "cell_type": "code",
   "execution_count": 12,
   "metadata": {
    "ExecuteTime": {
     "end_time": "2020-10-17T23:43:04.086225Z",
     "start_time": "2020-10-17T23:43:03.464686Z"
    }
   },
   "outputs": [
    {
     "data": {
      "text/plain": [
       "(2260686, 20)"
      ]
     },
     "execution_count": 12,
     "metadata": {},
     "output_type": "execute_result"
    }
   ],
   "source": [
    "shipments = pd.concat([shipments1,\n",
    "                        shipments3,\n",
    "                        shipments4,\n",
    "                        shipments6])\n",
    "\n",
    "shipments.shape"
   ]
  },
  {
   "cell_type": "code",
   "execution_count": 16,
   "metadata": {
    "ExecuteTime": {
     "end_time": "2020-10-17T23:45:29.610569Z",
     "start_time": "2020-10-17T23:45:29.593032Z"
    }
   },
   "outputs": [
    {
     "data": {
      "text/html": [
       "<div>\n",
       "<style scoped>\n",
       "    .dataframe tbody tr th:only-of-type {\n",
       "        vertical-align: middle;\n",
       "    }\n",
       "\n",
       "    .dataframe tbody tr th {\n",
       "        vertical-align: top;\n",
       "    }\n",
       "\n",
       "    .dataframe thead th {\n",
       "        text-align: right;\n",
       "    }\n",
       "</style>\n",
       "<table border=\"1\" class=\"dataframe\">\n",
       "  <thead>\n",
       "    <tr style=\"text-align: right;\">\n",
       "      <th></th>\n",
       "      <th>user_id</th>\n",
       "      <th>ship_address_id</th>\n",
       "      <th>shipment_id</th>\n",
       "      <th>order_id</th>\n",
       "      <th>order_created_at</th>\n",
       "      <th>order_completed_at</th>\n",
       "      <th>shipment_starts_at</th>\n",
       "      <th>retailer</th>\n",
       "      <th>s.order_state</th>\n",
       "      <th>shipment_state</th>\n",
       "      <th>...</th>\n",
       "      <th>rate</th>\n",
       "      <th>dw_kind</th>\n",
       "      <th>promo_total</th>\n",
       "      <th>total_weight</th>\n",
       "      <th>platform</th>\n",
       "      <th>os</th>\n",
       "      <th>shipped_at</th>\n",
       "      <th>id</th>\n",
       "      <th>phone_id</th>\n",
       "      <th>order_month</th>\n",
       "    </tr>\n",
       "  </thead>\n",
       "  <tbody>\n",
       "    <tr>\n",
       "      <th>0</th>\n",
       "      <td>11019</td>\n",
       "      <td>171906</td>\n",
       "      <td>322307</td>\n",
       "      <td>2156687</td>\n",
       "      <td>2017-08-03 21:25:23</td>\n",
       "      <td>2020-02-18 14:07:00</td>\n",
       "      <td>2020-02-20 07:00:00</td>\n",
       "      <td>METRO</td>\n",
       "      <td>complete</td>\n",
       "      <td>shipped</td>\n",
       "      <td>...</td>\n",
       "      <td>0</td>\n",
       "      <td>courier</td>\n",
       "      <td>0.0</td>\n",
       "      <td>30170</td>\n",
       "      <td>web</td>\n",
       "      <td>windows</td>\n",
       "      <td>2020-02-20 08:08:54</td>\n",
       "      <td>171906</td>\n",
       "      <td>78177</td>\n",
       "      <td>2020-02</td>\n",
       "    </tr>\n",
       "    <tr>\n",
       "      <th>1</th>\n",
       "      <td>62278</td>\n",
       "      <td>278832</td>\n",
       "      <td>387023</td>\n",
       "      <td>3021953</td>\n",
       "      <td>2018-03-02 17:22:04</td>\n",
       "      <td>2020-01-03 13:09:26</td>\n",
       "      <td>2020-01-03 17:00:00</td>\n",
       "      <td>METRO</td>\n",
       "      <td>complete</td>\n",
       "      <td>shipped</td>\n",
       "      <td>...</td>\n",
       "      <td>0</td>\n",
       "      <td>courier</td>\n",
       "      <td>-150.0</td>\n",
       "      <td>11305</td>\n",
       "      <td>web</td>\n",
       "      <td>windows</td>\n",
       "      <td>2020-01-03 18:10:40</td>\n",
       "      <td>278832</td>\n",
       "      <td>96681</td>\n",
       "      <td>2020-01</td>\n",
       "    </tr>\n",
       "    <tr>\n",
       "      <th>2</th>\n",
       "      <td>905126</td>\n",
       "      <td>468407</td>\n",
       "      <td>388943</td>\n",
       "      <td>3018198</td>\n",
       "      <td>2018-02-28 11:32:47</td>\n",
       "      <td>2020-02-12 12:39:28</td>\n",
       "      <td>2020-02-13 11:00:00</td>\n",
       "      <td>METRO</td>\n",
       "      <td>complete</td>\n",
       "      <td>shipped</td>\n",
       "      <td>...</td>\n",
       "      <td>5</td>\n",
       "      <td>courier</td>\n",
       "      <td>0.0</td>\n",
       "      <td>13589</td>\n",
       "      <td>app</td>\n",
       "      <td>ios</td>\n",
       "      <td>2020-02-13 12:33:53</td>\n",
       "      <td>468407</td>\n",
       "      <td>140317</td>\n",
       "      <td>2020-02</td>\n",
       "    </tr>\n",
       "    <tr>\n",
       "      <th>3</th>\n",
       "      <td>21412</td>\n",
       "      <td>61962</td>\n",
       "      <td>421048</td>\n",
       "      <td>3030227</td>\n",
       "      <td>2018-03-07 20:37:27</td>\n",
       "      <td>2020-01-25 11:58:56</td>\n",
       "      <td>2020-01-25 18:00:00</td>\n",
       "      <td>METRO</td>\n",
       "      <td>complete</td>\n",
       "      <td>shipped</td>\n",
       "      <td>...</td>\n",
       "      <td>0</td>\n",
       "      <td>courier</td>\n",
       "      <td>0.0</td>\n",
       "      <td>9726</td>\n",
       "      <td>web</td>\n",
       "      <td>mac</td>\n",
       "      <td>2020-01-25 19:55:32</td>\n",
       "      <td>61962</td>\n",
       "      <td>16</td>\n",
       "      <td>2020-01</td>\n",
       "    </tr>\n",
       "    <tr>\n",
       "      <th>4</th>\n",
       "      <td>42110</td>\n",
       "      <td>378297</td>\n",
       "      <td>442659</td>\n",
       "      <td>2923996</td>\n",
       "      <td>2017-12-24 11:19:04</td>\n",
       "      <td>2020-01-07 14:30:44</td>\n",
       "      <td>2020-01-07 19:00:00</td>\n",
       "      <td>METRO</td>\n",
       "      <td>complete</td>\n",
       "      <td>shipped</td>\n",
       "      <td>...</td>\n",
       "      <td>0</td>\n",
       "      <td>courier</td>\n",
       "      <td>0.0</td>\n",
       "      <td>30323</td>\n",
       "      <td>web</td>\n",
       "      <td>windows</td>\n",
       "      <td>2020-01-07 19:51:37</td>\n",
       "      <td>378297</td>\n",
       "      <td>60075</td>\n",
       "      <td>2020-01</td>\n",
       "    </tr>\n",
       "  </tbody>\n",
       "</table>\n",
       "<p>5 rows × 23 columns</p>\n",
       "</div>"
      ],
      "text/plain": [
       "   user_id  ship_address_id  shipment_id  order_id     order_created_at  \\\n",
       "0    11019           171906       322307   2156687  2017-08-03 21:25:23   \n",
       "1    62278           278832       387023   3021953  2018-03-02 17:22:04   \n",
       "2   905126           468407       388943   3018198  2018-02-28 11:32:47   \n",
       "3    21412            61962       421048   3030227  2018-03-07 20:37:27   \n",
       "4    42110           378297       442659   2923996  2017-12-24 11:19:04   \n",
       "\n",
       "    order_completed_at   shipment_starts_at retailer s.order_state  \\\n",
       "0  2020-02-18 14:07:00  2020-02-20 07:00:00    METRO      complete   \n",
       "1  2020-01-03 13:09:26  2020-01-03 17:00:00    METRO      complete   \n",
       "2  2020-02-12 12:39:28  2020-02-13 11:00:00    METRO      complete   \n",
       "3  2020-01-25 11:58:56  2020-01-25 18:00:00    METRO      complete   \n",
       "4  2020-01-07 14:30:44  2020-01-07 19:00:00    METRO      complete   \n",
       "\n",
       "  shipment_state  ... rate  dw_kind  promo_total  total_weight platform  \\\n",
       "0        shipped  ...    0  courier          0.0         30170      web   \n",
       "1        shipped  ...    0  courier       -150.0         11305      web   \n",
       "2        shipped  ...    5  courier          0.0         13589      app   \n",
       "3        shipped  ...    0  courier          0.0          9726      web   \n",
       "4        shipped  ...    0  courier          0.0         30323      web   \n",
       "\n",
       "        os           shipped_at      id phone_id order_month  \n",
       "0  windows  2020-02-20 08:08:54  171906    78177     2020-02  \n",
       "1  windows  2020-01-03 18:10:40  278832    96681     2020-01  \n",
       "2      ios  2020-02-13 12:33:53  468407   140317     2020-02  \n",
       "3      mac  2020-01-25 19:55:32   61962       16     2020-01  \n",
       "4  windows  2020-01-07 19:51:37  378297    60075     2020-01  \n",
       "\n",
       "[5 rows x 23 columns]"
      ]
     },
     "execution_count": 16,
     "metadata": {},
     "output_type": "execute_result"
    }
   ],
   "source": [
    "shipments.head()"
   ]
  },
  {
   "cell_type": "code",
   "execution_count": 14,
   "metadata": {
    "ExecuteTime": {
     "end_time": "2020-10-17T23:43:37.274981Z",
     "start_time": "2020-10-17T23:43:36.379052Z"
    }
   },
   "outputs": [],
   "source": [
    "addresses_df = pd.read_csv('misc/addresses.csv')\n",
    "addresses_df = addresses_df.drop_duplicates()"
   ]
  },
  {
   "cell_type": "code",
   "execution_count": 15,
   "metadata": {
    "ExecuteTime": {
     "end_time": "2020-10-17T23:45:23.844652Z",
     "start_time": "2020-10-17T23:45:21.981080Z"
    }
   },
   "outputs": [],
   "source": [
    "shipments = pd.merge(shipments, addresses_df, left_on ='ship_address_id', right_on = 'id')\n",
    "shipments['order_month'] = shipments['order_completed_at'].apply(lambda x: x[:7])"
   ]
  },
  {
   "cell_type": "code",
   "execution_count": 21,
   "metadata": {
    "ExecuteTime": {
     "end_time": "2020-10-18T00:00:15.026737Z",
     "start_time": "2020-10-17T23:59:44.188305Z"
    }
   },
   "outputs": [
    {
     "data": {
      "text/plain": [
       "(18589108, 33)"
      ]
     },
     "execution_count": 21,
     "metadata": {},
     "output_type": "execute_result"
    }
   ],
   "source": [
    "shipments.merge(messages,\n",
    "               on=['user_id', 'order_month'],\n",
    "               how='left').shape"
   ]
  },
  {
   "cell_type": "code",
   "execution_count": 23,
   "metadata": {
    "ExecuteTime": {
     "end_time": "2020-10-18T00:04:45.659259Z",
     "start_time": "2020-10-18T00:04:15.867809Z"
    }
   },
   "outputs": [],
   "source": [
    "shipments_messages = shipments.merge(messages,\n",
    "               on=['user_id', 'order_month'],\n",
    "               how='left')"
   ]
  },
  {
   "cell_type": "code",
   "execution_count": 35,
   "metadata": {
    "ExecuteTime": {
     "end_time": "2020-10-18T00:11:18.971733Z",
     "start_time": "2020-10-18T00:11:18.952342Z"
    }
   },
   "outputs": [
    {
     "data": {
      "text/html": [
       "<div>\n",
       "<style scoped>\n",
       "    .dataframe tbody tr th:only-of-type {\n",
       "        vertical-align: middle;\n",
       "    }\n",
       "\n",
       "    .dataframe tbody tr th {\n",
       "        vertical-align: top;\n",
       "    }\n",
       "\n",
       "    .dataframe thead th {\n",
       "        text-align: right;\n",
       "    }\n",
       "</style>\n",
       "<table border=\"1\" class=\"dataframe\">\n",
       "  <thead>\n",
       "    <tr style=\"text-align: right;\">\n",
       "      <th></th>\n",
       "      <th>user_id</th>\n",
       "      <th>ship_address_id</th>\n",
       "      <th>shipment_id</th>\n",
       "      <th>order_id</th>\n",
       "      <th>order_created_at</th>\n",
       "      <th>order_completed_at</th>\n",
       "      <th>shipment_starts_at</th>\n",
       "      <th>retailer</th>\n",
       "      <th>s.order_state</th>\n",
       "      <th>shipment_state</th>\n",
       "      <th>...</th>\n",
       "      <th>sent</th>\n",
       "      <th>action_id</th>\n",
       "      <th>datetime</th>\n",
       "      <th>datetime_str</th>\n",
       "      <th>month_str</th>\n",
       "      <th>date</th>\n",
       "      <th>id_y</th>\n",
       "      <th>subject</th>\n",
       "      <th>body</th>\n",
       "      <th>type</th>\n",
       "    </tr>\n",
       "  </thead>\n",
       "  <tbody>\n",
       "    <tr>\n",
       "      <th>0</th>\n",
       "      <td>11019</td>\n",
       "      <td>171906</td>\n",
       "      <td>322307</td>\n",
       "      <td>2156687</td>\n",
       "      <td>2017-08-03 21:25:23</td>\n",
       "      <td>2020-02-18 14:07:00</td>\n",
       "      <td>2020-02-20 07:00:00</td>\n",
       "      <td>METRO</td>\n",
       "      <td>complete</td>\n",
       "      <td>shipped</td>\n",
       "      <td>...</td>\n",
       "      <td>1.582121e+09</td>\n",
       "      <td>1096.0</td>\n",
       "      <td>2020-02-19 14:07:09</td>\n",
       "      <td>2020-02-19T14:07:09Z</td>\n",
       "      <td>2020-02</td>\n",
       "      <td>2020-02-19</td>\n",
       "      <td>1096.0</td>\n",
       "      <td>Тебя ждёт БЕСПЛАТНАЯ доставка от СберМаркета💰</td>\n",
       "      <td>Успей заказать любимые товары, а мы доставим Б...</td>\n",
       "      <td>email</td>\n",
       "    </tr>\n",
       "    <tr>\n",
       "      <th>1</th>\n",
       "      <td>62278</td>\n",
       "      <td>278832</td>\n",
       "      <td>387023</td>\n",
       "      <td>3021953</td>\n",
       "      <td>2018-03-02 17:22:04</td>\n",
       "      <td>2020-01-03 13:09:26</td>\n",
       "      <td>2020-01-03 17:00:00</td>\n",
       "      <td>METRO</td>\n",
       "      <td>complete</td>\n",
       "      <td>shipped</td>\n",
       "      <td>...</td>\n",
       "      <td>NaN</td>\n",
       "      <td>NaN</td>\n",
       "      <td>NaT</td>\n",
       "      <td>NaN</td>\n",
       "      <td>NaN</td>\n",
       "      <td>NaN</td>\n",
       "      <td>NaN</td>\n",
       "      <td>NaN</td>\n",
       "      <td>NaN</td>\n",
       "      <td>NaN</td>\n",
       "    </tr>\n",
       "    <tr>\n",
       "      <th>2</th>\n",
       "      <td>905126</td>\n",
       "      <td>468407</td>\n",
       "      <td>388943</td>\n",
       "      <td>3018198</td>\n",
       "      <td>2018-02-28 11:32:47</td>\n",
       "      <td>2020-02-12 12:39:28</td>\n",
       "      <td>2020-02-13 11:00:00</td>\n",
       "      <td>METRO</td>\n",
       "      <td>complete</td>\n",
       "      <td>shipped</td>\n",
       "      <td>...</td>\n",
       "      <td>1.581597e+09</td>\n",
       "      <td>1175.0</td>\n",
       "      <td>2020-02-13 12:33:58</td>\n",
       "      <td>2020-02-13T12:33:58Z</td>\n",
       "      <td>2020-02</td>\n",
       "      <td>2020-02-13</td>\n",
       "      <td>1175.0</td>\n",
       "      <td>Поздравляем! Вам подарок – 2000 рублей на урок...</td>\n",
       "      <td>NaN</td>\n",
       "      <td>email</td>\n",
       "    </tr>\n",
       "    <tr>\n",
       "      <th>3</th>\n",
       "      <td>905126</td>\n",
       "      <td>468407</td>\n",
       "      <td>388943</td>\n",
       "      <td>3018198</td>\n",
       "      <td>2018-02-28 11:32:47</td>\n",
       "      <td>2020-02-12 12:39:28</td>\n",
       "      <td>2020-02-13 11:00:00</td>\n",
       "      <td>METRO</td>\n",
       "      <td>complete</td>\n",
       "      <td>shipped</td>\n",
       "      <td>...</td>\n",
       "      <td>1.581425e+09</td>\n",
       "      <td>1011.0</td>\n",
       "      <td>2020-02-11 12:45:28</td>\n",
       "      <td>2020-02-11T12:45:28Z</td>\n",
       "      <td>2020-02</td>\n",
       "      <td>2020-02-11</td>\n",
       "      <td>1011.0</td>\n",
       "      <td>Закажите продукты в СберМаркете, а мы привезем...</td>\n",
       "      <td>1-ая доставка всего за 98 рублей</td>\n",
       "      <td>email</td>\n",
       "    </tr>\n",
       "    <tr>\n",
       "      <th>4</th>\n",
       "      <td>905126</td>\n",
       "      <td>468407</td>\n",
       "      <td>388943</td>\n",
       "      <td>3018198</td>\n",
       "      <td>2018-02-28 11:32:47</td>\n",
       "      <td>2020-02-12 12:39:28</td>\n",
       "      <td>2020-02-13 11:00:00</td>\n",
       "      <td>METRO</td>\n",
       "      <td>complete</td>\n",
       "      <td>shipped</td>\n",
       "      <td>...</td>\n",
       "      <td>1.581684e+09</td>\n",
       "      <td>1096.0</td>\n",
       "      <td>2020-02-14 12:34:00</td>\n",
       "      <td>2020-02-14T12:34:00Z</td>\n",
       "      <td>2020-02</td>\n",
       "      <td>2020-02-14</td>\n",
       "      <td>1096.0</td>\n",
       "      <td>Тебя ждёт БЕСПЛАТНАЯ доставка от СберМаркета💰</td>\n",
       "      <td>Успей заказать любимые товары, а мы доставим Б...</td>\n",
       "      <td>email</td>\n",
       "    </tr>\n",
       "  </tbody>\n",
       "</table>\n",
       "<p>5 rows × 33 columns</p>\n",
       "</div>"
      ],
      "text/plain": [
       "   user_id  ship_address_id  shipment_id  order_id     order_created_at  \\\n",
       "0    11019           171906       322307   2156687  2017-08-03 21:25:23   \n",
       "1    62278           278832       387023   3021953  2018-03-02 17:22:04   \n",
       "2   905126           468407       388943   3018198  2018-02-28 11:32:47   \n",
       "3   905126           468407       388943   3018198  2018-02-28 11:32:47   \n",
       "4   905126           468407       388943   3018198  2018-02-28 11:32:47   \n",
       "\n",
       "    order_completed_at   shipment_starts_at retailer s.order_state  \\\n",
       "0  2020-02-18 14:07:00  2020-02-20 07:00:00    METRO      complete   \n",
       "1  2020-01-03 13:09:26  2020-01-03 17:00:00    METRO      complete   \n",
       "2  2020-02-12 12:39:28  2020-02-13 11:00:00    METRO      complete   \n",
       "3  2020-02-12 12:39:28  2020-02-13 11:00:00    METRO      complete   \n",
       "4  2020-02-12 12:39:28  2020-02-13 11:00:00    METRO      complete   \n",
       "\n",
       "  shipment_state  ...          sent  action_id            datetime  \\\n",
       "0        shipped  ...  1.582121e+09     1096.0 2020-02-19 14:07:09   \n",
       "1        shipped  ...           NaN        NaN                 NaT   \n",
       "2        shipped  ...  1.581597e+09     1175.0 2020-02-13 12:33:58   \n",
       "3        shipped  ...  1.581425e+09     1011.0 2020-02-11 12:45:28   \n",
       "4        shipped  ...  1.581684e+09     1096.0 2020-02-14 12:34:00   \n",
       "\n",
       "           datetime_str month_str        date    id_y  \\\n",
       "0  2020-02-19T14:07:09Z   2020-02  2020-02-19  1096.0   \n",
       "1                   NaN       NaN         NaN     NaN   \n",
       "2  2020-02-13T12:33:58Z   2020-02  2020-02-13  1175.0   \n",
       "3  2020-02-11T12:45:28Z   2020-02  2020-02-11  1011.0   \n",
       "4  2020-02-14T12:34:00Z   2020-02  2020-02-14  1096.0   \n",
       "\n",
       "                                             subject  \\\n",
       "0      Тебя ждёт БЕСПЛАТНАЯ доставка от СберМаркета💰   \n",
       "1                                                NaN   \n",
       "2  Поздравляем! Вам подарок – 2000 рублей на урок...   \n",
       "3  Закажите продукты в СберМаркете, а мы привезем...   \n",
       "4      Тебя ждёт БЕСПЛАТНАЯ доставка от СберМаркета💰   \n",
       "\n",
       "                                                body   type  \n",
       "0  Успей заказать любимые товары, а мы доставим Б...  email  \n",
       "1                                                NaN    NaN  \n",
       "2                                                NaN  email  \n",
       "3                   1-ая доставка всего за 98 рублей  email  \n",
       "4  Успей заказать любимые товары, а мы доставим Б...  email  \n",
       "\n",
       "[5 rows x 33 columns]"
      ]
     },
     "execution_count": 35,
     "metadata": {},
     "output_type": "execute_result"
    }
   ],
   "source": [
    "shipments_messages.head()"
   ]
  },
  {
   "cell_type": "code",
   "execution_count": null,
   "metadata": {
    "ExecuteTime": {
     "end_time": "2020-10-18T00:25:37.607975Z",
     "start_time": "2020-10-18T00:25:37.030289Z"
    }
   },
   "outputs": [],
   "source": [
    "shipments_messages['subject'].unique()"
   ]
  },
  {
   "cell_type": "code",
   "execution_count": 42,
   "metadata": {
    "ExecuteTime": {
     "end_time": "2020-10-18T00:19:12.020011Z",
     "start_time": "2020-10-18T00:18:48.594656Z"
    }
   },
   "outputs": [],
   "source": [
    "check_all = shipments_messages.groupby(['phone_id', 'order_month', 'type'], as_index=False).agg({\n",
    "    'subject': lambda x: len(set(x))\n",
    "})"
   ]
  },
  {
   "cell_type": "code",
   "execution_count": 44,
   "metadata": {
    "ExecuteTime": {
     "end_time": "2020-10-18T00:20:09.654069Z",
     "start_time": "2020-10-18T00:20:09.556331Z"
    }
   },
   "outputs": [
    {
     "data": {
      "text/plain": [
       "4     207589\n",
       "5     157634\n",
       "3     141477\n",
       "6      90267\n",
       "2      86815\n",
       "7      61562\n",
       "8      32571\n",
       "1      32015\n",
       "9      18450\n",
       "10      4039\n",
       "11      1593\n",
       "12       620\n",
       "13       159\n",
       "14        32\n",
       "15        13\n",
       "16         4\n",
       "17         2\n",
       "Name: subject, dtype: int64"
      ]
     },
     "execution_count": 44,
     "metadata": {},
     "output_type": "execute_result"
    }
   ],
   "source": [
    "check_all[check_all['type'] == 'push']['subject'].value_counts()"
   ]
  },
  {
   "cell_type": "code",
   "execution_count": 45,
   "metadata": {
    "ExecuteTime": {
     "end_time": "2020-10-18T00:20:26.534752Z",
     "start_time": "2020-10-18T00:20:26.448199Z"
    }
   },
   "outputs": [
    {
     "data": {
      "text/plain": [
       "1     227593\n",
       "2     155767\n",
       "3      99041\n",
       "4      54554\n",
       "5      30833\n",
       "6      18769\n",
       "7       7455\n",
       "8       3699\n",
       "9       1152\n",
       "10       518\n",
       "11       110\n",
       "12        46\n",
       "13        23\n",
       "14         4\n",
       "15         1\n",
       "Name: subject, dtype: int64"
      ]
     },
     "execution_count": 45,
     "metadata": {},
     "output_type": "execute_result"
    }
   ],
   "source": [
    "check_all[check_all['type'] == 'email']['subject'].value_counts()"
   ]
  },
  {
   "cell_type": "markdown",
   "metadata": {},
   "source": [
    "# Data for uplift"
   ]
  },
  {
   "cell_type": "code",
   "execution_count": 50,
   "metadata": {
    "ExecuteTime": {
     "end_time": "2020-10-18T00:40:31.029821Z",
     "start_time": "2020-10-18T00:40:26.747597Z"
    }
   },
   "outputs": [
    {
     "data": {
      "text/html": [
       "<div>\n",
       "<style scoped>\n",
       "    .dataframe tbody tr th:only-of-type {\n",
       "        vertical-align: middle;\n",
       "    }\n",
       "\n",
       "    .dataframe tbody tr th {\n",
       "        vertical-align: top;\n",
       "    }\n",
       "\n",
       "    .dataframe thead th {\n",
       "        text-align: right;\n",
       "    }\n",
       "</style>\n",
       "<table border=\"1\" class=\"dataframe\">\n",
       "  <thead>\n",
       "    <tr style=\"text-align: right;\">\n",
       "      <th>subject</th>\n",
       "      <th>А не пора ли пополнить запасы {{event.product.name}}</th>\n",
       "      <th>Доставляем и из Ашана 🚛🚛🚛</th>\n",
       "      <th>Можете заказать в 1 из любимых магазинов 💚</th>\n",
       "      <th>Мы расширили зону доставки 🚀</th>\n",
       "      <th>Обновите приложение и оставайтесь дома</th>\n",
       "      <th>Скидка {{event.product.discount_percent}}% на ваш любимый товар</th>\n",
       "      <th>Скидки от нас и не только 🤗</th>\n",
       "      <th>Спасибо за выбор Сбермаркета!</th>\n",
       "      <th>Теперь доставляем и из Ашана 🚀🚀🚀</th>\n",
       "      <th>Теперь доставляем и из Ленты 🚀🚀🚀</th>\n",
       "      <th>Теперь заказывать стало проще!</th>\n",
       "      <th>Урра 🤩 БЕСПЛАТНАЯ доставка в СберМаркет😍</th>\n",
       "      <th>Урра! 🤩 БЕСПЛАТНАЯ доставка в СберМаркет😍</th>\n",
       "      <th>Успей использовать промокод от СберМаркет🤩</th>\n",
       "      <th>🚀Псс..Теперь мы доставляем из Ленты😎</th>\n",
       "    </tr>\n",
       "    <tr>\n",
       "      <th>phone_id</th>\n",
       "      <th></th>\n",
       "      <th></th>\n",
       "      <th></th>\n",
       "      <th></th>\n",
       "      <th></th>\n",
       "      <th></th>\n",
       "      <th></th>\n",
       "      <th></th>\n",
       "      <th></th>\n",
       "      <th></th>\n",
       "      <th></th>\n",
       "      <th></th>\n",
       "      <th></th>\n",
       "      <th></th>\n",
       "      <th></th>\n",
       "    </tr>\n",
       "  </thead>\n",
       "  <tbody>\n",
       "    <tr>\n",
       "      <th>6</th>\n",
       "      <td>0</td>\n",
       "      <td>0</td>\n",
       "      <td>0</td>\n",
       "      <td>0</td>\n",
       "      <td>0</td>\n",
       "      <td>1</td>\n",
       "      <td>0</td>\n",
       "      <td>0</td>\n",
       "      <td>0</td>\n",
       "      <td>0</td>\n",
       "      <td>2</td>\n",
       "      <td>0</td>\n",
       "      <td>0</td>\n",
       "      <td>0</td>\n",
       "      <td>0</td>\n",
       "    </tr>\n",
       "    <tr>\n",
       "      <th>16</th>\n",
       "      <td>0</td>\n",
       "      <td>0</td>\n",
       "      <td>0</td>\n",
       "      <td>0</td>\n",
       "      <td>0</td>\n",
       "      <td>3</td>\n",
       "      <td>0</td>\n",
       "      <td>0</td>\n",
       "      <td>0</td>\n",
       "      <td>0</td>\n",
       "      <td>0</td>\n",
       "      <td>0</td>\n",
       "      <td>0</td>\n",
       "      <td>0</td>\n",
       "      <td>0</td>\n",
       "    </tr>\n",
       "    <tr>\n",
       "      <th>19</th>\n",
       "      <td>0</td>\n",
       "      <td>0</td>\n",
       "      <td>0</td>\n",
       "      <td>0</td>\n",
       "      <td>0</td>\n",
       "      <td>2</td>\n",
       "      <td>2</td>\n",
       "      <td>0</td>\n",
       "      <td>0</td>\n",
       "      <td>0</td>\n",
       "      <td>14</td>\n",
       "      <td>0</td>\n",
       "      <td>0</td>\n",
       "      <td>0</td>\n",
       "      <td>0</td>\n",
       "    </tr>\n",
       "    <tr>\n",
       "      <th>20</th>\n",
       "      <td>0</td>\n",
       "      <td>0</td>\n",
       "      <td>7</td>\n",
       "      <td>0</td>\n",
       "      <td>0</td>\n",
       "      <td>14</td>\n",
       "      <td>7</td>\n",
       "      <td>0</td>\n",
       "      <td>0</td>\n",
       "      <td>0</td>\n",
       "      <td>35</td>\n",
       "      <td>0</td>\n",
       "      <td>0</td>\n",
       "      <td>0</td>\n",
       "      <td>0</td>\n",
       "    </tr>\n",
       "    <tr>\n",
       "      <th>25</th>\n",
       "      <td>6</td>\n",
       "      <td>0</td>\n",
       "      <td>6</td>\n",
       "      <td>0</td>\n",
       "      <td>0</td>\n",
       "      <td>12</td>\n",
       "      <td>6</td>\n",
       "      <td>0</td>\n",
       "      <td>0</td>\n",
       "      <td>0</td>\n",
       "      <td>42</td>\n",
       "      <td>0</td>\n",
       "      <td>0</td>\n",
       "      <td>0</td>\n",
       "      <td>0</td>\n",
       "    </tr>\n",
       "    <tr>\n",
       "      <th>...</th>\n",
       "      <td>...</td>\n",
       "      <td>...</td>\n",
       "      <td>...</td>\n",
       "      <td>...</td>\n",
       "      <td>...</td>\n",
       "      <td>...</td>\n",
       "      <td>...</td>\n",
       "      <td>...</td>\n",
       "      <td>...</td>\n",
       "      <td>...</td>\n",
       "      <td>...</td>\n",
       "      <td>...</td>\n",
       "      <td>...</td>\n",
       "      <td>...</td>\n",
       "      <td>...</td>\n",
       "    </tr>\n",
       "    <tr>\n",
       "      <th>717440</th>\n",
       "      <td>0</td>\n",
       "      <td>0</td>\n",
       "      <td>1</td>\n",
       "      <td>0</td>\n",
       "      <td>0</td>\n",
       "      <td>0</td>\n",
       "      <td>1</td>\n",
       "      <td>0</td>\n",
       "      <td>0</td>\n",
       "      <td>0</td>\n",
       "      <td>1</td>\n",
       "      <td>0</td>\n",
       "      <td>0</td>\n",
       "      <td>0</td>\n",
       "      <td>0</td>\n",
       "    </tr>\n",
       "    <tr>\n",
       "      <th>717446</th>\n",
       "      <td>0</td>\n",
       "      <td>0</td>\n",
       "      <td>1</td>\n",
       "      <td>0</td>\n",
       "      <td>0</td>\n",
       "      <td>0</td>\n",
       "      <td>1</td>\n",
       "      <td>0</td>\n",
       "      <td>0</td>\n",
       "      <td>0</td>\n",
       "      <td>3</td>\n",
       "      <td>0</td>\n",
       "      <td>0</td>\n",
       "      <td>0</td>\n",
       "      <td>0</td>\n",
       "    </tr>\n",
       "    <tr>\n",
       "      <th>717458</th>\n",
       "      <td>0</td>\n",
       "      <td>0</td>\n",
       "      <td>1</td>\n",
       "      <td>0</td>\n",
       "      <td>1</td>\n",
       "      <td>0</td>\n",
       "      <td>1</td>\n",
       "      <td>1</td>\n",
       "      <td>0</td>\n",
       "      <td>0</td>\n",
       "      <td>1</td>\n",
       "      <td>0</td>\n",
       "      <td>0</td>\n",
       "      <td>0</td>\n",
       "      <td>0</td>\n",
       "    </tr>\n",
       "    <tr>\n",
       "      <th>717477</th>\n",
       "      <td>0</td>\n",
       "      <td>0</td>\n",
       "      <td>1</td>\n",
       "      <td>0</td>\n",
       "      <td>0</td>\n",
       "      <td>0</td>\n",
       "      <td>0</td>\n",
       "      <td>0</td>\n",
       "      <td>0</td>\n",
       "      <td>0</td>\n",
       "      <td>0</td>\n",
       "      <td>0</td>\n",
       "      <td>0</td>\n",
       "      <td>0</td>\n",
       "      <td>0</td>\n",
       "    </tr>\n",
       "    <tr>\n",
       "      <th>717482</th>\n",
       "      <td>0</td>\n",
       "      <td>0</td>\n",
       "      <td>1</td>\n",
       "      <td>0</td>\n",
       "      <td>1</td>\n",
       "      <td>1</td>\n",
       "      <td>1</td>\n",
       "      <td>0</td>\n",
       "      <td>0</td>\n",
       "      <td>0</td>\n",
       "      <td>2</td>\n",
       "      <td>1</td>\n",
       "      <td>1</td>\n",
       "      <td>1</td>\n",
       "      <td>0</td>\n",
       "    </tr>\n",
       "  </tbody>\n",
       "</table>\n",
       "<p>117335 rows × 15 columns</p>\n",
       "</div>"
      ],
      "text/plain": [
       "subject   А не пора ли пополнить запасы {{event.product.name}}  \\\n",
       "phone_id                                                         \n",
       "6                                                         0      \n",
       "16                                                        0      \n",
       "19                                                        0      \n",
       "20                                                        0      \n",
       "25                                                        6      \n",
       "...                                                     ...      \n",
       "717440                                                    0      \n",
       "717446                                                    0      \n",
       "717458                                                    0      \n",
       "717477                                                    0      \n",
       "717482                                                    0      \n",
       "\n",
       "subject   Доставляем и из Ашана 🚛🚛🚛  \\\n",
       "phone_id                              \n",
       "6                                 0   \n",
       "16                                0   \n",
       "19                                0   \n",
       "20                                0   \n",
       "25                                0   \n",
       "...                             ...   \n",
       "717440                            0   \n",
       "717446                            0   \n",
       "717458                            0   \n",
       "717477                            0   \n",
       "717482                            0   \n",
       "\n",
       "subject   Можете заказать в 1 из любимых магазинов 💚  \\\n",
       "phone_id                                               \n",
       "6                                                  0   \n",
       "16                                                 0   \n",
       "19                                                 0   \n",
       "20                                                 7   \n",
       "25                                                 6   \n",
       "...                                              ...   \n",
       "717440                                             1   \n",
       "717446                                             1   \n",
       "717458                                             1   \n",
       "717477                                             1   \n",
       "717482                                             1   \n",
       "\n",
       "subject   Мы расширили зону доставки 🚀  \\\n",
       "phone_id                                 \n",
       "6                                    0   \n",
       "16                                   0   \n",
       "19                                   0   \n",
       "20                                   0   \n",
       "25                                   0   \n",
       "...                                ...   \n",
       "717440                               0   \n",
       "717446                               0   \n",
       "717458                               0   \n",
       "717477                               0   \n",
       "717482                               0   \n",
       "\n",
       "subject   Обновите приложение и оставайтесь дома  \\\n",
       "phone_id                                           \n",
       "6                                              0   \n",
       "16                                             0   \n",
       "19                                             0   \n",
       "20                                             0   \n",
       "25                                             0   \n",
       "...                                          ...   \n",
       "717440                                         0   \n",
       "717446                                         0   \n",
       "717458                                         1   \n",
       "717477                                         0   \n",
       "717482                                         1   \n",
       "\n",
       "subject   Скидка {{event.product.discount_percent}}% на ваш любимый товар  \\\n",
       "phone_id                                                                    \n",
       "6                                                         1                 \n",
       "16                                                        3                 \n",
       "19                                                        2                 \n",
       "20                                                       14                 \n",
       "25                                                       12                 \n",
       "...                                                     ...                 \n",
       "717440                                                    0                 \n",
       "717446                                                    0                 \n",
       "717458                                                    0                 \n",
       "717477                                                    0                 \n",
       "717482                                                    1                 \n",
       "\n",
       "subject   Скидки от нас и не только 🤗  Спасибо за выбор Сбермаркета!   \\\n",
       "phone_id                                                                \n",
       "6                                   0                               0   \n",
       "16                                  0                               0   \n",
       "19                                  2                               0   \n",
       "20                                  7                               0   \n",
       "25                                  6                               0   \n",
       "...                               ...                             ...   \n",
       "717440                              1                               0   \n",
       "717446                              1                               0   \n",
       "717458                              1                               1   \n",
       "717477                              0                               0   \n",
       "717482                              1                               0   \n",
       "\n",
       "subject   Теперь доставляем и из Ашана 🚀🚀🚀  Теперь доставляем и из Ленты 🚀🚀🚀  \\\n",
       "phone_id                                                                       \n",
       "6                                        0                                 0   \n",
       "16                                       0                                 0   \n",
       "19                                       0                                 0   \n",
       "20                                       0                                 0   \n",
       "25                                       0                                 0   \n",
       "...                                    ...                               ...   \n",
       "717440                                   0                                 0   \n",
       "717446                                   0                                 0   \n",
       "717458                                   0                                 0   \n",
       "717477                                   0                                 0   \n",
       "717482                                   0                                 0   \n",
       "\n",
       "subject   Теперь заказывать стало проще!  \\\n",
       "phone_id                                   \n",
       "6                                      2   \n",
       "16                                     0   \n",
       "19                                    14   \n",
       "20                                    35   \n",
       "25                                    42   \n",
       "...                                  ...   \n",
       "717440                                 1   \n",
       "717446                                 3   \n",
       "717458                                 1   \n",
       "717477                                 0   \n",
       "717482                                 2   \n",
       "\n",
       "subject   Урра 🤩 БЕСПЛАТНАЯ доставка в СберМаркет😍   \\\n",
       "phone_id                                              \n",
       "6                                                 0   \n",
       "16                                                0   \n",
       "19                                                0   \n",
       "20                                                0   \n",
       "25                                                0   \n",
       "...                                             ...   \n",
       "717440                                            0   \n",
       "717446                                            0   \n",
       "717458                                            0   \n",
       "717477                                            0   \n",
       "717482                                            1   \n",
       "\n",
       "subject   Урра! 🤩 БЕСПЛАТНАЯ доставка в СберМаркет😍   \\\n",
       "phone_id                                               \n",
       "6                                                  0   \n",
       "16                                                 0   \n",
       "19                                                 0   \n",
       "20                                                 0   \n",
       "25                                                 0   \n",
       "...                                              ...   \n",
       "717440                                             0   \n",
       "717446                                             0   \n",
       "717458                                             0   \n",
       "717477                                             0   \n",
       "717482                                             1   \n",
       "\n",
       "subject   Успей использовать промокод от СберМаркет🤩  \\\n",
       "phone_id                                               \n",
       "6                                                  0   \n",
       "16                                                 0   \n",
       "19                                                 0   \n",
       "20                                                 0   \n",
       "25                                                 0   \n",
       "...                                              ...   \n",
       "717440                                             0   \n",
       "717446                                             0   \n",
       "717458                                             0   \n",
       "717477                                             0   \n",
       "717482                                             1   \n",
       "\n",
       "subject   🚀Псс..Теперь мы доставляем из Ленты😎  \n",
       "phone_id                                        \n",
       "6                                            0  \n",
       "16                                           0  \n",
       "19                                           0  \n",
       "20                                           0  \n",
       "25                                           0  \n",
       "...                                        ...  \n",
       "717440                                       0  \n",
       "717446                                       0  \n",
       "717458                                       0  \n",
       "717477                                       0  \n",
       "717482                                       0  \n",
       "\n",
       "[117335 rows x 15 columns]"
      ]
     },
     "execution_count": 50,
     "metadata": {},
     "output_type": "execute_result"
    }
   ],
   "source": [
    "df1 = shipments_messages[\n",
    "    (shipments_messages['order_month'] == '2020-06')\n",
    "    &(shipments_messages['type'] == 'push')]\n",
    "\n",
    "pd.crosstab(df1['phone_id'], df1['subject'])"
   ]
  },
  {
   "cell_type": "code",
   "execution_count": 51,
   "metadata": {
    "ExecuteTime": {
     "end_time": "2020-10-18T00:42:03.410126Z",
     "start_time": "2020-10-18T00:42:03.278518Z"
    }
   },
   "outputs": [
    {
     "data": {
      "text/plain": [
       "Теперь заказывать стало проще!                                     1064709\n",
       "Скидка {{event.product.discount_percent}}% на ваш любимый товар     314410\n",
       "Скидки от нас и не только 🤗                                         203595\n",
       "Можете заказать в 1 из любимых магазинов 💚                          172836\n",
       "Обновите приложение и оставайтесь дома                               38415\n",
       "А не пора ли пополнить запасы {{event.product.name}}                 17403\n",
       "Спасибо за выбор Сбермаркета!                                         7419\n",
       "Успей использовать промокод от СберМаркет🤩                            3793\n",
       "Урра 🤩 БЕСПЛАТНАЯ доставка в СберМаркет😍                              3552\n",
       "Урра! 🤩 БЕСПЛАТНАЯ доставка в СберМаркет😍                             3249\n",
       "Теперь доставляем и из Ашана 🚀🚀🚀                                      2580\n",
       "Доставляем и из Ашана 🚛🚛🚛                                             2570\n",
       "Теперь доставляем и из Ленты 🚀🚀🚀                                      2396\n",
       "Мы расширили зону доставки 🚀                                           118\n",
       "🚀Псс..Теперь мы доставляем из Ленты😎                                    26\n",
       "Name: subject, dtype: int64"
      ]
     },
     "execution_count": 51,
     "metadata": {},
     "output_type": "execute_result"
    }
   ],
   "source": [
    "df1['subject'].value_counts()"
   ]
  },
  {
   "cell_type": "markdown",
   "metadata": {},
   "source": [
    "### Treatment = 1 users"
   ]
  },
  {
   "cell_type": "code",
   "execution_count": 56,
   "metadata": {
    "ExecuteTime": {
     "end_time": "2020-10-18T00:49:19.582361Z",
     "start_time": "2020-10-18T00:49:19.339712Z"
    }
   },
   "outputs": [],
   "source": [
    "users_treatment = \\\n",
    "    df1[df1['subject'] == 'Скидка {{event.product.discount_percent}}% на ваш любимый товар']['phone_id'].unique()"
   ]
  },
  {
   "cell_type": "code",
   "execution_count": 113,
   "metadata": {
    "ExecuteTime": {
     "end_time": "2020-10-18T08:48:00.968955Z",
     "start_time": "2020-10-18T08:48:00.965907Z"
    }
   },
   "outputs": [
    {
     "data": {
      "text/plain": [
       "array([213286, 213315, 171453, ...,   1369, 131845, 523492])"
      ]
     },
     "execution_count": 113,
     "metadata": {},
     "output_type": "execute_result"
    }
   ],
   "source": [
    "users_treatment"
   ]
  },
  {
   "cell_type": "markdown",
   "metadata": {},
   "source": [
    "### All users"
   ]
  },
  {
   "cell_type": "code",
   "execution_count": 58,
   "metadata": {
    "ExecuteTime": {
     "end_time": "2020-10-18T00:49:32.400815Z",
     "start_time": "2020-10-18T00:49:30.657415Z"
    }
   },
   "outputs": [],
   "source": [
    "users_all = shipments_messages[\n",
    "    (shipments_messages['order_month'] == '2020-06')]['phone_id'].unique()"
   ]
  },
  {
   "cell_type": "markdown",
   "metadata": {},
   "source": [
    "### target - в след месяце "
   ]
  },
  {
   "cell_type": "code",
   "execution_count": 116,
   "metadata": {
    "ExecuteTime": {
     "end_time": "2020-10-18T08:51:05.960850Z",
     "start_time": "2020-10-18T08:51:05.952464Z"
    }
   },
   "outputs": [
    {
     "data": {
      "text/html": [
       "<div>\n",
       "<style scoped>\n",
       "    .dataframe tbody tr th:only-of-type {\n",
       "        vertical-align: middle;\n",
       "    }\n",
       "\n",
       "    .dataframe tbody tr th {\n",
       "        vertical-align: top;\n",
       "    }\n",
       "\n",
       "    .dataframe thead th {\n",
       "        text-align: right;\n",
       "    }\n",
       "</style>\n",
       "<table border=\"1\" class=\"dataframe\">\n",
       "  <thead>\n",
       "    <tr style=\"text-align: right;\">\n",
       "      <th></th>\n",
       "      <th>phone_id</th>\n",
       "      <th>order_completed_at</th>\n",
       "      <th>target</th>\n",
       "    </tr>\n",
       "  </thead>\n",
       "  <tbody>\n",
       "    <tr>\n",
       "      <th>0</th>\n",
       "      <td>19843</td>\n",
       "      <td>2020-01</td>\n",
       "      <td>1.0</td>\n",
       "    </tr>\n",
       "    <tr>\n",
       "      <th>1</th>\n",
       "      <td>19843</td>\n",
       "      <td>2020-02</td>\n",
       "      <td>0.0</td>\n",
       "    </tr>\n",
       "    <tr>\n",
       "      <th>2</th>\n",
       "      <td>19843</td>\n",
       "      <td>2020-03</td>\n",
       "      <td>0.0</td>\n",
       "    </tr>\n",
       "    <tr>\n",
       "      <th>3</th>\n",
       "      <td>19843</td>\n",
       "      <td>2020-04</td>\n",
       "      <td>0.0</td>\n",
       "    </tr>\n",
       "    <tr>\n",
       "      <th>4</th>\n",
       "      <td>19843</td>\n",
       "      <td>2020-05</td>\n",
       "      <td>0.0</td>\n",
       "    </tr>\n",
       "    <tr>\n",
       "      <th>...</th>\n",
       "      <td>...</td>\n",
       "      <td>...</td>\n",
       "      <td>...</td>\n",
       "    </tr>\n",
       "    <tr>\n",
       "      <th>1159571</th>\n",
       "      <td>23853</td>\n",
       "      <td>2020-03</td>\n",
       "      <td>0.0</td>\n",
       "    </tr>\n",
       "    <tr>\n",
       "      <th>1159572</th>\n",
       "      <td>23853</td>\n",
       "      <td>2020-04</td>\n",
       "      <td>0.0</td>\n",
       "    </tr>\n",
       "    <tr>\n",
       "      <th>1159573</th>\n",
       "      <td>23853</td>\n",
       "      <td>2020-05</td>\n",
       "      <td>0.0</td>\n",
       "    </tr>\n",
       "    <tr>\n",
       "      <th>1159574</th>\n",
       "      <td>23853</td>\n",
       "      <td>2020-06</td>\n",
       "      <td>1.0</td>\n",
       "    </tr>\n",
       "    <tr>\n",
       "      <th>1159575</th>\n",
       "      <td>23853</td>\n",
       "      <td>2020-07</td>\n",
       "      <td>1.0</td>\n",
       "    </tr>\n",
       "  </tbody>\n",
       "</table>\n",
       "<p>1159576 rows × 3 columns</p>\n",
       "</div>"
      ],
      "text/plain": [
       "         phone_id order_completed_at  target\n",
       "0           19843            2020-01     1.0\n",
       "1           19843            2020-02     0.0\n",
       "2           19843            2020-03     0.0\n",
       "3           19843            2020-04     0.0\n",
       "4           19843            2020-05     0.0\n",
       "...           ...                ...     ...\n",
       "1159571     23853            2020-03     0.0\n",
       "1159572     23853            2020-04     0.0\n",
       "1159573     23853            2020-05     0.0\n",
       "1159574     23853            2020-06     1.0\n",
       "1159575     23853            2020-07     1.0\n",
       "\n",
       "[1159576 rows x 3 columns]"
      ]
     },
     "execution_count": 116,
     "metadata": {},
     "output_type": "execute_result"
    }
   ],
   "source": [
    "train"
   ]
  },
  {
   "cell_type": "code",
   "execution_count": 125,
   "metadata": {
    "ExecuteTime": {
     "end_time": "2020-10-18T09:02:00.685428Z",
     "start_time": "2020-10-18T09:02:00.614675Z"
    }
   },
   "outputs": [
    {
     "data": {
      "text/html": [
       "<div>\n",
       "<style scoped>\n",
       "    .dataframe tbody tr th:only-of-type {\n",
       "        vertical-align: middle;\n",
       "    }\n",
       "\n",
       "    .dataframe tbody tr th {\n",
       "        vertical-align: top;\n",
       "    }\n",
       "\n",
       "    .dataframe thead th {\n",
       "        text-align: right;\n",
       "    }\n",
       "</style>\n",
       "<table border=\"1\" class=\"dataframe\">\n",
       "  <thead>\n",
       "    <tr style=\"text-align: right;\">\n",
       "      <th></th>\n",
       "      <th>phone_id</th>\n",
       "      <th>target</th>\n",
       "    </tr>\n",
       "  </thead>\n",
       "  <tbody>\n",
       "    <tr>\n",
       "      <th>5</th>\n",
       "      <td>19843</td>\n",
       "      <td>0.0</td>\n",
       "    </tr>\n",
       "    <tr>\n",
       "      <th>8</th>\n",
       "      <td>173074</td>\n",
       "      <td>0.0</td>\n",
       "    </tr>\n",
       "    <tr>\n",
       "      <th>15</th>\n",
       "      <td>101944</td>\n",
       "      <td>0.0</td>\n",
       "    </tr>\n",
       "    <tr>\n",
       "      <th>19</th>\n",
       "      <td>615032</td>\n",
       "      <td>0.0</td>\n",
       "    </tr>\n",
       "    <tr>\n",
       "      <th>26</th>\n",
       "      <td>342522</td>\n",
       "      <td>1.0</td>\n",
       "    </tr>\n",
       "    <tr>\n",
       "      <th>...</th>\n",
       "      <td>...</td>\n",
       "      <td>...</td>\n",
       "    </tr>\n",
       "    <tr>\n",
       "      <th>1159549</th>\n",
       "      <td>69348</td>\n",
       "      <td>1.0</td>\n",
       "    </tr>\n",
       "    <tr>\n",
       "      <th>1159556</th>\n",
       "      <td>137908</td>\n",
       "      <td>0.0</td>\n",
       "    </tr>\n",
       "    <tr>\n",
       "      <th>1159560</th>\n",
       "      <td>320024</td>\n",
       "      <td>1.0</td>\n",
       "    </tr>\n",
       "    <tr>\n",
       "      <th>1159567</th>\n",
       "      <td>346461</td>\n",
       "      <td>0.0</td>\n",
       "    </tr>\n",
       "    <tr>\n",
       "      <th>1159574</th>\n",
       "      <td>23853</td>\n",
       "      <td>1.0</td>\n",
       "    </tr>\n",
       "  </tbody>\n",
       "</table>\n",
       "<p>254285 rows × 2 columns</p>\n",
       "</div>"
      ],
      "text/plain": [
       "         phone_id  target\n",
       "5           19843     0.0\n",
       "8          173074     0.0\n",
       "15         101944     0.0\n",
       "19         615032     0.0\n",
       "26         342522     1.0\n",
       "...           ...     ...\n",
       "1159549     69348     1.0\n",
       "1159556    137908     0.0\n",
       "1159560    320024     1.0\n",
       "1159567    346461     0.0\n",
       "1159574     23853     1.0\n",
       "\n",
       "[254285 rows x 2 columns]"
      ]
     },
     "execution_count": 125,
     "metadata": {},
     "output_type": "execute_result"
    }
   ],
   "source": [
    "train[train['order_completed_at'] == '2020-06'][['phone_id', 'target']]"
   ]
  },
  {
   "cell_type": "markdown",
   "metadata": {},
   "source": [
    "# Модель\n",
    "\n",
    "# Наша библиотека по uplift\n",
    "\n",
    "- используем ClassTransformation метод и метрики из нее\n",
    "\n",
    "https://github.com/maks-sh/scikit-uplift\n",
    "\n",
    "`pip install scikit-uplift`\n",
    "\n",
    "### Туториал по uplift\n",
    "\n",
    "https://habr.com/ru/company/ru_mts/blog/485976/"
   ]
  },
  {
   "cell_type": "code",
   "execution_count": null,
   "metadata": {
    "ExecuteTime": {
     "end_time": "2020-10-18T08:54:33.539760Z",
     "start_time": "2020-10-18T08:53:29.353900Z"
    }
   },
   "outputs": [],
   "source": [
    "import sys\n",
    "!{sys.executable} -m pip install scikit-uplift"
   ]
  },
  {
   "cell_type": "code",
   "execution_count": 121,
   "metadata": {
    "ExecuteTime": {
     "end_time": "2020-10-18T08:56:15.531293Z",
     "start_time": "2020-10-18T08:56:15.529189Z"
    }
   },
   "outputs": [],
   "source": [
    "from sklift.models import ClassTransformation\n",
    "from catboost import CatBoostClassifier"
   ]
  },
  {
   "cell_type": "code",
   "execution_count": 122,
   "metadata": {
    "ExecuteTime": {
     "end_time": "2020-10-18T09:00:31.434637Z",
     "start_time": "2020-10-18T09:00:26.303177Z"
    }
   },
   "outputs": [],
   "source": [
    "feat = pd.read_csv('train_feat_upd.csv')"
   ]
  },
  {
   "cell_type": "code",
   "execution_count": 123,
   "metadata": {
    "ExecuteTime": {
     "end_time": "2020-10-18T09:00:31.454530Z",
     "start_time": "2020-10-18T09:00:31.436398Z"
    }
   },
   "outputs": [
    {
     "data": {
      "text/html": [
       "<div>\n",
       "<style scoped>\n",
       "    .dataframe tbody tr th:only-of-type {\n",
       "        vertical-align: middle;\n",
       "    }\n",
       "\n",
       "    .dataframe tbody tr th {\n",
       "        vertical-align: top;\n",
       "    }\n",
       "\n",
       "    .dataframe thead th {\n",
       "        text-align: right;\n",
       "    }\n",
       "</style>\n",
       "<table border=\"1\" class=\"dataframe\">\n",
       "  <thead>\n",
       "    <tr style=\"text-align: right;\">\n",
       "      <th></th>\n",
       "      <th>phone_id</th>\n",
       "      <th>order_month</th>\n",
       "      <th>user_id_cnt</th>\n",
       "      <th>ship_address_id_cnt</th>\n",
       "      <th>shipment_id_cnt</th>\n",
       "      <th>order_id_cnt</th>\n",
       "      <th>store_id_cnt</th>\n",
       "      <th>total_cost_min</th>\n",
       "      <th>total_cost_max</th>\n",
       "      <th>total_cost_sum</th>\n",
       "      <th>...</th>\n",
       "      <th>os_ios</th>\n",
       "      <th>os_mac</th>\n",
       "      <th>os_windows</th>\n",
       "      <th>shipment_state_canceled</th>\n",
       "      <th>shipment_state_shipped</th>\n",
       "      <th>shipment_state_shipping</th>\n",
       "      <th>shipment_state_ready</th>\n",
       "      <th>dw_kind_courier</th>\n",
       "      <th>order_completed_at</th>\n",
       "      <th>target</th>\n",
       "    </tr>\n",
       "  </thead>\n",
       "  <tbody>\n",
       "    <tr>\n",
       "      <th>0</th>\n",
       "      <td>9</td>\n",
       "      <td>2020-06</td>\n",
       "      <td>1</td>\n",
       "      <td>2</td>\n",
       "      <td>2</td>\n",
       "      <td>2</td>\n",
       "      <td>1</td>\n",
       "      <td>0.0</td>\n",
       "      <td>0.0</td>\n",
       "      <td>0.0</td>\n",
       "      <td>...</td>\n",
       "      <td>0.0</td>\n",
       "      <td>0.0</td>\n",
       "      <td>1.0</td>\n",
       "      <td>0.0</td>\n",
       "      <td>1.0</td>\n",
       "      <td>0.0</td>\n",
       "      <td>0.0</td>\n",
       "      <td>1.0</td>\n",
       "      <td>2020-06</td>\n",
       "      <td>1.0</td>\n",
       "    </tr>\n",
       "    <tr>\n",
       "      <th>1</th>\n",
       "      <td>140</td>\n",
       "      <td>2020-05</td>\n",
       "      <td>1</td>\n",
       "      <td>7</td>\n",
       "      <td>7</td>\n",
       "      <td>7</td>\n",
       "      <td>1</td>\n",
       "      <td>0.0</td>\n",
       "      <td>158.0</td>\n",
       "      <td>948.0</td>\n",
       "      <td>...</td>\n",
       "      <td>0.0</td>\n",
       "      <td>0.0</td>\n",
       "      <td>1.0</td>\n",
       "      <td>0.0</td>\n",
       "      <td>1.0</td>\n",
       "      <td>0.0</td>\n",
       "      <td>0.0</td>\n",
       "      <td>1.0</td>\n",
       "      <td>2020-05</td>\n",
       "      <td>1.0</td>\n",
       "    </tr>\n",
       "    <tr>\n",
       "      <th>2</th>\n",
       "      <td>143</td>\n",
       "      <td>2020-06</td>\n",
       "      <td>1</td>\n",
       "      <td>1</td>\n",
       "      <td>1</td>\n",
       "      <td>1</td>\n",
       "      <td>1</td>\n",
       "      <td>158.0</td>\n",
       "      <td>158.0</td>\n",
       "      <td>158.0</td>\n",
       "      <td>...</td>\n",
       "      <td>0.0</td>\n",
       "      <td>0.0</td>\n",
       "      <td>0.0</td>\n",
       "      <td>0.0</td>\n",
       "      <td>1.0</td>\n",
       "      <td>0.0</td>\n",
       "      <td>0.0</td>\n",
       "      <td>1.0</td>\n",
       "      <td>2020-06</td>\n",
       "      <td>0.0</td>\n",
       "    </tr>\n",
       "    <tr>\n",
       "      <th>3</th>\n",
       "      <td>183</td>\n",
       "      <td>2020-03</td>\n",
       "      <td>1</td>\n",
       "      <td>4</td>\n",
       "      <td>4</td>\n",
       "      <td>4</td>\n",
       "      <td>2</td>\n",
       "      <td>0.0</td>\n",
       "      <td>162.0</td>\n",
       "      <td>320.0</td>\n",
       "      <td>...</td>\n",
       "      <td>1.0</td>\n",
       "      <td>0.0</td>\n",
       "      <td>0.0</td>\n",
       "      <td>0.0</td>\n",
       "      <td>1.0</td>\n",
       "      <td>0.0</td>\n",
       "      <td>0.0</td>\n",
       "      <td>1.0</td>\n",
       "      <td>2020-03</td>\n",
       "      <td>1.0</td>\n",
       "    </tr>\n",
       "    <tr>\n",
       "      <th>4</th>\n",
       "      <td>235</td>\n",
       "      <td>2020-07</td>\n",
       "      <td>1</td>\n",
       "      <td>4</td>\n",
       "      <td>4</td>\n",
       "      <td>4</td>\n",
       "      <td>1</td>\n",
       "      <td>0.0</td>\n",
       "      <td>0.0</td>\n",
       "      <td>0.0</td>\n",
       "      <td>...</td>\n",
       "      <td>0.0</td>\n",
       "      <td>0.0</td>\n",
       "      <td>0.0</td>\n",
       "      <td>0.0</td>\n",
       "      <td>1.0</td>\n",
       "      <td>0.0</td>\n",
       "      <td>0.0</td>\n",
       "      <td>1.0</td>\n",
       "      <td>2020-07</td>\n",
       "      <td>1.0</td>\n",
       "    </tr>\n",
       "  </tbody>\n",
       "</table>\n",
       "<p>5 rows × 89 columns</p>\n",
       "</div>"
      ],
      "text/plain": [
       "   phone_id order_month  user_id_cnt  ship_address_id_cnt  shipment_id_cnt  \\\n",
       "0         9     2020-06            1                    2                2   \n",
       "1       140     2020-05            1                    7                7   \n",
       "2       143     2020-06            1                    1                1   \n",
       "3       183     2020-03            1                    4                4   \n",
       "4       235     2020-07            1                    4                4   \n",
       "\n",
       "   order_id_cnt  store_id_cnt  total_cost_min  total_cost_max  total_cost_sum  \\\n",
       "0             2             1             0.0             0.0             0.0   \n",
       "1             7             1             0.0           158.0           948.0   \n",
       "2             1             1           158.0           158.0           158.0   \n",
       "3             4             2             0.0           162.0           320.0   \n",
       "4             4             1             0.0             0.0             0.0   \n",
       "\n",
       "   ...  os_ios  os_mac  os_windows  shipment_state_canceled  \\\n",
       "0  ...     0.0     0.0         1.0                      0.0   \n",
       "1  ...     0.0     0.0         1.0                      0.0   \n",
       "2  ...     0.0     0.0         0.0                      0.0   \n",
       "3  ...     1.0     0.0         0.0                      0.0   \n",
       "4  ...     0.0     0.0         0.0                      0.0   \n",
       "\n",
       "   shipment_state_shipped  shipment_state_shipping  shipment_state_ready  \\\n",
       "0                     1.0                      0.0                   0.0   \n",
       "1                     1.0                      0.0                   0.0   \n",
       "2                     1.0                      0.0                   0.0   \n",
       "3                     1.0                      0.0                   0.0   \n",
       "4                     1.0                      0.0                   0.0   \n",
       "\n",
       "   dw_kind_courier  order_completed_at  target  \n",
       "0              1.0             2020-06     1.0  \n",
       "1              1.0             2020-05     1.0  \n",
       "2              1.0             2020-06     0.0  \n",
       "3              1.0             2020-03     1.0  \n",
       "4              1.0             2020-07     1.0  \n",
       "\n",
       "[5 rows x 89 columns]"
      ]
     },
     "execution_count": 123,
     "metadata": {},
     "output_type": "execute_result"
    }
   ],
   "source": [
    "feat.head()"
   ]
  },
  {
   "cell_type": "code",
   "execution_count": 137,
   "metadata": {
    "ExecuteTime": {
     "end_time": "2020-10-18T09:19:24.705654Z",
     "start_time": "2020-10-18T09:19:23.700040Z"
    }
   },
   "outputs": [
    {
     "data": {
      "text/plain": [
       "(155582, 88)"
      ]
     },
     "execution_count": 137,
     "metadata": {},
     "output_type": "execute_result"
    }
   ],
   "source": [
    "df_train = feat.merge(\n",
    "    train[train['order_completed_at'] == '2020-06'][['phone_id', 'order_completed_at']],\n",
    "    left_on=['phone_id', 'order_month'],\n",
    "    right_on=['phone_id', 'order_completed_at'],\n",
    "    how='inner'\n",
    ").drop(['order_completed_at_x', 'order_completed_at_y'], axis=1)\n",
    "\n",
    "df_train.shape"
   ]
  },
  {
   "cell_type": "code",
   "execution_count": 138,
   "metadata": {
    "ExecuteTime": {
     "end_time": "2020-10-18T09:19:25.591072Z",
     "start_time": "2020-10-18T09:19:25.574140Z"
    }
   },
   "outputs": [
    {
     "data": {
      "text/html": [
       "<div>\n",
       "<style scoped>\n",
       "    .dataframe tbody tr th:only-of-type {\n",
       "        vertical-align: middle;\n",
       "    }\n",
       "\n",
       "    .dataframe tbody tr th {\n",
       "        vertical-align: top;\n",
       "    }\n",
       "\n",
       "    .dataframe thead th {\n",
       "        text-align: right;\n",
       "    }\n",
       "</style>\n",
       "<table border=\"1\" class=\"dataframe\">\n",
       "  <thead>\n",
       "    <tr style=\"text-align: right;\">\n",
       "      <th></th>\n",
       "      <th>phone_id</th>\n",
       "      <th>order_month</th>\n",
       "      <th>user_id_cnt</th>\n",
       "      <th>ship_address_id_cnt</th>\n",
       "      <th>shipment_id_cnt</th>\n",
       "      <th>order_id_cnt</th>\n",
       "      <th>store_id_cnt</th>\n",
       "      <th>total_cost_min</th>\n",
       "      <th>total_cost_max</th>\n",
       "      <th>total_cost_sum</th>\n",
       "      <th>...</th>\n",
       "      <th>os_android</th>\n",
       "      <th>os_ios</th>\n",
       "      <th>os_mac</th>\n",
       "      <th>os_windows</th>\n",
       "      <th>shipment_state_canceled</th>\n",
       "      <th>shipment_state_shipped</th>\n",
       "      <th>shipment_state_shipping</th>\n",
       "      <th>shipment_state_ready</th>\n",
       "      <th>dw_kind_courier</th>\n",
       "      <th>target</th>\n",
       "    </tr>\n",
       "  </thead>\n",
       "  <tbody>\n",
       "    <tr>\n",
       "      <th>0</th>\n",
       "      <td>9</td>\n",
       "      <td>2020-06</td>\n",
       "      <td>1</td>\n",
       "      <td>2</td>\n",
       "      <td>2</td>\n",
       "      <td>2</td>\n",
       "      <td>1</td>\n",
       "      <td>0.0</td>\n",
       "      <td>0.0</td>\n",
       "      <td>0.0</td>\n",
       "      <td>...</td>\n",
       "      <td>0.0</td>\n",
       "      <td>0.0</td>\n",
       "      <td>0.0</td>\n",
       "      <td>1.0</td>\n",
       "      <td>0.0</td>\n",
       "      <td>1.0</td>\n",
       "      <td>0.0</td>\n",
       "      <td>0.0</td>\n",
       "      <td>1.0</td>\n",
       "      <td>1.0</td>\n",
       "    </tr>\n",
       "    <tr>\n",
       "      <th>1</th>\n",
       "      <td>143</td>\n",
       "      <td>2020-06</td>\n",
       "      <td>1</td>\n",
       "      <td>1</td>\n",
       "      <td>1</td>\n",
       "      <td>1</td>\n",
       "      <td>1</td>\n",
       "      <td>158.0</td>\n",
       "      <td>158.0</td>\n",
       "      <td>158.0</td>\n",
       "      <td>...</td>\n",
       "      <td>1.0</td>\n",
       "      <td>0.0</td>\n",
       "      <td>0.0</td>\n",
       "      <td>0.0</td>\n",
       "      <td>0.0</td>\n",
       "      <td>1.0</td>\n",
       "      <td>0.0</td>\n",
       "      <td>0.0</td>\n",
       "      <td>1.0</td>\n",
       "      <td>0.0</td>\n",
       "    </tr>\n",
       "    <tr>\n",
       "      <th>2</th>\n",
       "      <td>573</td>\n",
       "      <td>2020-06</td>\n",
       "      <td>1</td>\n",
       "      <td>2</td>\n",
       "      <td>2</td>\n",
       "      <td>2</td>\n",
       "      <td>2</td>\n",
       "      <td>0.0</td>\n",
       "      <td>163.0</td>\n",
       "      <td>163.0</td>\n",
       "      <td>...</td>\n",
       "      <td>1.0</td>\n",
       "      <td>0.0</td>\n",
       "      <td>0.0</td>\n",
       "      <td>0.0</td>\n",
       "      <td>0.0</td>\n",
       "      <td>1.0</td>\n",
       "      <td>0.0</td>\n",
       "      <td>0.0</td>\n",
       "      <td>1.0</td>\n",
       "      <td>1.0</td>\n",
       "    </tr>\n",
       "    <tr>\n",
       "      <th>3</th>\n",
       "      <td>832</td>\n",
       "      <td>2020-06</td>\n",
       "      <td>1</td>\n",
       "      <td>3</td>\n",
       "      <td>4</td>\n",
       "      <td>3</td>\n",
       "      <td>2</td>\n",
       "      <td>0.0</td>\n",
       "      <td>199.0</td>\n",
       "      <td>357.0</td>\n",
       "      <td>...</td>\n",
       "      <td>0.0</td>\n",
       "      <td>0.0</td>\n",
       "      <td>1.0</td>\n",
       "      <td>0.0</td>\n",
       "      <td>0.0</td>\n",
       "      <td>1.0</td>\n",
       "      <td>0.0</td>\n",
       "      <td>0.0</td>\n",
       "      <td>1.0</td>\n",
       "      <td>1.0</td>\n",
       "    </tr>\n",
       "    <tr>\n",
       "      <th>4</th>\n",
       "      <td>834</td>\n",
       "      <td>2020-06</td>\n",
       "      <td>1</td>\n",
       "      <td>5</td>\n",
       "      <td>6</td>\n",
       "      <td>5</td>\n",
       "      <td>2</td>\n",
       "      <td>127.0</td>\n",
       "      <td>199.0</td>\n",
       "      <td>1040.0</td>\n",
       "      <td>...</td>\n",
       "      <td>0.0</td>\n",
       "      <td>1.0</td>\n",
       "      <td>0.0</td>\n",
       "      <td>0.0</td>\n",
       "      <td>0.0</td>\n",
       "      <td>1.0</td>\n",
       "      <td>0.0</td>\n",
       "      <td>0.0</td>\n",
       "      <td>1.0</td>\n",
       "      <td>1.0</td>\n",
       "    </tr>\n",
       "  </tbody>\n",
       "</table>\n",
       "<p>5 rows × 88 columns</p>\n",
       "</div>"
      ],
      "text/plain": [
       "   phone_id order_month  user_id_cnt  ship_address_id_cnt  shipment_id_cnt  \\\n",
       "0         9     2020-06            1                    2                2   \n",
       "1       143     2020-06            1                    1                1   \n",
       "2       573     2020-06            1                    2                2   \n",
       "3       832     2020-06            1                    3                4   \n",
       "4       834     2020-06            1                    5                6   \n",
       "\n",
       "   order_id_cnt  store_id_cnt  total_cost_min  total_cost_max  total_cost_sum  \\\n",
       "0             2             1             0.0             0.0             0.0   \n",
       "1             1             1           158.0           158.0           158.0   \n",
       "2             2             2             0.0           163.0           163.0   \n",
       "3             3             2             0.0           199.0           357.0   \n",
       "4             5             2           127.0           199.0          1040.0   \n",
       "\n",
       "   ...  os_android  os_ios  os_mac  os_windows  shipment_state_canceled  \\\n",
       "0  ...         0.0     0.0     0.0         1.0                      0.0   \n",
       "1  ...         1.0     0.0     0.0         0.0                      0.0   \n",
       "2  ...         1.0     0.0     0.0         0.0                      0.0   \n",
       "3  ...         0.0     0.0     1.0         0.0                      0.0   \n",
       "4  ...         0.0     1.0     0.0         0.0                      0.0   \n",
       "\n",
       "   shipment_state_shipped  shipment_state_shipping  shipment_state_ready  \\\n",
       "0                     1.0                      0.0                   0.0   \n",
       "1                     1.0                      0.0                   0.0   \n",
       "2                     1.0                      0.0                   0.0   \n",
       "3                     1.0                      0.0                   0.0   \n",
       "4                     1.0                      0.0                   0.0   \n",
       "\n",
       "   dw_kind_courier  target  \n",
       "0              1.0     1.0  \n",
       "1              1.0     0.0  \n",
       "2              1.0     1.0  \n",
       "3              1.0     1.0  \n",
       "4              1.0     1.0  \n",
       "\n",
       "[5 rows x 88 columns]"
      ]
     },
     "execution_count": 138,
     "metadata": {},
     "output_type": "execute_result"
    }
   ],
   "source": [
    "df_train.head()"
   ]
  },
  {
   "cell_type": "code",
   "execution_count": 129,
   "metadata": {
    "ExecuteTime": {
     "end_time": "2020-10-18T09:12:49.142154Z",
     "start_time": "2020-10-18T09:12:49.134699Z"
    }
   },
   "outputs": [
    {
     "data": {
      "text/plain": [
       "155582"
      ]
     },
     "execution_count": 129,
     "metadata": {},
     "output_type": "execute_result"
    }
   ],
   "source": [
    "df_train['phone_id'].nunique()"
   ]
  },
  {
   "cell_type": "code",
   "execution_count": 132,
   "metadata": {
    "ExecuteTime": {
     "end_time": "2020-10-18T09:17:29.960219Z",
     "start_time": "2020-10-18T09:17:29.953873Z"
    }
   },
   "outputs": [
    {
     "data": {
      "text/html": [
       "<div>\n",
       "<style scoped>\n",
       "    .dataframe tbody tr th:only-of-type {\n",
       "        vertical-align: middle;\n",
       "    }\n",
       "\n",
       "    .dataframe tbody tr th {\n",
       "        vertical-align: top;\n",
       "    }\n",
       "\n",
       "    .dataframe thead th {\n",
       "        text-align: right;\n",
       "    }\n",
       "</style>\n",
       "<table border=\"1\" class=\"dataframe\">\n",
       "  <thead>\n",
       "    <tr style=\"text-align: right;\">\n",
       "      <th></th>\n",
       "      <th>phone_id</th>\n",
       "      <th>treatment</th>\n",
       "    </tr>\n",
       "  </thead>\n",
       "  <tbody>\n",
       "    <tr>\n",
       "      <th>0</th>\n",
       "      <td>213286</td>\n",
       "      <td>1</td>\n",
       "    </tr>\n",
       "    <tr>\n",
       "      <th>1</th>\n",
       "      <td>213315</td>\n",
       "      <td>1</td>\n",
       "    </tr>\n",
       "    <tr>\n",
       "      <th>2</th>\n",
       "      <td>171453</td>\n",
       "      <td>1</td>\n",
       "    </tr>\n",
       "    <tr>\n",
       "      <th>3</th>\n",
       "      <td>232730</td>\n",
       "      <td>1</td>\n",
       "    </tr>\n",
       "    <tr>\n",
       "      <th>4</th>\n",
       "      <td>8233</td>\n",
       "      <td>1</td>\n",
       "    </tr>\n",
       "  </tbody>\n",
       "</table>\n",
       "</div>"
      ],
      "text/plain": [
       "   phone_id  treatment\n",
       "0    213286          1\n",
       "1    213315          1\n",
       "2    171453          1\n",
       "3    232730          1\n",
       "4      8233          1"
      ]
     },
     "execution_count": 132,
     "metadata": {},
     "output_type": "execute_result"
    }
   ],
   "source": [
    "df_treatment = pd.DataFrame(users_treatment, columns=['phone_id'])\n",
    "df_treatment['treatment'] = 1\n",
    "df_treatment.head()"
   ]
  },
  {
   "cell_type": "code",
   "execution_count": 141,
   "metadata": {
    "ExecuteTime": {
     "end_time": "2020-10-18T09:20:19.334041Z",
     "start_time": "2020-10-18T09:20:18.883146Z"
    }
   },
   "outputs": [],
   "source": [
    "df_train = df_train.merge(\n",
    "    df_treatment,\n",
    "    on = ['phone_id'],\n",
    "    how = 'left'\n",
    ")\n",
    "\n",
    "df_train['treatment'] = df_train['treatment'].fillna(0)"
   ]
  },
  {
   "cell_type": "code",
   "execution_count": 142,
   "metadata": {
    "ExecuteTime": {
     "end_time": "2020-10-18T09:20:26.744901Z",
     "start_time": "2020-10-18T09:20:26.727349Z"
    }
   },
   "outputs": [
    {
     "data": {
      "text/html": [
       "<div>\n",
       "<style scoped>\n",
       "    .dataframe tbody tr th:only-of-type {\n",
       "        vertical-align: middle;\n",
       "    }\n",
       "\n",
       "    .dataframe tbody tr th {\n",
       "        vertical-align: top;\n",
       "    }\n",
       "\n",
       "    .dataframe thead th {\n",
       "        text-align: right;\n",
       "    }\n",
       "</style>\n",
       "<table border=\"1\" class=\"dataframe\">\n",
       "  <thead>\n",
       "    <tr style=\"text-align: right;\">\n",
       "      <th></th>\n",
       "      <th>phone_id</th>\n",
       "      <th>order_month</th>\n",
       "      <th>user_id_cnt</th>\n",
       "      <th>ship_address_id_cnt</th>\n",
       "      <th>shipment_id_cnt</th>\n",
       "      <th>order_id_cnt</th>\n",
       "      <th>store_id_cnt</th>\n",
       "      <th>total_cost_min</th>\n",
       "      <th>total_cost_max</th>\n",
       "      <th>total_cost_sum</th>\n",
       "      <th>...</th>\n",
       "      <th>os_ios</th>\n",
       "      <th>os_mac</th>\n",
       "      <th>os_windows</th>\n",
       "      <th>shipment_state_canceled</th>\n",
       "      <th>shipment_state_shipped</th>\n",
       "      <th>shipment_state_shipping</th>\n",
       "      <th>shipment_state_ready</th>\n",
       "      <th>dw_kind_courier</th>\n",
       "      <th>target</th>\n",
       "      <th>treatment</th>\n",
       "    </tr>\n",
       "  </thead>\n",
       "  <tbody>\n",
       "    <tr>\n",
       "      <th>0</th>\n",
       "      <td>9</td>\n",
       "      <td>2020-06</td>\n",
       "      <td>1</td>\n",
       "      <td>2</td>\n",
       "      <td>2</td>\n",
       "      <td>2</td>\n",
       "      <td>1</td>\n",
       "      <td>0.0</td>\n",
       "      <td>0.0</td>\n",
       "      <td>0.0</td>\n",
       "      <td>...</td>\n",
       "      <td>0.0</td>\n",
       "      <td>0.0</td>\n",
       "      <td>1.0</td>\n",
       "      <td>0.0</td>\n",
       "      <td>1.0</td>\n",
       "      <td>0.0</td>\n",
       "      <td>0.0</td>\n",
       "      <td>1.0</td>\n",
       "      <td>1.0</td>\n",
       "      <td>0.0</td>\n",
       "    </tr>\n",
       "    <tr>\n",
       "      <th>1</th>\n",
       "      <td>143</td>\n",
       "      <td>2020-06</td>\n",
       "      <td>1</td>\n",
       "      <td>1</td>\n",
       "      <td>1</td>\n",
       "      <td>1</td>\n",
       "      <td>1</td>\n",
       "      <td>158.0</td>\n",
       "      <td>158.0</td>\n",
       "      <td>158.0</td>\n",
       "      <td>...</td>\n",
       "      <td>0.0</td>\n",
       "      <td>0.0</td>\n",
       "      <td>0.0</td>\n",
       "      <td>0.0</td>\n",
       "      <td>1.0</td>\n",
       "      <td>0.0</td>\n",
       "      <td>0.0</td>\n",
       "      <td>1.0</td>\n",
       "      <td>0.0</td>\n",
       "      <td>0.0</td>\n",
       "    </tr>\n",
       "    <tr>\n",
       "      <th>2</th>\n",
       "      <td>573</td>\n",
       "      <td>2020-06</td>\n",
       "      <td>1</td>\n",
       "      <td>2</td>\n",
       "      <td>2</td>\n",
       "      <td>2</td>\n",
       "      <td>2</td>\n",
       "      <td>0.0</td>\n",
       "      <td>163.0</td>\n",
       "      <td>163.0</td>\n",
       "      <td>...</td>\n",
       "      <td>0.0</td>\n",
       "      <td>0.0</td>\n",
       "      <td>0.0</td>\n",
       "      <td>0.0</td>\n",
       "      <td>1.0</td>\n",
       "      <td>0.0</td>\n",
       "      <td>0.0</td>\n",
       "      <td>1.0</td>\n",
       "      <td>1.0</td>\n",
       "      <td>0.0</td>\n",
       "    </tr>\n",
       "    <tr>\n",
       "      <th>3</th>\n",
       "      <td>832</td>\n",
       "      <td>2020-06</td>\n",
       "      <td>1</td>\n",
       "      <td>3</td>\n",
       "      <td>4</td>\n",
       "      <td>3</td>\n",
       "      <td>2</td>\n",
       "      <td>0.0</td>\n",
       "      <td>199.0</td>\n",
       "      <td>357.0</td>\n",
       "      <td>...</td>\n",
       "      <td>0.0</td>\n",
       "      <td>1.0</td>\n",
       "      <td>0.0</td>\n",
       "      <td>0.0</td>\n",
       "      <td>1.0</td>\n",
       "      <td>0.0</td>\n",
       "      <td>0.0</td>\n",
       "      <td>1.0</td>\n",
       "      <td>1.0</td>\n",
       "      <td>0.0</td>\n",
       "    </tr>\n",
       "    <tr>\n",
       "      <th>4</th>\n",
       "      <td>834</td>\n",
       "      <td>2020-06</td>\n",
       "      <td>1</td>\n",
       "      <td>5</td>\n",
       "      <td>6</td>\n",
       "      <td>5</td>\n",
       "      <td>2</td>\n",
       "      <td>127.0</td>\n",
       "      <td>199.0</td>\n",
       "      <td>1040.0</td>\n",
       "      <td>...</td>\n",
       "      <td>1.0</td>\n",
       "      <td>0.0</td>\n",
       "      <td>0.0</td>\n",
       "      <td>0.0</td>\n",
       "      <td>1.0</td>\n",
       "      <td>0.0</td>\n",
       "      <td>0.0</td>\n",
       "      <td>1.0</td>\n",
       "      <td>1.0</td>\n",
       "      <td>1.0</td>\n",
       "    </tr>\n",
       "  </tbody>\n",
       "</table>\n",
       "<p>5 rows × 89 columns</p>\n",
       "</div>"
      ],
      "text/plain": [
       "   phone_id order_month  user_id_cnt  ship_address_id_cnt  shipment_id_cnt  \\\n",
       "0         9     2020-06            1                    2                2   \n",
       "1       143     2020-06            1                    1                1   \n",
       "2       573     2020-06            1                    2                2   \n",
       "3       832     2020-06            1                    3                4   \n",
       "4       834     2020-06            1                    5                6   \n",
       "\n",
       "   order_id_cnt  store_id_cnt  total_cost_min  total_cost_max  total_cost_sum  \\\n",
       "0             2             1             0.0             0.0             0.0   \n",
       "1             1             1           158.0           158.0           158.0   \n",
       "2             2             2             0.0           163.0           163.0   \n",
       "3             3             2             0.0           199.0           357.0   \n",
       "4             5             2           127.0           199.0          1040.0   \n",
       "\n",
       "   ...  os_ios  os_mac  os_windows  shipment_state_canceled  \\\n",
       "0  ...     0.0     0.0         1.0                      0.0   \n",
       "1  ...     0.0     0.0         0.0                      0.0   \n",
       "2  ...     0.0     0.0         0.0                      0.0   \n",
       "3  ...     0.0     1.0         0.0                      0.0   \n",
       "4  ...     1.0     0.0         0.0                      0.0   \n",
       "\n",
       "   shipment_state_shipped  shipment_state_shipping  shipment_state_ready  \\\n",
       "0                     1.0                      0.0                   0.0   \n",
       "1                     1.0                      0.0                   0.0   \n",
       "2                     1.0                      0.0                   0.0   \n",
       "3                     1.0                      0.0                   0.0   \n",
       "4                     1.0                      0.0                   0.0   \n",
       "\n",
       "   dw_kind_courier  target  treatment  \n",
       "0              1.0     1.0        0.0  \n",
       "1              1.0     0.0        0.0  \n",
       "2              1.0     1.0        0.0  \n",
       "3              1.0     1.0        0.0  \n",
       "4              1.0     1.0        1.0  \n",
       "\n",
       "[5 rows x 89 columns]"
      ]
     },
     "execution_count": 142,
     "metadata": {},
     "output_type": "execute_result"
    }
   ],
   "source": [
    "df_train.head()"
   ]
  },
  {
   "cell_type": "markdown",
   "metadata": {},
   "source": [
    "### train_test_split"
   ]
  },
  {
   "cell_type": "code",
   "execution_count": 204,
   "metadata": {
    "ExecuteTime": {
     "end_time": "2020-10-18T09:59:54.441304Z",
     "start_time": "2020-10-18T09:59:53.714860Z"
    }
   },
   "outputs": [
    {
     "name": "stdout",
     "output_type": "stream",
     "text": [
      "Размер обучающего датасета: (108907, 89)\n",
      "Размер тестового датасета: (46675, 89)\n"
     ]
    }
   ],
   "source": [
    "from sklearn.model_selection import train_test_split\n",
    "\n",
    "TRMNT_COL = 'treatment'\n",
    "TARGET_COL = 'target'\n",
    "\n",
    "X_train, X_val = train_test_split(df_train,\n",
    "                            stratify=df_train[[TRMNT_COL, TARGET_COL]],\n",
    "                            test_size=0.3,\n",
    "                            random_state=42)\n",
    "\n",
    "print(f\"Размер обучающего датасета: {X_train.shape}\")\n",
    "print(f\"Размер тестового датасета: {X_val.shape}\")"
   ]
  },
  {
   "cell_type": "code",
   "execution_count": 205,
   "metadata": {
    "ExecuteTime": {
     "end_time": "2020-10-18T09:59:55.459988Z",
     "start_time": "2020-10-18T09:59:55.454394Z"
    }
   },
   "outputs": [],
   "source": [
    "y_train = X_train[TARGET_COL]\n",
    "trmnt_train = X_train[TRMNT_COL]\n",
    "\n",
    "y_val= X_val[TARGET_COL]\n",
    "trmnt_val = X_val[TRMNT_COL]\n",
    "\n",
    "train_cols = ['user_id_cnt', 'ship_address_id_cnt',\n",
    "       'shipment_id_cnt', 'order_id_cnt', 'store_id_cnt', 'total_cost_min',\n",
    "       'total_cost_max', 'total_cost_sum', 'total_cost_mean', 'total_cost_std',\n",
    "       'total_cancelled_min', 'total_cancelled_max', 'total_cancelled_sum',\n",
    "       'total_cancelled_mean', 'total_cancelled_std', 'rate_min', 'rate_max',\n",
    "       'rate_mean', 'rate_std', 'promo_total_min', 'promo_total_max',\n",
    "       'promo_total_sum', 'promo_total_mean', 'promo_total_std',\n",
    "       'total_weight_min', 'total_weight_max', 'total_weight_sum',\n",
    "       'total_weight_mean', 'total_weight_std', 'order_time_min',\n",
    "       'order_time_max', 'order_time_mean', 'order_time_std', 'order_day_mean',\n",
    "       'order_day_std', 'order_dayofweek_min', 'order_dayofweek_max',\n",
    "       'order_dayofweekt_mean', 'order_dayofweek_std', 'retailer_min',\n",
    "       'retailer_max', 'retailer_mean', 'retailer_std', 'city_name_min',\n",
    "       'city_name_max', 'city_name_mean', 'city_name_std',\n",
    "       'cancelled_items_min', 'cancelled_items_max', 'cancelled_items_sum',\n",
    "       'cancelled_items_mean', 'cancelled_items_std', 'cat_diversity_min',\n",
    "       'cat_diversity_max', 'cat_diversity_mean', 'cat_diversity_std',\n",
    "       'replaced_items_min', 'replaced_items_max', 'replaced_items_sum',\n",
    "       'replaced_items_mean', 'replaced_items_std', 'brand_cnt_min',\n",
    "       'brand_cnt_max', 'brand_cnt_mean', 'brand_cnt_std',\n",
    "       'order_state_canceled', 'order_state_complete', 'order_state_cart',\n",
    "       'shipment_state_collecting', 'shipment_state_ready_to_ship',\n",
    "       'shipment_state_pending', 'dw_kind_pickup', 'dw_kind_express_delivery',\n",
    "       'order_state_resumed', 'platform_app', 'platform_web', 'os_android',\n",
    "       'os_ios', 'os_mac', 'os_windows', 'shipment_state_canceled',\n",
    "       'shipment_state_shipped', 'shipment_state_shipping',\n",
    "       'shipment_state_ready', 'dw_kind_courier']"
   ]
  },
  {
   "cell_type": "markdown",
   "metadata": {},
   "source": [
    "### Модель uplift"
   ]
  },
  {
   "cell_type": "code",
   "execution_count": 206,
   "metadata": {
    "ExecuteTime": {
     "end_time": "2020-10-18T09:59:59.997320Z",
     "start_time": "2020-10-18T09:59:58.680291Z"
    }
   },
   "outputs": [
    {
     "name": "stderr",
     "output_type": "stream",
     "text": [
      "/data/home/ivyeliso/mts_tv_py36/lib/python3.6/site-packages/ipykernel_launcher.py:2: UserWarning: It is recommended to use this approach on treatment balanced data. Current sample size is unbalanced.\n",
      "  \n"
     ]
    }
   ],
   "source": [
    "ct = ClassTransformation(CatBoostClassifier(iterations=20, thread_count=2, random_state=42, silent=True))\n",
    "ct = ct.fit(X_train[train_cols], y_train, trmnt_train)"
   ]
  },
  {
   "cell_type": "markdown",
   "metadata": {},
   "source": [
    "### Метрики "
   ]
  },
  {
   "cell_type": "code",
   "execution_count": 207,
   "metadata": {
    "ExecuteTime": {
     "end_time": "2020-10-18T10:00:07.956584Z",
     "start_time": "2020-10-18T10:00:07.909107Z"
    }
   },
   "outputs": [
    {
     "name": "stdout",
     "output_type": "stream",
     "text": [
      "uplift@30% = 0.3524515217080916\n"
     ]
    }
   ],
   "source": [
    "from sklift.metrics import uplift_at_k\n",
    "from sklift.viz import plot_uplift_by_percentile\n",
    "\n",
    "uplift = ct.predict(X_val[train_cols])\n",
    "\n",
    "uplift_score = uplift_at_k(y_true=y_val, uplift=uplift, treatment=trmnt_val, strategy='by_group', k=0.3)\n",
    "\n",
    "print(f'uplift@30% = {uplift_score}')"
   ]
  },
  {
   "cell_type": "markdown",
   "metadata": {},
   "source": [
    "## Uplift by percentile"
   ]
  },
  {
   "cell_type": "code",
   "execution_count": 272,
   "metadata": {
    "ExecuteTime": {
     "end_time": "2020-10-18T10:40:21.951274Z",
     "start_time": "2020-10-18T10:40:21.948643Z"
    }
   },
   "outputs": [],
   "source": [
    "# настройки для презы\n",
    "params = {\"ytick.color\" : \"w\",\n",
    "          \"xtick.color\" : \"w\",\n",
    "          \"axes.labelcolor\" : \"w\",\n",
    "          \"axes.edgecolor\" : \"w\",\n",
    "         'text.color' : \"w\"}\n",
    "\n",
    "plt.rcParams.update(params)"
   ]
  },
  {
   "cell_type": "code",
   "execution_count": 273,
   "metadata": {
    "ExecuteTime": {
     "end_time": "2020-10-18T10:40:23.318184Z",
     "start_time": "2020-10-18T10:40:23.063727Z"
    }
   },
   "outputs": [
    {
     "data": {
      "text/plain": [
       "array([<matplotlib.axes._subplots.AxesSubplot object at 0x7f7dc0251278>,\n",
       "       <matplotlib.axes._subplots.AxesSubplot object at 0x7f7dc0204240>],\n",
       "      dtype=object)"
      ]
     },
     "execution_count": 273,
     "metadata": {},
     "output_type": "execute_result"
    },
    {
     "data": {
      "image/png": "[encoded data removed]",
      "text/plain": [
       "<Figure size 576x432 with 2 Axes>"
      ]
     },
     "metadata": {
      "needs_background": "dark"
     },
     "output_type": "display_data"
    }
   ],
   "source": [
    "plot_uplift_by_percentile(y_true=y_val, \n",
    "                          uplift=uplift, \n",
    "                          treatment=trmnt_val, \n",
    "                          strategy='overall', \n",
    "                          kind='bar')"
   ]
  },
  {
   "cell_type": "markdown",
   "metadata": {},
   "source": [
    "## Churn by percentile"
   ]
  },
  {
   "cell_type": "code",
   "execution_count": 275,
   "metadata": {
    "ExecuteTime": {
     "end_time": "2020-10-18T10:41:05.689594Z",
     "start_time": "2020-10-18T10:41:05.590951Z"
    }
   },
   "outputs": [
    {
     "data": {
      "text/plain": [
       "Text(0.5, 1.0, 'sorted churn')"
      ]
     },
     "execution_count": 275,
     "metadata": {},
     "output_type": "execute_result"
    },
    {
     "data": {
      "image/png": "[encoded data removed]",
      "text/plain": [
       "<Figure size 432x288 with 1 Axes>"
      ]
     },
     "metadata": {
      "needs_background": "dark"
     },
     "output_type": "display_data"
    }
   ],
   "source": [
    "figsize=(8, 6)\n",
    "plt.bar(range(10), churn_bins, color='navy', label='treatment\\nresponse rate')\n",
    "plt.title('sorted churn')"
   ]
  },
  {
   "cell_type": "code",
   "execution_count": 233,
   "metadata": {
    "ExecuteTime": {
     "end_time": "2020-10-18T10:12:43.624894Z",
     "start_time": "2020-10-18T10:12:43.575173Z"
    }
   },
   "outputs": [
    {
     "data": {
      "text/html": [
       "<div>\n",
       "<style scoped>\n",
       "    .dataframe tbody tr th:only-of-type {\n",
       "        vertical-align: middle;\n",
       "    }\n",
       "\n",
       "    .dataframe tbody tr th {\n",
       "        vertical-align: top;\n",
       "    }\n",
       "\n",
       "    .dataframe thead th {\n",
       "        text-align: right;\n",
       "    }\n",
       "</style>\n",
       "<table border=\"1\" class=\"dataframe\">\n",
       "  <thead>\n",
       "    <tr style=\"text-align: right;\">\n",
       "      <th></th>\n",
       "      <th>Id</th>\n",
       "      <th>Predicted</th>\n",
       "    </tr>\n",
       "  </thead>\n",
       "  <tbody>\n",
       "    <tr>\n",
       "      <th>0</th>\n",
       "      <td>19843</td>\n",
       "      <td>0.790623</td>\n",
       "    </tr>\n",
       "    <tr>\n",
       "      <th>1</th>\n",
       "      <td>471287</td>\n",
       "      <td>0.570201</td>\n",
       "    </tr>\n",
       "    <tr>\n",
       "      <th>2</th>\n",
       "      <td>342522</td>\n",
       "      <td>0.570201</td>\n",
       "    </tr>\n",
       "    <tr>\n",
       "      <th>3</th>\n",
       "      <td>457799</td>\n",
       "      <td>0.570201</td>\n",
       "    </tr>\n",
       "    <tr>\n",
       "      <th>4</th>\n",
       "      <td>233778</td>\n",
       "      <td>0.806176</td>\n",
       "    </tr>\n",
       "  </tbody>\n",
       "</table>\n",
       "</div>"
      ],
      "text/plain": [
       "       Id  Predicted\n",
       "0   19843   0.790623\n",
       "1  471287   0.570201\n",
       "2  342522   0.570201\n",
       "3  457799   0.570201\n",
       "4  233778   0.806176"
      ]
     },
     "execution_count": 233,
     "metadata": {},
     "output_type": "execute_result"
    }
   ],
   "source": [
    "churn_scores = pd.read_csv(\"sample_proba_for_uplift.csv\")\n",
    "churn_scores.head()"
   ]
  },
  {
   "cell_type": "code",
   "execution_count": 234,
   "metadata": {
    "ExecuteTime": {
     "end_time": "2020-10-18T10:12:46.787079Z",
     "start_time": "2020-10-18T10:12:46.784001Z"
    }
   },
   "outputs": [
    {
     "data": {
      "text/plain": [
       "array([139651,  36609,  63251, ..., 156817, 165608, 140626])"
      ]
     },
     "execution_count": 234,
     "metadata": {},
     "output_type": "execute_result"
    }
   ],
   "source": [
    "X_val['phone_id'].values"
   ]
  },
  {
   "cell_type": "code",
   "execution_count": 235,
   "metadata": {
    "ExecuteTime": {
     "end_time": "2020-10-18T10:12:47.701760Z",
     "start_time": "2020-10-18T10:12:47.640589Z"
    }
   },
   "outputs": [],
   "source": [
    "common_id = list(set(X_val['phone_id'].values).intersection(set(list(churn_scores['Id'].values))))"
   ]
  },
  {
   "cell_type": "code",
   "execution_count": 236,
   "metadata": {
    "ExecuteTime": {
     "end_time": "2020-10-18T10:12:48.540384Z",
     "start_time": "2020-10-18T10:12:48.502826Z"
    }
   },
   "outputs": [
    {
     "data": {
      "text/html": [
       "<div>\n",
       "<style scoped>\n",
       "    .dataframe tbody tr th:only-of-type {\n",
       "        vertical-align: middle;\n",
       "    }\n",
       "\n",
       "    .dataframe tbody tr th {\n",
       "        vertical-align: top;\n",
       "    }\n",
       "\n",
       "    .dataframe thead th {\n",
       "        text-align: right;\n",
       "    }\n",
       "</style>\n",
       "<table border=\"1\" class=\"dataframe\">\n",
       "  <thead>\n",
       "    <tr style=\"text-align: right;\">\n",
       "      <th></th>\n",
       "      <th>Predicted</th>\n",
       "    </tr>\n",
       "    <tr>\n",
       "      <th>Id</th>\n",
       "      <th></th>\n",
       "    </tr>\n",
       "  </thead>\n",
       "  <tbody>\n",
       "    <tr>\n",
       "      <th>9</th>\n",
       "      <td>0.314361</td>\n",
       "    </tr>\n",
       "    <tr>\n",
       "      <th>13</th>\n",
       "      <td>0.607622</td>\n",
       "    </tr>\n",
       "    <tr>\n",
       "      <th>131091</th>\n",
       "      <td>0.594043</td>\n",
       "    </tr>\n",
       "    <tr>\n",
       "      <th>19</th>\n",
       "      <td>0.317868</td>\n",
       "    </tr>\n",
       "    <tr>\n",
       "      <th>131111</th>\n",
       "      <td>0.652469</td>\n",
       "    </tr>\n",
       "    <tr>\n",
       "      <th>...</th>\n",
       "      <td>...</td>\n",
       "    </tr>\n",
       "    <tr>\n",
       "      <th>131042</th>\n",
       "      <td>0.204657</td>\n",
       "    </tr>\n",
       "    <tr>\n",
       "      <th>131057</th>\n",
       "      <td>0.465764</td>\n",
       "    </tr>\n",
       "    <tr>\n",
       "      <th>131062</th>\n",
       "      <td>0.756994</td>\n",
       "    </tr>\n",
       "    <tr>\n",
       "      <th>262136</th>\n",
       "      <td>0.612523</td>\n",
       "    </tr>\n",
       "    <tr>\n",
       "      <th>131067</th>\n",
       "      <td>0.424275</td>\n",
       "    </tr>\n",
       "  </tbody>\n",
       "</table>\n",
       "<p>34772 rows × 1 columns</p>\n",
       "</div>"
      ],
      "text/plain": [
       "        Predicted\n",
       "Id               \n",
       "9        0.314361\n",
       "13       0.607622\n",
       "131091   0.594043\n",
       "19       0.317868\n",
       "131111   0.652469\n",
       "...           ...\n",
       "131042   0.204657\n",
       "131057   0.465764\n",
       "131062   0.756994\n",
       "262136   0.612523\n",
       "131067   0.424275\n",
       "\n",
       "[34772 rows x 1 columns]"
      ]
     },
     "execution_count": 236,
     "metadata": {},
     "output_type": "execute_result"
    }
   ],
   "source": [
    "churn_scores = churn_scores.set_index('Id').loc[common_id]\n",
    "churn_scores"
   ]
  },
  {
   "cell_type": "code",
   "execution_count": 237,
   "metadata": {
    "ExecuteTime": {
     "end_time": "2020-10-18T10:12:52.061690Z",
     "start_time": "2020-10-18T10:12:52.032395Z"
    }
   },
   "outputs": [
    {
     "data": {
      "text/html": [
       "<div>\n",
       "<style scoped>\n",
       "    .dataframe tbody tr th:only-of-type {\n",
       "        vertical-align: middle;\n",
       "    }\n",
       "\n",
       "    .dataframe tbody tr th {\n",
       "        vertical-align: top;\n",
       "    }\n",
       "\n",
       "    .dataframe thead th {\n",
       "        text-align: right;\n",
       "    }\n",
       "</style>\n",
       "<table border=\"1\" class=\"dataframe\">\n",
       "  <thead>\n",
       "    <tr style=\"text-align: right;\">\n",
       "      <th></th>\n",
       "      <th>uplift</th>\n",
       "    </tr>\n",
       "    <tr>\n",
       "      <th>phone_id</th>\n",
       "      <th></th>\n",
       "    </tr>\n",
       "  </thead>\n",
       "  <tbody>\n",
       "    <tr>\n",
       "      <th>9</th>\n",
       "      <td>-0.238537</td>\n",
       "    </tr>\n",
       "    <tr>\n",
       "      <th>13</th>\n",
       "      <td>0.261881</td>\n",
       "    </tr>\n",
       "    <tr>\n",
       "      <th>131091</th>\n",
       "      <td>0.336439</td>\n",
       "    </tr>\n",
       "    <tr>\n",
       "      <th>19</th>\n",
       "      <td>0.348105</td>\n",
       "    </tr>\n",
       "    <tr>\n",
       "      <th>131111</th>\n",
       "      <td>0.055954</td>\n",
       "    </tr>\n",
       "    <tr>\n",
       "      <th>...</th>\n",
       "      <td>...</td>\n",
       "    </tr>\n",
       "    <tr>\n",
       "      <th>131042</th>\n",
       "      <td>-0.058854</td>\n",
       "    </tr>\n",
       "    <tr>\n",
       "      <th>131057</th>\n",
       "      <td>0.081398</td>\n",
       "    </tr>\n",
       "    <tr>\n",
       "      <th>131062</th>\n",
       "      <td>-0.013368</td>\n",
       "    </tr>\n",
       "    <tr>\n",
       "      <th>262136</th>\n",
       "      <td>0.088756</td>\n",
       "    </tr>\n",
       "    <tr>\n",
       "      <th>131067</th>\n",
       "      <td>-0.652192</td>\n",
       "    </tr>\n",
       "  </tbody>\n",
       "</table>\n",
       "<p>34772 rows × 1 columns</p>\n",
       "</div>"
      ],
      "text/plain": [
       "            uplift\n",
       "phone_id          \n",
       "9        -0.238537\n",
       "13        0.261881\n",
       "131091    0.336439\n",
       "19        0.348105\n",
       "131111    0.055954\n",
       "...            ...\n",
       "131042   -0.058854\n",
       "131057    0.081398\n",
       "131062   -0.013368\n",
       "262136    0.088756\n",
       "131067   -0.652192\n",
       "\n",
       "[34772 rows x 1 columns]"
      ]
     },
     "execution_count": 237,
     "metadata": {},
     "output_type": "execute_result"
    }
   ],
   "source": [
    "uplift_scores = X_val[['phone_id']]\n",
    "uplift_scores.loc[:, 'uplift'] = uplift\n",
    "uplift_scores = uplift_scores.set_index('phone_id').loc[common_id]\n",
    "uplift_scores"
   ]
  },
  {
   "cell_type": "code",
   "execution_count": 238,
   "metadata": {
    "ExecuteTime": {
     "end_time": "2020-10-18T10:12:54.323869Z",
     "start_time": "2020-10-18T10:12:54.320660Z"
    }
   },
   "outputs": [],
   "source": [
    "uplift_scores['churn'] = churn_scores['Predicted']"
   ]
  },
  {
   "cell_type": "code",
   "execution_count": 247,
   "metadata": {
    "ExecuteTime": {
     "end_time": "2020-10-18T10:23:42.281744Z",
     "start_time": "2020-10-18T10:23:42.270289Z"
    }
   },
   "outputs": [
    {
     "data": {
      "text/html": [
       "<div>\n",
       "<style scoped>\n",
       "    .dataframe tbody tr th:only-of-type {\n",
       "        vertical-align: middle;\n",
       "    }\n",
       "\n",
       "    .dataframe tbody tr th {\n",
       "        vertical-align: top;\n",
       "    }\n",
       "\n",
       "    .dataframe thead th {\n",
       "        text-align: right;\n",
       "    }\n",
       "</style>\n",
       "<table border=\"1\" class=\"dataframe\">\n",
       "  <thead>\n",
       "    <tr style=\"text-align: right;\">\n",
       "      <th></th>\n",
       "      <th>uplift</th>\n",
       "      <th>churn</th>\n",
       "    </tr>\n",
       "    <tr>\n",
       "      <th>phone_id</th>\n",
       "      <th></th>\n",
       "      <th></th>\n",
       "    </tr>\n",
       "  </thead>\n",
       "  <tbody>\n",
       "    <tr>\n",
       "      <th>125719</th>\n",
       "      <td>0.909875</td>\n",
       "      <td>0.099326</td>\n",
       "    </tr>\n",
       "    <tr>\n",
       "      <th>127800</th>\n",
       "      <td>0.831282</td>\n",
       "      <td>0.125690</td>\n",
       "    </tr>\n",
       "    <tr>\n",
       "      <th>14379</th>\n",
       "      <td>0.824831</td>\n",
       "      <td>0.070545</td>\n",
       "    </tr>\n",
       "    <tr>\n",
       "      <th>12594</th>\n",
       "      <td>0.787082</td>\n",
       "      <td>0.135029</td>\n",
       "    </tr>\n",
       "    <tr>\n",
       "      <th>18112</th>\n",
       "      <td>0.779619</td>\n",
       "      <td>0.089551</td>\n",
       "    </tr>\n",
       "    <tr>\n",
       "      <th>...</th>\n",
       "      <td>...</td>\n",
       "      <td>...</td>\n",
       "    </tr>\n",
       "    <tr>\n",
       "      <th>104972</th>\n",
       "      <td>-0.940595</td>\n",
       "      <td>0.152659</td>\n",
       "    </tr>\n",
       "    <tr>\n",
       "      <th>101293</th>\n",
       "      <td>-0.943614</td>\n",
       "      <td>0.168952</td>\n",
       "    </tr>\n",
       "    <tr>\n",
       "      <th>165697</th>\n",
       "      <td>-0.955357</td>\n",
       "      <td>0.225342</td>\n",
       "    </tr>\n",
       "    <tr>\n",
       "      <th>103560</th>\n",
       "      <td>-0.956514</td>\n",
       "      <td>0.118846</td>\n",
       "    </tr>\n",
       "    <tr>\n",
       "      <th>109286</th>\n",
       "      <td>-0.960400</td>\n",
       "      <td>0.102591</td>\n",
       "    </tr>\n",
       "  </tbody>\n",
       "</table>\n",
       "<p>34772 rows × 2 columns</p>\n",
       "</div>"
      ],
      "text/plain": [
       "            uplift     churn\n",
       "phone_id                    \n",
       "125719    0.909875  0.099326\n",
       "127800    0.831282  0.125690\n",
       "14379     0.824831  0.070545\n",
       "12594     0.787082  0.135029\n",
       "18112     0.779619  0.089551\n",
       "...            ...       ...\n",
       "104972   -0.940595  0.152659\n",
       "101293   -0.943614  0.168952\n",
       "165697   -0.955357  0.225342\n",
       "103560   -0.956514  0.118846\n",
       "109286   -0.960400  0.102591\n",
       "\n",
       "[34772 rows x 2 columns]"
      ]
     },
     "execution_count": 247,
     "metadata": {},
     "output_type": "execute_result"
    }
   ],
   "source": [
    "uplift_scores.sort_values(by='uplift', ascending=False)"
   ]
  },
  {
   "cell_type": "markdown",
   "metadata": {},
   "source": [
    "### Sort churn + uplift "
   ]
  },
  {
   "cell_type": "code",
   "execution_count": 256,
   "metadata": {
    "ExecuteTime": {
     "end_time": "2020-10-18T10:34:49.505422Z",
     "start_time": "2020-10-18T10:34:49.499094Z"
    }
   },
   "outputs": [],
   "source": [
    "sorted_uplift = uplift_scores.sort_values(by='uplift', ascending=False)"
   ]
  },
  {
   "cell_type": "code",
   "execution_count": 264,
   "metadata": {
    "ExecuteTime": {
     "end_time": "2020-10-18T10:37:16.462724Z",
     "start_time": "2020-10-18T10:37:16.454953Z"
    }
   },
   "outputs": [
    {
     "name": "stdout",
     "output_type": "stream",
     "text": [
      "0\n",
      "3500\n",
      "7000\n",
      "10500\n",
      "14000\n",
      "17500\n",
      "21000\n",
      "24500\n",
      "28000\n",
      "31500\n"
     ]
    }
   ],
   "source": [
    "churn_bins = []\n",
    "for i in range(0, sorted_uplift.shape[0], 3500):\n",
    "    print(i)\n",
    "    churn_bins.append(sorted_uplift.iloc[i : i + 3500]['churn'].mean())"
   ]
  },
  {
   "cell_type": "code",
   "execution_count": null,
   "metadata": {},
   "outputs": [],
   "source": []
  }
 ],
 "metadata": {
  "kernelspec": {
   "display_name": "mts_tv_py36",
   "language": "python",
   "name": "mts_tv_py36"
  },
  "language_info": {
   "codemirror_mode": {
    "name": "ipython",
    "version": 3
   },
   "file_extension": ".py",
   "mimetype": "text/x-python",
   "name": "python",
   "nbconvert_exporter": "python",
   "pygments_lexer": "ipython3",
   "version": "3.6.10"
  }
 },
 "nbformat": 4,
 "nbformat_minor": 4
}
